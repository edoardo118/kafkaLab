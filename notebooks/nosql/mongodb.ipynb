{
 "cells": [
  {
   "cell_type": "markdown",
   "metadata": {},
   "source": [
    "<div style=\"text-align: center; line-height: 0; padding-top: 2px;\">\n",
    "  <img src=\"https://www.quantiaconsulting.com/logos/quantia_logo_orizz.png\" alt=\"Quantia Consulting\" style=\"width: 600px; height: 250px\">\n",
    "</div>"
   ]
  },
  {
   "cell_type": "markdown",
   "metadata": {},
   "source": [
    " # MongoDB \n",
    " \n",
    " In this notebook you will see how to use Python to communicate with MongoDB\n"
   ]
  },
  {
   "cell_type": "code",
   "execution_count": null,
   "metadata": {},
   "outputs": [],
   "source": [
    "from pymongo import MongoClient\n",
    "import pandas as pd\n",
    "import qcutils"
   ]
  },
  {
   "cell_type": "code",
   "execution_count": null,
   "metadata": {},
   "outputs": [],
   "source": [
    "HOST = qcutils.read_config_value(key=\"mongodb.host\", cf_path=\"config/nosql-config.yaml\")\n",
    "PORT = qcutils.read_config_value(key=\"mongodb.port\", cf_path=\"config/nosql-config.yaml\")\n",
    "\n",
    "MONGO_URL = 'mongodb://{}:{}'.format(HOST, PORT)\n",
    "DB_NAME = 'quantia'\n",
    "COLLECTION_NAME = 'tweet'\n",
    "USER = qcutils.read_config_value(key=\"mongodb.username\", cf_path=\"config/nosql-config.yaml\")\n",
    "PASSWORD = qcutils.read_config_value(key=\"mongodb.pwd\", cf_path=\"config/nosql-config.yaml\")"
   ]
  },
  {
   "cell_type": "markdown",
   "metadata": {},
   "source": [
    "## Loading the driver"
   ]
  },
  {
   "cell_type": "code",
   "execution_count": null,
   "metadata": {},
   "outputs": [],
   "source": [
    "client = MongoClient(MONGO_URL, username=USER, password=PASSWORD)\n",
    "db = client[DB_NAME]"
   ]
  },
  {
   "cell_type": "markdown",
   "metadata": {},
   "source": [
    "## Read\n"
   ]
  },
  {
   "cell_type": "markdown",
   "metadata": {},
   "source": [
    "#### Query by MongoDB id\n",
    "\n",
    "Select the tweet saved with the given MongoDB id"
   ]
  },
  {
   "cell_type": "code",
   "execution_count": null,
   "metadata": {},
   "outputs": [],
   "source": [
    "from bson.objectid import ObjectId\n",
    "db[COLLECTION_NAME].find_one({\"_id\":ObjectId(\"5a9d26f8b986449b68b6690e\")})"
   ]
  },
  {
   "cell_type": "markdown",
   "metadata": {},
   "source": [
    "### Query by field value\n",
    "\n",
    "Select all the English tweets"
   ]
  },
  {
   "cell_type": "code",
   "execution_count": null,
   "metadata": {},
   "outputs": [],
   "source": [
    "db[COLLECTION_NAME].find({\"lang\":\"en\"})"
   ]
  },
  {
   "cell_type": "markdown",
   "metadata": {},
   "source": [
    "Mongo returns are cursors over the result set, so we need to parse it to retrieve the data."
   ]
  },
  {
   "cell_type": "code",
   "execution_count": null,
   "metadata": {},
   "outputs": [],
   "source": [
    "# We put :100 to limit the results\n",
    "list(db[COLLECTION_NAME].find({\"lang\":\"en\"})[:100])"
   ]
  },
  {
   "cell_type": "markdown",
   "metadata": {},
   "source": [
    "This is very inefficient, as it loads all the data into an array. However, for sake of time we will use the previous way thorough the notebook\n",
    "\n",
    "The correct way is to iterate over it. \n",
    "\n",
    "In the next cell we will print the first **5** tweets returned by the previous query"
   ]
  },
  {
   "cell_type": "code",
   "execution_count": null,
   "metadata": {},
   "outputs": [],
   "source": [
    "for tweet in db[COLLECTION_NAME].find({\"lang\":\"en\"})[:5]: \n",
    "    print(tweet)"
   ]
  },
  {
   "cell_type": "markdown",
   "metadata": {},
   "source": [
    "We can also load the data in a dataframe"
   ]
  },
  {
   "cell_type": "code",
   "execution_count": null,
   "metadata": {},
   "outputs": [],
   "source": [
    "result = db[COLLECTION_NAME].find({\"lang\":\"en\"})[:10]\n",
    "pd.DataFrame(result)"
   ]
  },
  {
   "cell_type": "markdown",
   "metadata": {},
   "source": [
    "#### Query using **comparison** operators\n",
    "\n",
    "Retrieve the first 100 tweets posted during March 2018\n",
    "\n",
    "You can use the `[:N]` notation as shortcut to define **limits** in the MongoDB query"
   ]
  },
  {
   "cell_type": "code",
   "execution_count": null,
   "metadata": {},
   "outputs": [],
   "source": [
    "from datetime import datetime\n",
    "\n",
    "query = {\n",
    "    \"date\":{\n",
    "    \"$gte\":datetime.strptime(\"2018-03-01T00:00:00\",\"%Y-%m-%dT%H:%M:%S\"),\n",
    "    \"$lt\":datetime.strptime(\"2018-04-01T00:00:00\",\"%Y-%m-%dT%H:%M:%S\"),\n",
    "    }\n",
    "}\n",
    "\n",
    "result = db[COLLECTION_NAME].find(query)[:100]\n",
    "pd.DataFrame(result)"
   ]
  },
  {
   "cell_type": "markdown",
   "metadata": {},
   "source": [
    "Retrieve the first 100 **non-English** tweets posted during March 2018\n"
   ]
  },
  {
   "cell_type": "code",
   "execution_count": null,
   "metadata": {},
   "outputs": [],
   "source": [
    "query = {\n",
    "    \"date\":{\n",
    "    \"$gte\":datetime.strptime(\"2018-03-01T00:00:00\",\"%Y-%m-%dT%H:%M:%S\"),\n",
    "    \"$lt\":datetime.strptime(\"2018-04-01T00:00:00\",\"%Y-%m-%dT%H:%M:%S\"),\n",
    "    },\n",
    "    \"lang\":{\n",
    "        \"$ne\":\"en\"\n",
    "    }\n",
    "}\n",
    "result = db[COLLECTION_NAME].find(query)[:100]\n",
    "pd.DataFrame(result)"
   ]
  },
  {
   "cell_type": "markdown",
   "metadata": {},
   "source": [
    "Retrieve all the tweets that are **not** originating from the United States\n",
    "\n",
    "You can query the embedded fields by using the dot notation"
   ]
  },
  {
   "cell_type": "code",
   "execution_count": null,
   "metadata": {},
   "outputs": [],
   "source": [
    "query = {\n",
    "    \"place.country_code\":{\n",
    "        \"$ne\":\"US\"\n",
    "    }\n",
    "}\n",
    "\n",
    "result = db[COLLECTION_NAME].find(query)[:100]\n",
    "pd.DataFrame(result)"
   ]
  },
  {
   "cell_type": "markdown",
   "metadata": {},
   "source": [
    "Find all the tweets that include at least one link"
   ]
  },
  {
   "cell_type": "code",
   "execution_count": null,
   "metadata": {},
   "outputs": [],
   "source": [
    "query = {\n",
    "    \"entities.urls.1\":{\n",
    "        \"$exists\":True\n",
    "    }\n",
    "}\n",
    "\n",
    "result = db[COLLECTION_NAME].find(query)[:100]\n",
    "pd.DataFrame(result)"
   ]
  },
  {
   "cell_type": "markdown",
   "metadata": {},
   "source": [
    "Mongo allows also to filter the fields you want to retrieve.\n",
    "Now, let's repeat the previous query but keep only the text of the tweet, the date and the location"
   ]
  },
  {
   "cell_type": "code",
   "execution_count": null,
   "metadata": {},
   "outputs": [],
   "source": [
    "query = {\n",
    "    \"place.country_code\":{\n",
    "        \"$ne\":\"US\"\n",
    "    }\n",
    "}\n",
    "\n",
    "fields = {\n",
    "    \"text\":1,\n",
    "    \"date\":1,\n",
    "    \"place.name\":1\n",
    "}\n",
    "\n",
    "result = db[COLLECTION_NAME].find(query,fields)[:100]\n",
    "pd.DataFrame(result)"
   ]
  },
  {
   "cell_type": "markdown",
   "metadata": {},
   "source": [
    "## Insert"
   ]
  },
  {
   "cell_type": "markdown",
   "metadata": {},
   "source": [
    "Insert a new document in the database"
   ]
  },
  {
   "cell_type": "code",
   "execution_count": null,
   "metadata": {},
   "outputs": [],
   "source": [
    "# Here give a unique name to your collection\n",
    "WRITE_COLLECTION_NAME = \"my_tweets\""
   ]
  },
  {
   "cell_type": "code",
   "execution_count": null,
   "metadata": {},
   "outputs": [],
   "source": [
    "new_tweet = {\n",
    "        'created_at': 'Fri Jul 31 15:16:13 +0000 2020',\n",
    "        'id': 1289218313222905860,\n",
    "        'id_str': '1289218313222905860',\n",
    "        'text': 'Nasce FABRE, il Consorzio per la valutazione della sicurezza e il monitoraggio di ponti e viadotti in Italia, volut… https://t.co/BvIs79y61y',\n",
    "        'truncated': True,\n",
    "        'entities': {\n",
    "            'hashtags': [],\n",
    "            'symbols': [],\n",
    "            'user_mentions': [],\n",
    "            'urls': [{\n",
    "                'url': 'https://t.co/BvIs79y61y',\n",
    "                'expanded_url': 'https://twitter.com/i/web/status/1289218313222905860',\n",
    "                'display_url': 'twitter.com/i/web/status/1…',\n",
    "                'indices': [117, 140]\n",
    "            }]\n",
    "        },\n",
    "        'source': '<a href=\"https://mobile.twitter.com\" rel=\"nofollow\">Twitter Web App</a>',\n",
    "        'in_reply_to_status_id': None,\n",
    "        'in_reply_to_status_id_str': None,\n",
    "        'in_reply_to_user_id': None,\n",
    "        'in_reply_to_user_id_str': None,\n",
    "        'in_reply_to_screen_name': None,\n",
    "        'geo': None,\n",
    "        'coordinates': None,\n",
    "        'place': None,\n",
    "        'contributors': None,\n",
    "        'is_quote_status': False,\n",
    "        'retweet_count': 4,\n",
    "        'favorite_count': 26,\n",
    "        'favorited': False,\n",
    "        'retweeted': False,\n",
    "        'possibly_sensitive': False,\n",
    "        'lang': 'it'\n",
    "    }\n",
    "\n"
   ]
  },
  {
   "cell_type": "code",
   "execution_count": null,
   "metadata": {},
   "outputs": [],
   "source": [
    "insert_result = db[WRITE_COLLECTION_NAME].insert_one(new_tweet)"
   ]
  },
  {
   "cell_type": "markdown",
   "metadata": {},
   "source": [
    "Retrieve the **Id** of the inserted document"
   ]
  },
  {
   "cell_type": "code",
   "execution_count": null,
   "metadata": {},
   "outputs": [],
   "source": [
    "insert_result.inserted_id"
   ]
  },
  {
   "cell_type": "markdown",
   "metadata": {},
   "source": [
    "Mongo does not care about the schema. So you can insert incomplete tweets."
   ]
  },
  {
   "cell_type": "code",
   "execution_count": null,
   "metadata": {},
   "outputs": [],
   "source": [
    "incomplete_tweet = {\n",
    "    \"text\":\"Dummy tweet\",\n",
    "    'created_at': 'Fri Jul 31 15:13:13 +0000 2020',\n",
    "    'id': 1289218313222905860,\n",
    "    \"truncated\":False,\n",
    "    'lang': 'it'\n",
    "}"
   ]
  },
  {
   "cell_type": "code",
   "execution_count": null,
   "metadata": {},
   "outputs": [],
   "source": [
    "db[WRITE_COLLECTION_NAME].insert_one(incomplete_tweet)"
   ]
  },
  {
   "cell_type": "markdown",
   "metadata": {},
   "source": [
    "## Update\n",
    "\n",
    "An update is mongo is composed by a query - as in the find operator - and the actual update. The query is used to select which documents you want to modify, like a WHERE clause in SQL."
   ]
  },
  {
   "cell_type": "markdown",
   "metadata": {},
   "source": [
    "Add a boolean field **spam** and set it to true if a tweet text is not in english, is shorter than 20 characters and it wasn't truncated (i.e., the actual text is longer)"
   ]
  },
  {
   "cell_type": "code",
   "execution_count": null,
   "metadata": {},
   "outputs": [],
   "source": [
    "query = {\n",
    "    \"$expr\": { \"$lte\": [ { \"$strLenCP\": \"$text\" }, 20 ] },\n",
    "    \"truncated\":False,\n",
    "    \"lang\":{\n",
    "        \"$ne\":\"en\"\n",
    "    }\n",
    "}\n",
    "\n",
    "update = {\n",
    "    \"$set\":{\n",
    "        \"spam\":True\n",
    "    }\n",
    "}\n",
    "\n",
    "results = db[WRITE_COLLECTION_NAME].update_many(query,update)\n",
    "\n",
    "print(results.matched_count, \"tweets matched the query\")\n",
    "print(results.modified_count, \"tweets were modified\")"
   ]
  },
  {
   "cell_type": "code",
   "execution_count": null,
   "metadata": {},
   "outputs": [],
   "source": [
    "query = {\n",
    "    \"spam\":True\n",
    "}\n",
    "\n",
    "result = db[WRITE_COLLECTION_NAME].find(query)[:100]\n",
    "pd.DataFrame(result)"
   ]
  },
  {
   "cell_type": "markdown",
   "metadata": {},
   "source": [
    "## Delete\n",
    "\n",
    "The delete expects as input a query with the same format as a find()"
   ]
  },
  {
   "cell_type": "markdown",
   "metadata": {},
   "source": [
    "Delete all the tweets with the information about the **user_id** missing"
   ]
  },
  {
   "cell_type": "code",
   "execution_count": null,
   "metadata": {},
   "outputs": [],
   "source": [
    "query = {\n",
    "     \"user_id\":{\n",
    "         \"$exists\":False\n",
    "     }\n",
    "}\n",
    "\n",
    "result = db[WRITE_COLLECTION_NAME].delete_many(query)\n",
    "\n",
    "result.deleted_count"
   ]
  },
  {
   "cell_type": "markdown",
   "metadata": {},
   "source": [
    "## Aggregate Functions"
   ]
  },
  {
   "cell_type": "markdown",
   "metadata": {},
   "source": [
    "Calculate the top 10 tweeting users"
   ]
  },
  {
   "cell_type": "code",
   "execution_count": null,
   "metadata": {},
   "outputs": [],
   "source": [
    "pipeline = [{\n",
    "    \"$group\":{\n",
    "        \"_id\":\"$user_id\",\n",
    "        \"tweet_number\":{\n",
    "            \"$sum\":1\n",
    "        }\n",
    "    }\n",
    "},{\n",
    "    \"$sort\":{\n",
    "        \"tweet_number\":-1\n",
    "    }\n",
    "},{\n",
    "    \"$limit\":10\n",
    "}]\n",
    "\n",
    "result = db[COLLECTION_NAME].aggregate(pipeline)\n",
    "pd.DataFrame(result)"
   ]
  },
  {
   "cell_type": "markdown",
   "metadata": {},
   "source": [
    "Find the top 10 most used hashtag"
   ]
  },
  {
   "cell_type": "code",
   "execution_count": null,
   "metadata": {},
   "outputs": [],
   "source": [
    "pipeline = [{\n",
    "    \"$match\":{\n",
    "        \"entities.hashtags.1\":\n",
    "        {\n",
    "            \"$exists\":True\n",
    "        }\n",
    "    }\n",
    "},{\n",
    "    \"$project\":{\n",
    "        \"hashtag\":\"$entities.hashtags.text\"\n",
    "    }\n",
    "},{\n",
    "    \"$unwind\":\"$hashtag\"\n",
    "},{\n",
    "    \"$group\":{\n",
    "        \"_id\":\"$hashtag\",\n",
    "        \"count\":{\n",
    "            \"$sum\":1\n",
    "        }\n",
    "    }\n",
    "},{\n",
    "    \"$sort\":{\n",
    "        \"count\":-1\n",
    "    }\n",
    "},{\n",
    "    \"$limit\":10\n",
    "}]\n",
    "\n",
    "result = db[COLLECTION_NAME].aggregate(pipeline)\n",
    "pd.DataFrame(result)"
   ]
  },
  {
   "cell_type": "markdown",
   "metadata": {},
   "source": [
    "### Lookup (aka Join)\n",
    "\n",
    "Other information about the users is stored in the **user** collection. In order to combine it with the information in the **tweet** collection we need to join them.\n",
    "\n",
    "Retrieve where the most active user are located."
   ]
  },
  {
   "cell_type": "code",
   "execution_count": null,
   "metadata": {},
   "outputs": [],
   "source": [
    "pipeline = [{\n",
    "    \"$group\":{\n",
    "        \"_id\":\"$user_id\",\n",
    "        \"tweet_number\":{\n",
    "            \"$sum\":1\n",
    "        }\n",
    "    }\n",
    "},{\n",
    "    \"$lookup\":{\n",
    "        \"from\":\"user\",\n",
    "        \"localField\":\"_id\",\n",
    "        \"foreignField\":\"_id\",\n",
    "        \"as\":\"popular_locations\"\n",
    "    }\n",
    "},{\n",
    "    \"$unwind\":\"$popular_locations\"\n",
    "},{\n",
    "    \"$project\":{\n",
    "        \"location\":\"$popular_locations.location\",\n",
    "        \"tweet_number\":1\n",
    "    }\n",
    "},{\n",
    "    \"$match\":{\n",
    "        \"location\":{\n",
    "            \"$ne\":None\n",
    "        }\n",
    "    }\n",
    "},{\n",
    "    \"$group\":{\n",
    "        \"_id\":\"$location\",\n",
    "        \"tweets\":{\n",
    "            \"$sum\":\"$tweet_number\"\n",
    "        },\n",
    "        \"unique_users\":{\n",
    "            \"$sum\":1\n",
    "        }\n",
    "    }\n",
    "},{\n",
    "    \"$sort\":{\n",
    "        \"tweets\":-1\n",
    "    }\n",
    "}]\n",
    "\n",
    "result = db[COLLECTION_NAME].aggregate(pipeline)\n",
    "pd.DataFrame(result)"
   ]
  },
  {
   "cell_type": "markdown",
   "metadata": {},
   "source": [
    "##### ![Quantia Tiny Logo](https://www.quantiaconsulting.com/logos/quantia_logo_tiny.png) 2020 Quantia Consulting, srl. All rights reserved."
   ]
  }
 ],
 "metadata": {
  "kernelspec": {
   "display_name": "Python 3",
   "language": "python",
   "name": "python3"
  },
  "language_info": {
   "codemirror_mode": {
    "name": "ipython",
    "version": 3
   },
   "file_extension": ".py",
   "mimetype": "text/x-python",
   "name": "python",
   "nbconvert_exporter": "python",
   "pygments_lexer": "ipython3",
   "version": "3.8.5"
  }
 },
 "nbformat": 4,
 "nbformat_minor": 4
}
