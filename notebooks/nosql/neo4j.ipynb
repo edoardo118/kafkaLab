{
 "cells": [
  {
   "cell_type": "markdown",
   "metadata": {},
   "source": [
    "<div style=\"text-align: center; line-height: 0; padding-top: 2px;\">\n",
    "  <img src=\"https://www.quantiaconsulting.com/logos/quantia_logo_orizz.png\" alt=\"Quantia Consulting\" style=\"width: 600px; height: 250px\">\n",
    "</div>"
   ]
  },
  {
   "cell_type": "markdown",
   "metadata": {},
   "source": [
    "# Neo4j\n",
    "\n",
    "In this notebook you will see how to intreact with Neo4j using Python\n"
   ]
  },
  {
   "cell_type": "code",
   "execution_count": null,
   "metadata": {},
   "outputs": [],
   "source": [
    "from neo4j import GraphDatabase\n",
    "import pandas as pd\n",
    "import qcutils"
   ]
  },
  {
   "cell_type": "code",
   "execution_count": null,
   "metadata": {},
   "outputs": [],
   "source": [
    "NEO4J_HOST=qcutils.read_config_value(key=\"neo4j.host\", cf_path=\"config/nosql-config.yaml\")\n",
    "NEO4J_PORT=qcutils.read_config_value(key=\"neo4j.port\", cf_path=\"config/nosql-config.yaml\")\n",
    "\n",
    "NEO4J_URL = \"bolt://{}:{}\".format(NEO4J_HOST, NEO4J_PORT)\n",
    "USER = qcutils.read_config_value(key=\"neo4j.username\", cf_path=\"config/nosql-config.yaml\")\n",
    "PASSWORD = qcutils.read_config_value(key=\"neo4j.pwd\", cf_path=\"config/nosql-config.yaml\")"
   ]
  },
  {
   "cell_type": "markdown",
   "metadata": {},
   "source": [
    "## Loading the driver"
   ]
  },
  {
   "cell_type": "code",
   "execution_count": null,
   "metadata": {},
   "outputs": [],
   "source": [
    "driver = GraphDatabase.driver(NEO4J_URL, auth=(USER, PASSWORD))\n",
    "db = driver.session()"
   ]
  },
  {
   "cell_type": "markdown",
   "metadata": {},
   "source": [
    "## Datamodel\n",
    "\n",
    "In this exercise we will make use of this datamodel"
   ]
  },
  {
   "cell_type": "markdown",
   "metadata": {},
   "source": [
    "<div style=\"text-align: center; line-height: 0; padding-top: 2px;\">\n",
    "  <img src=\"img/datamodel_neo4j.png\" alt=\"datamodel\" style=\"width: 600px; height: 250px\">\n",
    "</div>"
   ]
  },
  {
   "cell_type": "markdown",
   "metadata": {},
   "source": [
    "## Read\n"
   ]
  },
  {
   "cell_type": "markdown",
   "metadata": {},
   "source": [
    "#### Query by node property\n",
    "\n",
    "Retrieve all the listings with 2 bedrooms.\n",
    "\n",
    "You can use the **as** keyword in the RETURN statement to create aliases. The result will be a list of **Record**, you can access to their fields in the same way you access to Python dictionaries."
   ]
  },
  {
   "cell_type": "code",
   "execution_count": null,
   "metadata": {},
   "outputs": [],
   "source": [
    "query = \"\"\"MATCH (l:Listing {bedrooms:1}) \n",
    "RETURN l.name as name, l.listing_id as id, l.property_type as type\n",
    "\"\"\"\n",
    "\n",
    "results = db.run(query)\n",
    "\n",
    "for r in results:\n",
    "    print(r[\"name\"])"
   ]
  },
  {
   "cell_type": "markdown",
   "metadata": {},
   "source": [
    "To better visualize the results we can load them in a DataFrame. \n",
    "\n",
    "Notice we need to perform again the query because iterating over a Neo4J Result exhaust it."
   ]
  },
  {
   "cell_type": "code",
   "execution_count": null,
   "metadata": {},
   "outputs": [],
   "source": [
    "query = \"\"\"MATCH (l:Listing {bedrooms:2}) \n",
    "RETURN l.name as name, l.listing_id as id, l.property_type as type\n",
    "\"\"\"\n",
    "\n",
    "results = db.run(query)\n",
    "\n",
    "df = pd.DataFrame([r.values() for r in results], columns=results.keys())\n",
    "df.head()"
   ]
  },
  {
   "cell_type": "markdown",
   "metadata": {},
   "source": [
    "#### Query using **comparison** operators\n",
    "\n",
    "Retrieve all the listings having 2 bedrooms with price lower than 300$. Here we need to use the **WHERE** keyword."
   ]
  },
  {
   "cell_type": "code",
   "execution_count": null,
   "metadata": {},
   "outputs": [],
   "source": [
    "query = \"\"\"MATCH (l:Listing) \n",
    "WHERE l.bedrooms = 2 AND l.price <=300\n",
    "RETURN l.name as name, l.listing_id as id, l.property_type as type, l.price as price\n",
    "\"\"\"\n",
    "\n",
    "results = db.run(query)\n",
    "\n",
    "df = pd.DataFrame([r.values() for r in results], columns=results.keys())\n",
    "df.head()"
   ]
  },
  {
   "cell_type": "markdown",
   "metadata": {},
   "source": [
    "## Query by navigating the graph\n",
    "\n",
    "Give a listing id, retrieve all the amenities it has "
   ]
  },
  {
   "cell_type": "code",
   "execution_count": null,
   "metadata": {},
   "outputs": [],
   "source": [
    "query = \"\"\"MATCH (l:Listing {listing_id: '8210932'}) -[:HAS]-> (r:Amenity) \n",
    "RETURN r.name as name\n",
    "\"\"\"\n",
    "\n",
    "results = db.run(query)\n",
    "\n",
    "df = pd.DataFrame([r.values() for r in results], columns=results.keys())\n",
    "df.head()"
   ]
  },
  {
   "cell_type": "markdown",
   "metadata": {},
   "source": [
    "Retrieve the 10 most popular neigborhood - i.e., the neighborhoods that have the most listings"
   ]
  },
  {
   "cell_type": "code",
   "execution_count": null,
   "metadata": {},
   "outputs": [],
   "source": [
    "query = \"\"\"MATCH (l:Listing)-[r:IN_NEIGHBORHOOD]->(n:Neighborhood) \n",
    "WITH n, count(l) as listing_number\n",
    "ORDER BY listing_number DESC LIMIT 10 \n",
    "RETURN n.neighborhood_id as id ,n.name as name ,listing_number \n",
    "\"\"\"\n",
    "\n",
    "results = db.run(query)\n",
    "\n",
    "df = pd.DataFrame([r.values() for r in results], columns=results.keys())\n",
    "df"
   ]
  },
  {
   "cell_type": "markdown",
   "metadata": {},
   "source": [
    "Repeat the query, but now consider the most popular neighborhood the ones having the most reivews"
   ]
  },
  {
   "cell_type": "code",
   "execution_count": null,
   "metadata": {},
   "outputs": [],
   "source": [
    "query = \"\"\"MATCH (l:Listing)-[r_n:IN_NEIGHBORHOOD]->(n:Neighborhood) \n",
    "MATCH (r:Review) -[r_r:REVIEWS]-> (l:Listing)\n",
    "WITH n, count(r) as review_number\n",
    "ORDER BY review_number DESC LIMIT 10 \n",
    "RETURN n.neighborhood_id,n.name,review_number\n",
    "\"\"\"\n",
    "\n",
    "results = db.run(query)\n",
    "\n",
    "df = pd.DataFrame([r.values() for r in results], columns=results.keys())\n",
    "df"
   ]
  },
  {
   "cell_type": "markdown",
   "metadata": {},
   "source": [
    "Retrieve the 10 users who wrote most of the reveiws"
   ]
  },
  {
   "cell_type": "code",
   "execution_count": null,
   "metadata": {},
   "outputs": [],
   "source": [
    "query = \"\"\"MATCH (u:User)-[:WROTE]->(r:Review)\n",
    "WITH u, count(r) AS reviews_number\n",
    "ORDER BY reviews_number DESC LIMIT 10\n",
    "RETURN u.name as name , u.user_id as user_id, reviews_number\"\"\"\n",
    "\n",
    "results = db.run(query)\n",
    "\n",
    "df = pd.DataFrame([r.values() for r in results], columns=results.keys())\n",
    "df"
   ]
  },
  {
   "cell_type": "markdown",
   "metadata": {},
   "source": [
    "## Insert"
   ]
  },
  {
   "cell_type": "markdown",
   "metadata": {},
   "source": [
    "Insert a new Listing node in the graph "
   ]
  },
  {
   "cell_type": "code",
   "execution_count": null,
   "metadata": {},
   "outputs": [],
   "source": [
    "def create_listing(tx,node):\n",
    "    query = \"\"\"CREATE (l:Listing { \n",
    "    bedrooms: $bedrooms , \n",
    "    price: $price, \n",
    "    accomodates:$accomodates,\n",
    "    property_type:$property_type,\n",
    "    availability: $availability}\n",
    "    ) \n",
    "    RETURN id(l) AS node_id\"\"\"\n",
    "    \n",
    "    result = tx.run(query,bedrooms=node[\"bedrooms\"],\n",
    "                price=node[\"price\"],\n",
    "                accomodates=node[\"accomodates\"],\n",
    "                property_type=node[\"property_type\"],\n",
    "                availability=node[\"availability\"])\n",
    "\n",
    "    record = result.single()\n",
    "    return record[\"node_id\"]"
   ]
  },
  {
   "cell_type": "code",
   "execution_count": null,
   "metadata": {},
   "outputs": [],
   "source": [
    "listing = {\n",
    "    \"bedrooms\":1,\n",
    "    \"price\":200,\n",
    "    \"accomodates\":1,\n",
    "    \"name\":\"Simple and cozy apartement - Andrea\",\n",
    "    \"property_type\":\"House\",\n",
    "    \"availability\":231\n",
    "}\n",
    "\n",
    "listing_id = db.write_transaction(create_listing,listing)"
   ]
  },
  {
   "cell_type": "code",
   "execution_count": null,
   "metadata": {},
   "outputs": [],
   "source": [
    "listing_id"
   ]
  },
  {
   "cell_type": "markdown",
   "metadata": {},
   "source": [
    "Connect the Listing just inserted with the Host with id 377044  and Neighborhood with id 78739"
   ]
  },
  {
   "cell_type": "code",
   "execution_count": null,
   "metadata": {},
   "outputs": [],
   "source": [
    "def connect_listing(tx,l_id):\n",
    "    query = \"\"\"MATCH (h:Host {host_id:\"377044\"})\n",
    "    MATCH (n:Neighborhood {neighborhood_id:\"78739\"})\n",
    "    MATCH (l:Listing) WHERE id(l)=$id\n",
    "    CREATE (l)-[rel_n:IN_NEIGHBORHOOD]->(n)\n",
    "    CREATE (h)-[rel_h:HOSTS]->(l)\n",
    "    RETURN id(rel_n),id(rel_h)\"\"\"\n",
    "    \n",
    "    result = tx.run(query,id=l_id)\n",
    "    \n",
    "    return result"
   ]
  },
  {
   "cell_type": "code",
   "execution_count": null,
   "metadata": {},
   "outputs": [],
   "source": [
    "db.write_transaction(connect_listing,listing_id)"
   ]
  },
  {
   "cell_type": "code",
   "execution_count": null,
   "metadata": {},
   "outputs": [],
   "source": [
    "query = \"\"\"MATCH (h:Host) -[:HOSTS]-> (l:Listing{}) -[:IN_NEIGHBORHOOD]-> (n:Neighborhood)\n",
    "WHERE id(l) = $l_id\n",
    "return id(h),id(n)\n",
    "\"\"\"\n",
    "\n",
    "results = db.run(query,l_id=listing_id)\n",
    "\n",
    "df = pd.DataFrame([r.values() for r in results], columns=results.keys())\n",
    "df"
   ]
  },
  {
   "cell_type": "markdown",
   "metadata": {},
   "source": [
    "We could have done it all together using a transaction"
   ]
  },
  {
   "cell_type": "markdown",
   "metadata": {},
   "source": [
    "## Update\n",
    "\n",
    "Updates in Neo4J works by first **matching** the nodes or relations, and then using the **SET** keyword to modify a field or creating a new one."
   ]
  },
  {
   "cell_type": "markdown",
   "metadata": {},
   "source": [
    "Change the type of the Listing you just inserted to Apartment"
   ]
  },
  {
   "cell_type": "code",
   "execution_count": null,
   "metadata": {},
   "outputs": [],
   "source": [
    "def change_type(tx,l_id):\n",
    "    query = \"\"\"MATCH (l:Listing) WHERE id(l)=$id\n",
    "               SET l.property_type = \"Apartement\"\n",
    "               RETURN l\n",
    "            \"\"\"\n",
    "    result = tx.run(query,id=l_id)\n",
    "    return result.single()"
   ]
  },
  {
   "cell_type": "code",
   "execution_count": null,
   "metadata": {},
   "outputs": [],
   "source": [
    "listing = db.write_transaction(change_type,listing_id)\n",
    "df = pd.DataFrame([listing[0].values()], columns=listing[0].keys())\n",
    "df"
   ]
  },
  {
   "cell_type": "markdown",
   "metadata": {},
   "source": [
    "You can add a filed by using the **SET** command"
   ]
  },
  {
   "cell_type": "code",
   "execution_count": null,
   "metadata": {},
   "outputs": [],
   "source": [
    "def add_field(tx,l_id):\n",
    "    query = \"\"\"MATCH (l:Listing) WHERE id(l)=$id\n",
    "               SET l.new_field = \"value\"\n",
    "               RETURN l\n",
    "            \"\"\"\n",
    "    result = tx.run(query,id=l_id)\n",
    "    return result.single()"
   ]
  },
  {
   "cell_type": "code",
   "execution_count": null,
   "metadata": {},
   "outputs": [],
   "source": [
    "listing = db.write_transaction(add_field,listing_id)\n",
    "df = pd.DataFrame([listing[0].values()], columns=listing[0].keys())\n",
    "df"
   ]
  },
  {
   "cell_type": "markdown",
   "metadata": {},
   "source": [
    "You can remove a field by either using the **REMOVE** command or setting it to null"
   ]
  },
  {
   "cell_type": "code",
   "execution_count": null,
   "metadata": {},
   "outputs": [],
   "source": [
    "def remove_field(tx,l_id):\n",
    "    query = \"\"\"MATCH (l:Listing) WHERE id(l)=$id\n",
    "               SET l.new_field = null\n",
    "               RETURN l\n",
    "            \"\"\"\n",
    "    \n",
    "    # Uncomment this to try it\n",
    "    #query = \"\"\"MATCH (l:Listing) WHERE id(l)=$id\n",
    "    #           REMOVE l.new_field\n",
    "    #           RETURN l\n",
    "    #        \"\"\"\n",
    "    \n",
    "    result = tx.run(query,id=l_id)\n",
    "    return result.single()"
   ]
  },
  {
   "cell_type": "code",
   "execution_count": null,
   "metadata": {},
   "outputs": [],
   "source": [
    "listing = db.write_transaction(remove_field,listing_id)\n",
    "df = pd.DataFrame([listing[0].values()], columns=listing[0].keys())\n",
    "df"
   ]
  },
  {
   "cell_type": "markdown",
   "metadata": {},
   "source": [
    "## Delete\n",
    "\n",
    "The delete expects as input a **MATCH** to select the nodes to delete. If the node(s) have relations, you need also to use the **DETACH** keyword."
   ]
  },
  {
   "cell_type": "markdown",
   "metadata": {},
   "source": [
    "Delete the node you inserted"
   ]
  },
  {
   "cell_type": "code",
   "execution_count": null,
   "metadata": {},
   "outputs": [],
   "source": [
    "def remove_nodes(tx,l_id):\n",
    "    query = \"\"\"MATCH (l:Listing) WHERE id(l)=$id\n",
    "               DETACH DELETE l\n",
    "            \"\"\"\n",
    "    result = tx.run(query,id=l_id)\n",
    "    return result"
   ]
  },
  {
   "cell_type": "code",
   "execution_count": null,
   "metadata": {},
   "outputs": [],
   "source": [
    "db.write_transaction(remove_nodes,listing_id)\n",
    "df = pd.DataFrame([listing[0].values()], columns=listing[0].keys())\n",
    "df"
   ]
  },
  {
   "cell_type": "markdown",
   "metadata": {},
   "source": [
    "You can delete duplicates (both nodes and relations) by using the **MERGE** keyword \n",
    "\n",
    "The following cells create a duplicate node"
   ]
  },
  {
   "cell_type": "code",
   "execution_count": null,
   "metadata": {},
   "outputs": [],
   "source": [
    "def create_duplicate_listing(tx,node):\n",
    "    query = \"\"\"CREATE (l:Listing { \n",
    "    bedrooms: $bedrooms , \n",
    "    price: $price, \n",
    "    accomodates:$accomodates,\n",
    "    property_type:$property_type,\n",
    "    availability: $availability}\n",
    "    ) \n",
    "    RETURN id(l) AS node_id\"\"\"\n",
    "    \n",
    "    result = tx.run(query,bedrooms=node[\"bedrooms\"],\n",
    "                price=node[\"price\"],\n",
    "                accomodates=node[\"accomodates\"],\n",
    "                property_type=node[\"property_type\"],\n",
    "                availability=node[\"availability\"])\n",
    "\n",
    "    record = result.single()\n",
    "    return record[\"node_id\"]"
   ]
  },
  {
   "cell_type": "code",
   "execution_count": null,
   "metadata": {},
   "outputs": [],
   "source": [
    "# Put as name something unique for you\n",
    "\n",
    "listing = {\n",
    "    \"bedrooms\":1,\n",
    "    \"price\":200,\n",
    "    \"accomodates\":1,\n",
    "    \"name\":\"Duplicate house\",\n",
    "    \"property_type\":\"House\",\n",
    "    \"availability\":231\n",
    "}\n",
    "\n",
    "listing_id_1 = db.write_transaction(create_listing,listing)\n",
    "listing_id_2 = db.write_transaction(create_listing,listing)"
   ]
  },
  {
   "cell_type": "markdown",
   "metadata": {},
   "source": [
    "Now, we merge all the nodes having the name \"Duplicate house\""
   ]
  },
  {
   "cell_type": "code",
   "execution_count": null,
   "metadata": {},
   "outputs": [],
   "source": [
    "def merge(tx):\n",
    "    query = \"\"\"MERGE (l:Listing {name:\"Duplicate house\"})\n",
    "    RETURN l\n",
    "    \"\"\"\n",
    "    \n",
    "    result = tx.run(query)\n",
    "\n",
    "    record = result.single()\n",
    "    return record"
   ]
  },
  {
   "cell_type": "code",
   "execution_count": null,
   "metadata": {},
   "outputs": [],
   "source": [
    "results = db.write_transaction(merge)\n",
    "\n",
    "df = pd.DataFrame([results[0].values()], columns=results[0].keys())\n",
    "df"
   ]
  },
  {
   "cell_type": "markdown",
   "metadata": {},
   "source": [
    "## Interesting Queries"
   ]
  },
  {
   "cell_type": "markdown",
   "metadata": {},
   "source": [
    "Given a user - Christopher with user_id '26763569' - use his past review to select the listing that is most likely to like (i.e., they contain the same amenities)"
   ]
  },
  {
   "cell_type": "code",
   "execution_count": null,
   "metadata": {},
   "outputs": [],
   "source": [
    "query = \"\"\"MATCH (u:User {user_id: \"26763569\"})-[:WROTE]->(r:Review)-[:REVIEWS]->(l:Listing)-[:HAS]->(a:Amenity)\n",
    "WITH COLLECT(DISTINCT l) as reviewed\n",
    "MATCH (a)<-[:HAS]-(rec:Listing)\n",
    "WHERE NOT rec IN reviewed\n",
    "RETURN rec.listing_id, rec.name, COUNT(DISTINCT a) AS score ORDER BY score DESC LIMIT 10\n",
    "\"\"\"\n",
    "\n",
    "results = db.run(query)\n",
    "\n",
    "df = pd.DataFrame([r.values() for r in results], columns=results.keys())\n",
    "df"
   ]
  },
  {
   "cell_type": "markdown",
   "metadata": {},
   "source": [
    "Repeat the query, considering also the location of the listing as feature (i.e., limit the reccomendation only to listing located where Cristopher stayed before)"
   ]
  },
  {
   "cell_type": "code",
   "execution_count": null,
   "metadata": {},
   "outputs": [],
   "source": [
    "query = \"\"\"MATCH (u:User {user_id: \"26763569\"})-[:WROTE]->(r:Review)-[:REVIEWS]->(l:Listing)-[:IN_NEIGHBORHOOD]->(n:Neighborhood)\n",
    "WITH u, l, COLLECT(DISTINCT n) AS neighborhoods, COLLECT(DISTINCT l) as reviewed\n",
    "MATCH (u:User {user_id: \"26763569\"})-[:WROTE]->(r:Review)-[:REVIEWS]->(l:Listing)-[:HAS]->(a:Amenity)\n",
    "MATCH (rec)-[:IN_NEIGHBORHOOD]->(n:Neighborhood)\n",
    "MATCH (a)<-[:HAS]-(rec:Listing)\n",
    "WHERE NOT rec IN reviewed\n",
    "WITH rec, n, neighborhoods, COUNT(DISTINCT a) AS score WHERE n IN neighborhoods\n",
    "RETURN rec.listing_id, rec.name, score ORDER BY score DESC LIMIT 10\n",
    "\"\"\"\n",
    "\n",
    "results = db.run(query)\n",
    "\n",
    "df = pd.DataFrame([r.values() for r in results], columns=results.keys())\n",
    "df"
   ]
  },
  {
   "cell_type": "markdown",
   "metadata": {},
   "source": [
    "##### ![Quantia Tiny Logo](https://www.quantiaconsulting.com/logos/quantia_logo_tiny.png) 2020 Quantia Consulting, srl. All rights reserved."
   ]
  }
 ],
 "metadata": {
  "kernelspec": {
   "display_name": "Python 3",
   "language": "python",
   "name": "python3"
  },
  "language_info": {
   "codemirror_mode": {
    "name": "ipython",
    "version": 3
   },
   "file_extension": ".py",
   "mimetype": "text/x-python",
   "name": "python",
   "nbconvert_exporter": "python",
   "pygments_lexer": "ipython3",
   "version": "3.8.5"
  }
 },
 "nbformat": 4,
 "nbformat_minor": 4
}
