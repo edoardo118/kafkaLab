{
 "cells": [
  {
   "cell_type": "markdown",
   "metadata": {},
   "source": [
    "<div style=\"text-align: center; line-height: 0; padding-top: 2px;\">\n",
    "  <img src=\"https://www.quantiaconsulting.com/logos/quantia_logo_orizz.png\" alt=\"Quantia Consulting\" style=\"width: 600px; height: 250px\">\n",
    "</div>"
   ]
  },
  {
   "cell_type": "markdown",
   "metadata": {},
   "source": [
    "# Elasticsearch\n",
    "\n",
    "In this notebook you will see how to interact with Elasticsearch using Python.\n",
    "\n",
    "In general, the **elasticsearch** module functions as a wrapper around the REST API."
   ]
  },
  {
   "cell_type": "code",
   "execution_count": null,
   "metadata": {},
   "outputs": [],
   "source": [
    "from elasticsearch import Elasticsearch\n",
    "import pandas as pd\n",
    "import qcutils"
   ]
  },
  {
   "cell_type": "code",
   "execution_count": null,
   "metadata": {},
   "outputs": [],
   "source": [
    "HOST = qcutils.read_config_value(key=\"es.host\", cf_path=\"config/nosql-config.yaml\")\n",
    "PORT = qcutils.read_config_value(key=\"es.port\", cf_path=\"config/nosql-config.yaml\")\n",
    "\n",
    "COMPLETE_HOST = \"{}:{}\".format(HOST, PORT)\n",
    "USER = qcutils.read_config_value(key=\"es.username\", cf_path=\"config/nosql-config.yaml\")\n",
    "PASSWORD = qcutils.read_config_value(key=\"es.pwd\", cf_path=\"config/nosql-config.yaml\")"
   ]
  },
  {
   "cell_type": "markdown",
   "metadata": {},
   "source": [
    "## Load the driver"
   ]
  },
  {
   "cell_type": "code",
   "execution_count": null,
   "metadata": {},
   "outputs": [],
   "source": [
    "es = Elasticsearch([COMPLETE_HOST],http_auth=(USER, PASSWORD))"
   ]
  },
  {
   "cell_type": "markdown",
   "metadata": {},
   "source": [
    "Let's make a test call to check the health of your cluster"
   ]
  },
  {
   "cell_type": "code",
   "execution_count": null,
   "metadata": {},
   "outputs": [],
   "source": [
    "es.cluster.health()"
   ]
  },
  {
   "cell_type": "markdown",
   "metadata": {},
   "source": [
    "## Create Index and insert a document"
   ]
  },
  {
   "cell_type": "markdown",
   "metadata": {},
   "source": [
    "To create a index we need to pass the mapping - unless we want to use the dynamic mapping features of Elasticsearch. Remember you **CANNOT** modify a mapping of an index if there are already documents."
   ]
  },
  {
   "cell_type": "code",
   "execution_count": null,
   "metadata": {},
   "outputs": [],
   "source": [
    "index_configuration = {\n",
    "    \"mappings\":{\n",
    "          \"properties\": {\n",
    "            \"author\": {\n",
    "              \"type\": \"keyword\"\n",
    "            },\n",
    "            \"categories\": {\n",
    "              \"type\": \"keyword\"\n",
    "            },\n",
    "            \"date\": {\n",
    "              \"type\": \"date\",\n",
    "              \"format\": \"YYYY-MM-dd\"\n",
    "            },\n",
    "            \"lang\": {\n",
    "              \"type\": \"keyword\"\n",
    "            },\n",
    "            \"title\": {\n",
    "              \"type\": \"text\",\n",
    "              \"analyzer\": \"english\"\n",
    "            }\n",
    "          }\n",
    "      }\n",
    "    }\n"
   ]
  },
  {
   "cell_type": "code",
   "execution_count": null,
   "metadata": {},
   "outputs": [],
   "source": [
    "# Select a unique name for your index\n",
    "INDEX_NAME = \"my_index\""
   ]
  },
  {
   "cell_type": "code",
   "execution_count": null,
   "metadata": {},
   "outputs": [],
   "source": [
    "\n",
    "es.indices.create(INDEX_NAME,index_configuration)"
   ]
  },
  {
   "cell_type": "markdown",
   "metadata": {},
   "source": [
    "Insert a document in the index"
   ]
  },
  {
   "cell_type": "code",
   "execution_count": null,
   "metadata": {},
   "outputs": [],
   "source": [
    "document = {\n",
    "    \"author\":\"Andrea\",\n",
    "    \"categories\":[\"tutorial\",\"python\",\"elasticsearch\",\"jupyter notebook\"],\n",
    "    \"title\":\"How to use Elasticsearch from a Jupyter Notebook\",\n",
    "    \"date\":\"2020-10-14\",\n",
    "    \"lang\":\"en-US\"\n",
    "}"
   ]
  },
  {
   "cell_type": "code",
   "execution_count": null,
   "metadata": {},
   "outputs": [],
   "source": [
    "response = es.index(INDEX_NAME, body=document)"
   ]
  },
  {
   "cell_type": "markdown",
   "metadata": {},
   "source": [
    "Now e can retrieve the same document with the id"
   ]
  },
  {
   "cell_type": "code",
   "execution_count": null,
   "metadata": {},
   "outputs": [],
   "source": [
    "es.get(INDEX_NAME,response[\"_id\"])"
   ]
  },
  {
   "cell_type": "markdown",
   "metadata": {},
   "source": [
    "## Modify a document\n",
    "\n",
    "You can modify a document using the id"
   ]
  },
  {
   "cell_type": "code",
   "execution_count": null,
   "metadata": {},
   "outputs": [],
   "source": [
    "edit = { \n",
    "    \"doc\":{\n",
    "        \"title\":\"Learn how to use Elasticsearch with Python\"\n",
    "    }\n",
    "}"
   ]
  },
  {
   "cell_type": "code",
   "execution_count": null,
   "metadata": {},
   "outputs": [],
   "source": [
    "es.update(INDEX_NAME,id=response[\"_id\"],body=edit)"
   ]
  },
  {
   "cell_type": "code",
   "execution_count": null,
   "metadata": {},
   "outputs": [],
   "source": [
    "es.get(INDEX_NAME,response[\"_id\"])"
   ]
  },
  {
   "cell_type": "markdown",
   "metadata": {},
   "source": [
    "## Delete a document\n",
    "\n",
    "To delete a document you can simply pass the id using the **delete** method or using a query with the **delete_by_query** method."
   ]
  },
  {
   "cell_type": "code",
   "execution_count": null,
   "metadata": {},
   "outputs": [],
   "source": [
    "es.delete(INDEX_NAME,id=response[\"_id\"])"
   ]
  },
  {
   "cell_type": "code",
   "execution_count": null,
   "metadata": {},
   "outputs": [],
   "source": [
    "## We are re-inserting the document to demonstrate the other method\n",
    "response = es.index(INDEX_NAME, body=document)"
   ]
  },
  {
   "cell_type": "code",
   "execution_count": null,
   "metadata": {},
   "outputs": [],
   "source": [
    "query = {\n",
    "    \"query\":{\n",
    "        \"term\": {\n",
    "            \"author\": \"Andrea\"\n",
    "            }\n",
    "        }\n",
    "}\n",
    "\n",
    "es.delete_by_query(INDEX_NAME,body=query)"
   ]
  },
  {
   "cell_type": "markdown",
   "metadata": {},
   "source": [
    "## Search documents"
   ]
  },
  {
   "cell_type": "markdown",
   "metadata": {},
   "source": [
    "For this part we will use the *logstash-0* index that contains HTTP traffic log of a web application. The log contains event happening events from 2020-10-14T00:00:00Z to 2020-10-22T23:59:59Z "
   ]
  },
  {
   "cell_type": "code",
   "execution_count": null,
   "metadata": {},
   "outputs": [],
   "source": [
    "# The documents in the index have many more fields, for sake of simplicity we will limit \n",
    "# to the follwing. Feel free to changhe the list.\n",
    "\n",
    "fields = [\"hits.hits._source.@timestamp\",\"hits.hits._source.geo\",\"hits.hits._source.agent\"\n",
    "          ,\"hits.hits._source.ip\",\"hits.hits._source.extension\",\"hits.hits._source.response\",\n",
    "          \"hits.hits._source.request\",\"hits.hits._source.machine\",\"hits.hits._score\",\n",
    "         \"hits.hits._source.@message\"]"
   ]
  },
  {
   "cell_type": "code",
   "execution_count": null,
   "metadata": {},
   "outputs": [],
   "source": [
    "es.search(index=\"logstash-0\")"
   ]
  },
  {
   "cell_type": "code",
   "execution_count": null,
   "metadata": {},
   "outputs": [],
   "source": [
    "def to_dataframe(results):\n",
    "    res = list(map(lambda x: x[\"_source\"],results))\n",
    "\n",
    "    return pd.DataFrame(res)"
   ]
  },
  {
   "cell_type": "markdown",
   "metadata": {},
   "source": [
    "Let's use a function to put the results in a Panda dataframe"
   ]
  },
  {
   "cell_type": "code",
   "execution_count": null,
   "metadata": {},
   "outputs": [],
   "source": [
    "results = es.search(index=\"logstash-0\",filter_path=fields)\n",
    "\n",
    "to_dataframe(results[\"hits\"][\"hits\"])\n",
    "\n"
   ]
  },
  {
   "cell_type": "markdown",
   "metadata": {},
   "source": [
    "Select all the event happening on the 15th of October"
   ]
  },
  {
   "cell_type": "code",
   "execution_count": null,
   "metadata": {},
   "outputs": [],
   "source": [
    "query = {\n",
    "    \"query\":{\n",
    "        \"range\": {\n",
    "            \"@timestamp\": {\n",
    "                \"gte\": \"2020-10-15T00:00:00.000\",\n",
    "                \"lt\": \"2020-10-16T00:00:00.000\"\n",
    "                }\n",
    "            }\n",
    "        }\n",
    "    }\n",
    "\n",
    "results = es.search(index=\"logstash-0\",body=query,filter_path=fields)\n",
    "\n",
    "to_dataframe(results[\"hits\"][\"hits\"])"
   ]
  },
  {
   "cell_type": "markdown",
   "metadata": {},
   "source": [
    "Retrieve all the request that caused error."
   ]
  },
  {
   "cell_type": "code",
   "execution_count": null,
   "metadata": {},
   "outputs": [],
   "source": [
    "query = {\n",
    "  \"query\": {\n",
    "    \"bool\": {\n",
    "      \"must_not\": {\n",
    "        \"term\": {\n",
    "            \"response\":200\n",
    "        }\n",
    "      }\n",
    "    }\n",
    "  }\n",
    "}\n",
    "\n",
    "results = es.search(index=\"logstash-0\",body=query,filter_path=fields)\n",
    "\n",
    "to_dataframe(results[\"hits\"][\"hits\"])"
   ]
  },
  {
   "cell_type": "markdown",
   "metadata": {},
   "source": [
    "Select all the traffic generated by Safari browser"
   ]
  },
  {
   "cell_type": "code",
   "execution_count": null,
   "metadata": {},
   "outputs": [],
   "source": [
    "query = {\n",
    "  \"query\": {\n",
    "    \"match\": {\n",
    "      \"agent\": {\n",
    "        \"query\": \"safari\"\n",
    "      }\n",
    "    }\n",
    "  }\n",
    "}\n",
    "\n",
    "results = es.search(index=\"logstash-0\",body=query,filter_path=fields)\n",
    "\n",
    "to_dataframe(results[\"hits\"][\"hits\"])"
   ]
  },
  {
   "cell_type": "markdown",
   "metadata": {},
   "source": [
    "Select all the the traffic generated by Safari, but give more relevance to mobile devices. By putting the **should** condition, you give more **relevance** to iOS devices while not excluding the others."
   ]
  },
  {
   "cell_type": "code",
   "execution_count": null,
   "metadata": {},
   "outputs": [],
   "source": [
    "query = {\n",
    "  \"query\": {\n",
    "      \"bool\":{\n",
    "          \"must\":[{\n",
    "              \"match\":{\n",
    "                  \"agent\":\"safari\"\n",
    "              }}],\n",
    "          \"should\":{\n",
    "              \"term\":{\n",
    "                  \"machine.os\":\"ios\"\n",
    "              }\n",
    "          }\n",
    "      }\n",
    "  }\n",
    "}\n",
    "\n",
    "results = es.search(index=\"logstash-0\",body=query,filter_path=fields)\n",
    "\n",
    "to_dataframe(results[\"hits\"][\"hits\"])"
   ]
  },
  {
   "cell_type": "markdown",
   "metadata": {},
   "source": [
    "### Geo Query"
   ]
  },
  {
   "cell_type": "markdown",
   "metadata": {},
   "source": [
    "Select all the traffic generated from Canada. "
   ]
  },
  {
   "cell_type": "code",
   "execution_count": null,
   "metadata": {},
   "outputs": [],
   "source": [
    "import json\n",
    "\n",
    "canada_file = \"data/canada.json\"\n",
    "\n",
    "json_data = open(canada_file,'r')\n",
    "canada = json.load(json_data)[\"features\"][0][\"geometry\"][\"coordinates\"]\n",
    "\n",
    "query = {\n",
    "  \"query\": {\n",
    "    \"bool\": {\n",
    "      \"must\": {\n",
    "        \"match_all\": {}\n",
    "      },\n",
    "      \"filter\": {\n",
    "        \"geo_shape\": {\n",
    "          \"geo.coordinates\": {\n",
    "            \"shape\":{\n",
    "                \"type\":\"multipolygon\",\n",
    "                \"coordinates\":canada\n",
    "            },\n",
    "               \"relation\": \"INTERSECTS\"\n",
    "        }\n",
    "      }\n",
    "    }\n",
    "  }\n",
    "}\n",
    "}\n",
    "\n",
    "results = es.search(index=\"logstash-0\",body=query,filter_path=fields)\n",
    "\n",
    "to_dataframe(results[\"hits\"][\"hits\"])\n",
    "\n"
   ]
  },
  {
   "cell_type": "markdown",
   "metadata": {},
   "source": [
    "## Aggregations"
   ]
  },
  {
   "cell_type": "markdown",
   "metadata": {},
   "source": [
    "Find from which countries most of the traffic is generated from"
   ]
  },
  {
   "cell_type": "code",
   "execution_count": null,
   "metadata": {},
   "outputs": [],
   "source": [
    "query = {\n",
    "  \"aggs\" : {\n",
    "    \"country_count\" : { \"terms\" : { \"field\" : \"geo.src\" } }\n",
    "  }\n",
    "}\n",
    "\n",
    "results = es.search(index=\"logstash-0\",body=query ,size=0)\n",
    "\n",
    "\n",
    "pd.DataFrame(results[\"aggregations\"][\"country_count\"][\"buckets\"])"
   ]
  },
  {
   "cell_type": "markdown",
   "metadata": {},
   "source": [
    "You can use the geo centroid aggregation to add the inforation about the actual location"
   ]
  },
  {
   "cell_type": "code",
   "execution_count": null,
   "metadata": {},
   "outputs": [],
   "source": [
    "query = {\n",
    "  \"aggs\": {\n",
    "    \"cities\": {\n",
    "      \"terms\": { \"field\": \"geo.src\" },\n",
    "      \"aggs\": {\n",
    "        \"centroid\": {\n",
    "          \"geo_centroid\": { \"field\": \"geo.coordinates\" }\n",
    "        }\n",
    "      }\n",
    "    }\n",
    "  }\n",
    "}\n",
    "\n",
    "results = es.search(index=\"logstash-0\",body=query ,size=0)\n",
    "\n",
    "mapped = list(map(lambda x: {\"country\":x[\"key\"],\"count\":x[\"doc_count\"],\n",
    "                             \"lat\":x[\"centroid\"][\"location\"][\"lat\"],\n",
    "                             \"lon\":x[\"centroid\"][\"location\"][\"lon\"]},\n",
    "                             results[\"aggregations\"][\"cities\"][\"buckets\"]))\n",
    "pd.DataFrame(mapped)\n"
   ]
  },
  {
   "cell_type": "markdown",
   "metadata": {},
   "source": [
    "Find which operative system have the most errors"
   ]
  },
  {
   "cell_type": "code",
   "execution_count": null,
   "metadata": {},
   "outputs": [],
   "source": [
    "query = {\n",
    "  \"query\": {\n",
    "    \"bool\": {\n",
    "      \"must_not\": {\n",
    "        \"term\": {\n",
    "            \"response\":\"200\"\n",
    "        }\n",
    "      }\n",
    "    }\n",
    "  },\n",
    "  \"aggs\":{\n",
    "      \"os_count\" : { \"terms\" : { \"field\" : \"machine.os.keyword\" } }\n",
    "  }\n",
    "}\n",
    "\n",
    "results = es.search(index=\"logstash-0\",body=query ,size=0)\n",
    "\n",
    "\n",
    "pd.DataFrame(results[\"aggregations\"][\"os_count\"][\"buckets\"])"
   ]
  },
  {
   "cell_type": "markdown",
   "metadata": {},
   "source": [
    "Daily number of errors by os"
   ]
  },
  {
   "cell_type": "code",
   "execution_count": null,
   "metadata": {},
   "outputs": [],
   "source": [
    "query = {\n",
    "     \"query\": {\n",
    "    \"bool\": {\n",
    "      \"must_not\": {\n",
    "        \"term\": {\n",
    "            \"response\":\"200\"\n",
    "        }\n",
    "      }\n",
    "    }},\n",
    "  \"aggs\": {\n",
    "    \"errors_over_time\": {\n",
    "      \"date_histogram\": {\n",
    "        \"field\": \"@timestamp\",\n",
    "        \"calendar_interval\": \"day\"\n",
    "      },\n",
    "      \"aggs\":{\n",
    "          \"errors_by_os\":{\n",
    "              \"terms\":{\n",
    "                  \"field\":\"machine.os.keyword\"\n",
    "              },\n",
    "              \"aggs\":{\n",
    "              \"type_of_errors\":{\n",
    "                  \"terms\":{\n",
    "                      \"field\":\"response.keyword\"\n",
    "                  }\n",
    "              }\n",
    "          }\n",
    "          }\n",
    "      }\n",
    "    }\n",
    "  }\n",
    "}\n",
    "\n",
    "\n",
    "\n",
    "results = es.search(index=\"logstash-0\",body=query ,size=0)"
   ]
  },
  {
   "cell_type": "code",
   "execution_count": null,
   "metadata": {},
   "outputs": [],
   "source": [
    "data = []\n",
    "\n",
    "for r in results[\"aggregations\"][\"errors_over_time\"][\"buckets\"]:\n",
    "    day = r[\"key_as_string\"]\n",
    "    \n",
    "    \n",
    "    for os in r[\"errors_by_os\"][\"buckets\"]:\n",
    "        day_data = {\n",
    "            \"day\":day\n",
    "        }\n",
    "        os_name = os[\"key\"]\n",
    "        \n",
    "        day_data[\"os_name\"] = os_name\n",
    "        \n",
    "        for error in os[\"type_of_errors\"][\"buckets\"]:\n",
    "            err = error[\"key\"]\n",
    "            count = error[\"doc_count\"]\n",
    "            \n",
    "            day_data[err] = count\n",
    "    \n",
    "        data.append(day_data)\n",
    "\n",
    "df = pd.DataFrame(data).fillna(0)\n",
    "df"
   ]
  },
  {
   "cell_type": "markdown",
   "metadata": {},
   "source": [
    "Now you can plot one chart for each day"
   ]
  },
  {
   "cell_type": "code",
   "execution_count": null,
   "metadata": {},
   "outputs": [],
   "source": [
    "df.groupby([\"day\"]).plot.bar(x=\"os_name\")"
   ]
  },
  {
   "cell_type": "code",
   "execution_count": null,
   "metadata": {},
   "outputs": [],
   "source": [
    "table = pd.pivot_table(df,values=[\"404\",\"503\"],index=[\"day\"],columns=\"os_name\").fillna(0)\n",
    "\n",
    "table[\"404\"].plot.bar()\n",
    "table[\"503\"].plot.bar()"
   ]
  },
  {
   "cell_type": "markdown",
   "metadata": {},
   "source": [
    "##### ![Quantia Tiny Logo](https://www.quantiaconsulting.com/logos/quantia_logo_tiny.png) 2020 Quantia Consulting, srl. All rights reserved."
   ]
  }
 ],
 "metadata": {
  "kernelspec": {
   "display_name": "Python 3",
   "language": "python",
   "name": "python3"
  },
  "language_info": {
   "codemirror_mode": {
    "name": "ipython",
    "version": 3
   },
   "file_extension": ".py",
   "mimetype": "text/x-python",
   "name": "python",
   "nbconvert_exporter": "python",
   "pygments_lexer": "ipython3",
   "version": "3.8.5"
  }
 },
 "nbformat": 4,
 "nbformat_minor": 4
}
