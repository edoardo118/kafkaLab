{
 "cells": [
  {
   "cell_type": "markdown",
   "metadata": {},
   "source": [
    "<div style=\"text-align: center; line-height: 0; padding-top: 9px;\">\n",
    "  <img src=\"https://www.quantiaconsulting.com/logos/quantia_logo_orizz.png\" alt=\"Databricks Learning\" style=\"width: 600px; height: 240px\">\n",
    "</div>"
   ]
  },
  {
   "cell_type": "markdown",
   "metadata": {},
   "source": [
    "# ![Spark Logo Tiny](https://www.quantiaconsulting.com/logos/logo_spark_tiny.png) Touching Spark - Part 1 - Lab"
   ]
  },
  {
   "cell_type": "markdown",
   "metadata": {},
   "source": [
    "## Analyzing the Wikipedia PageCounts with RDDs\n",
    "### Technical Accomplishments:\n",
    "\n",
    "* Learn how to use the following RDD actions: `count`, `take`, `takeSample`, `collect`\n",
    "* Learn the following RDD transformations: `filter`, `map`, `groupByKey`, `reduceByKey`, `sortBy`\n",
    "* Learn how to convert your RDD code to Datasets\n",
    "* Learn how to cache an RDD and view its number of partitions and total size in memory"
   ]
  },
  {
   "cell_type": "markdown",
   "metadata": {},
   "source": [
    "## Getting Started\n",
    "\n",
    "Let's start Creating SparkSession and useful variables"
   ]
  },
  {
   "cell_type": "code",
   "execution_count": null,
   "metadata": {},
   "outputs": [],
   "source": [
    "%load_ext autotime"
   ]
  },
  {
   "cell_type": "code",
   "execution_count": null,
   "metadata": {},
   "outputs": [],
   "source": [
    "import os\n",
    "import qcutils\n",
    "from pyspark.sql import SparkSession\n",
    "import boto3\n",
    "import io\n",
    "\n",
    "baseUri = \"s3a://quantia-master/training/\"\n",
    "\n",
    "os.environ['PYSPARK_SUBMIT_ARGS'] = '--packages com.amazonaws:aws-java-sdk:1.7.4,org.apache.hadoop:hadoop-aws:2.7.5 pyspark-shell'\n",
    "\n",
    "spark = (SparkSession.builder \n",
    "    .master(\"local[*]\")\n",
    "    .appName(\"test\")\n",
    "    .getOrCreate()\n",
    "        )\n",
    "qcutils.init_spark_session(spark)\n",
    "\n",
    "sc = spark.sparkContext\n",
    "\n",
    "spark"
   ]
  },
  {
   "cell_type": "code",
   "execution_count": null,
   "metadata": {},
   "outputs": [],
   "source": [
    "qcutils.print_s3_bucket_object(key='training/wikipedia_pagecount.tsv')"
   ]
  },
  {
   "cell_type": "markdown",
   "metadata": {},
   "source": [
    "## Data Ingestion\n",
    "\n",
    "For this lab we will use the file `wikipedia_pagecount.tsv` \n",
    "\n",
    "This file contains recent web traffic data to Wikipedia, that is less than 1 hour old. It captures 1 hour of page counts to all of Wikipedia languages and projects.\n",
    "\n",
    "In each line, the first column (like `en`) is the Wikimedia project name. The following abbreviations are used for the first column:\n",
    "```\n",
    "wikipedia mobile: \".mw\"\n",
    "wiktionary: \".d\"\n",
    "wikibooks: \".b\"\n",
    "wikimedia: \".m\"\n",
    "wikinews: \".n\"\n",
    "wikiquote: \".q\"\n",
    "wikisource: \".s\"\n",
    "wikiversity: \".v\"\n",
    "mediawiki: \".w\"\n",
    "```\n",
    "\n",
    "Projects without a period and a following character are Wikipedia projects. So, any line starting with the column `en` refers to the English language Wikipedia (and can be requests from either a mobile or desktop client).\n",
    "\n",
    "There will only be one line starting with the column `en.mw`, which will have a total count of the number of requests to English language Wikipedia's mobile edition. \n",
    "\n",
    "`en.d` refers to English language Wiktionary. \n",
    "\n",
    "`fr` is French Wikipedia. There are over 290 language possibilities.\n",
    "\n",
    "Read it as a text file in RDD"
   ]
  },
  {
   "cell_type": "code",
   "execution_count": null,
   "metadata": {},
   "outputs": [],
   "source": [
    "wpc = sc.textFile(baseUri+\"wikipedia_pagecount.tsv\")\n",
    "\n",
    "wpc.cache().count()"
   ]
  },
  {
   "cell_type": "markdown",
   "metadata": {},
   "source": [
    "## Business Questions\n",
    "\n",
    "Try to answer the following question:\n",
    "\n",
    "* Question # 1) How many unique articles in English Wikipedia were requested in the past hour?\n",
    "* Question # 2) How many requests total did English Wikipedia get in the past hour?\n",
    "* Question # 3) How many requests total did each Wikipedia project get total during this hour?\n",
    "\n",
    "[Pyspark API reference](https://spark.apache.org/docs/2.4.5/api/python/pyspark.html)\n",
    "\n",
    "[RDD API reference](https://spark.apache.org/docs/2.4.5/api/python/pyspark.html#pyspark.RDD)"
   ]
  },
  {
   "cell_type": "markdown",
   "metadata": {},
   "source": [
    "## Preliminary Work\n",
    "\n",
    "Before working on the question, some preliminary works need to be done.\n",
    "\n",
    "We ingested a text file, we need to create a data structure taht can be querable:\n",
    "\n",
    "0. Look into the RDD\n",
    "    * Can you see a common separator?\n",
    "0. Change content of each lines in order to ease the following work\n",
    "    * Can you split the content of the lines in a smart way?\n",
    "0. Remove lines that not fit the \"schema\"\n",
    "    * Is there and header in the content?\n",
    "    * Can you remove it?"
   ]
  },
  {
   "cell_type": "markdown",
   "metadata": {},
   "source": [
    "##### ![Quantia Tiny Logo](https://www.quantiaconsulting.com/logos/quantia_logo_tiny.png) 2020 Quantia Consulting, srl. All rights reserved."
   ]
  }
 ],
 "metadata": {
  "kernelspec": {
   "display_name": "Python 3",
   "language": "python",
   "name": "python3"
  },
  "language_info": {
   "codemirror_mode": {
    "name": "ipython",
    "version": 3
   },
   "file_extension": ".py",
   "mimetype": "text/x-python",
   "name": "python",
   "nbconvert_exporter": "python",
   "pygments_lexer": "ipython3",
   "version": "3.7.6"
  }
 },
 "nbformat": 4,
 "nbformat_minor": 4
}
