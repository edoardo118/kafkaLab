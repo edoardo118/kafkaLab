{
 "cells": [
  {
   "cell_type": "markdown",
   "metadata": {},
   "source": [
    "<div style=\"text-align: center; line-height: 0; padding-top: 9px;\">\n",
    "  <img src=\"https://www.quantiaconsulting.com/logos/quantia_logo_orizz.png\" alt=\"Databricks Learning\" style=\"width: 600px; height: 240px\">\n",
    "</div>"
   ]
  },
  {
   "cell_type": "markdown",
   "metadata": {},
   "source": [
    "# ![Spark Logo Tiny](https://www.quantiaconsulting.com/logos/logo_spark_tiny.png) Touching Spark - Part 2 - Exploring T&As in the Spark UI"
   ]
  },
  {
   "cell_type": "markdown",
   "metadata": {},
   "source": [
    "## Getting Started\n",
    "\n",
    "Let's start Creating SparkSession and useful variables"
   ]
  },
  {
   "cell_type": "code",
   "execution_count": null,
   "metadata": {},
   "outputs": [],
   "source": [
    "%load_ext autotime"
   ]
  },
  {
   "cell_type": "code",
   "execution_count": null,
   "metadata": {},
   "outputs": [],
   "source": [
    "import os\n",
    "import qcutils\n",
    "from pyspark.sql import SparkSession\n",
    "import boto3\n",
    "import io\n",
    "from pyspark.sql.types import *\n",
    "from pyspark.sql.functions import *\n",
    "\n",
    "baseUri = \"s3a://quantia-master/training/\"\n",
    "\n",
    "os.environ['PYSPARK_SUBMIT_ARGS'] = '--packages com.amazonaws:aws-java-sdk:1.7.4,org.apache.hadoop:hadoop-aws:2.7.5 pyspark-shell'\n",
    "\n",
    "spark = (SparkSession.builder \n",
    "    .master(\"local[*]\")\n",
    "    .appName(\"test\")\n",
    "    .getOrCreate()\n",
    "        )\n",
    "qcutils.init_spark_session(spark)\n",
    "\n",
    "spark"
   ]
  },
  {
   "cell_type": "markdown",
   "metadata": {},
   "source": [
    "## ![Spark Logo Tiny](https://www.quantiaconsulting.com/logos/logo_spark_tiny.png) Instructions\n",
    "0. Run the cell below.\n",
    "0. Answer each of the questions.\n",
    "  * All the answers can be found in the **Spark UI**.\n",
    "  * All aspects of the **Spark UI** may or may not have been reviewed with you - that's OK.\n",
    "  * The goal is to get familiar with diagnosing applications.\n",
    "0. Submit your answers for review.\n",
    "\n",
    "**NOTE:** There is no real rhyme or reason to this code. It simply includes a couple of actions and a handful of narrow and wide transformations.\n",
    "\n",
    "**WARNING:** Run the following cell only once. Running it multiple times will change some of the answers and make validation a little harder."
   ]
  },
  {
   "cell_type": "markdown",
   "metadata": {},
   "source": [
    "## ![Spark Logo Tiny](https://www.quantiaconsulting.com/logos/logo_spark_tiny.png) Data Ingestion"
   ]
  },
  {
   "cell_type": "code",
   "execution_count": null,
   "metadata": {},
   "outputs": [],
   "source": [
    "from pyspark.sql.functions import *\n",
    "from pyspark.sql.types import *\n",
    "\n",
    "initialDF = (spark                                                       \n",
    "  .read                                                                     \n",
    "  .parquet(baseUri+\"wikipedia_pagecount_clean.parquet\")   \n",
    "  .cache()\n",
    ")\n",
    "initialDF.foreach(lambda x: None) # materialize the cache"
   ]
  },
  {
   "cell_type": "markdown",
   "metadata": {},
   "source": [
    "## ![Spark Logo Tiny](https://www.quantiaconsulting.com/logos/logo_spark_tiny.png) Round #1 Questions\n",
    "1. How many jobs were triggered?\n",
    "1. Open the Spark UI and select the **Jobs** tab.\n",
    "  1. What action triggered the first job?\n",
    "  1. What action triggered the second job?\n",
    "1. Open the details for the second job, how many MB of data was read in? Hint: Look at the **Input** column.\n",
    "1. Open the details for the first stage of the second job, how many records were read in? Hint: Look at the **Input Size / Records** column.\n",
    "1. Open the **SQL** tab\n",
    "  1. How many stages are there for the job? Check the **DAG Visualization**\n",
    "1. For the second job, the second stage, how many records (total) \n",
    "  1. How many stages are there?\n",
    "  1. Open the **DAG Visualization**. Why do you suppose the first stage is grey?\n",
    "1. Open the **Event Timeline** for the second stage of the second job.\n",
    "  * Make sure to turn on all metrics under **Show Additional Metrics**.\n",
    "  * Note that there were 200 tasks executed."
   ]
  },
  {
   "cell_type": "markdown",
   "metadata": {},
   "source": [
    "Let's move on..."
   ]
  },
  {
   "cell_type": "code",
   "execution_count": null,
   "metadata": {},
   "outputs": [],
   "source": [
    "someDF = (initialDF\n",
    "  .withColumn(\"first\", upper( col(\"article\").substr(0,1)) )\n",
    "  .where( col(\"first\").isin(\"A\",\"B\",\"C\",\"D\",\"E\",\"F\",\"G\",\"H\",\"I\",\"J\",\"K\",\"L\",\"M\",\"N\",\"O\",\"P\",\"Q\",\"R\",\"S\",\"T\",\"U\",\"V\",\"W\",\"X\",\"Y\",\"Z\") )\n",
    "  .groupBy(\"project\", \"first\").sum()\n",
    "  .drop(\"sum(bytes_served)\")\n",
    "  .orderBy(\"first\", \"project\")\n",
    "  .select( col(\"first\"), col(\"project\"), col(\"sum(requests)\").alias(\"total\"))\n",
    "  .filter( col(\"total\") > 10000)\n",
    ")\n",
    "\n",
    "total = someDF.count()"
   ]
  },
  {
   "cell_type": "markdown",
   "metadata": {},
   "source": [
    "## ![Spark Logo Tiny](https://www.quantiaconsulting.com/logos/logo_spark_tiny.png) Round #2 Questions\n",
    "1. <div style=\"text-decoration:line-through\">How many jobs were triggered?</div>\n",
    "1. <div style=\"text-decoration:line-through\">Open the Spark UI and select the **Jobs** tab.</div>\n",
    "\n",
    "  1. <div style=\"text-decoration:line-through\">What action triggered the first job?</div>\n",
    "  1. <div style=\"text-decoration:line-through\">What action triggered the second job?</div>\n",
    "1. <div style=\"text-decoration:line-through\">Open the details for the second job, how many MB of data was read in? Hint: Look at the **Input** column.</div>\n",
    "1. <div style=\"text-decoration:line-through\">Open the details for the first stage of the second job, how many records were read in? Hint: Look at the **Input Size / Records** column.</div>\n",
    "1. Open the **SQL** tab\n",
    "  1. How many stages are there for the job? Check the **DAG Visualization**\n",
    "1. For the second job, the second stage, how many records (total) \n",
    "  1. How many stages are there?\n",
    "  1. Open the **DAG Visualization**. Why do you suppose the first stage is grey?\n",
    "1. Open the **Event Timeline** for the second stage of the second job.\n",
    "  * Make sure to turn on all metrics under **Show Additional Metrics**.\n",
    "  * Note that there were 200 tasks executed."
   ]
  },
  {
   "cell_type": "code",
   "execution_count": null,
   "metadata": {},
   "outputs": [],
   "source": [
    "someDF.take(total)"
   ]
  },
  {
   "cell_type": "markdown",
   "metadata": {},
   "source": [
    "## ![Spark Logo Tiny](https://www.quantiaconsulting.com/logos/logo_spark_tiny.png) (Optional) Round #3 Questions\n",
    "1. Collectively, `someDF.count()` produced 2 jobs and 6 stages.  \n",
    "However, `someDF.take(total)` produced only 1 job and 2 stages.  \n",
    "  1. Why did it only produce 1 job?\n",
    "  1. Why did the last job only produce 2 stages?\n",
    "1. Look at the **Storage** tab. How many partitions were cached?\n",
    "1. How many MB of data is being used by our cache?\n",
    "1. How many total MB of data is available for caching?"
   ]
  },
  {
   "cell_type": "markdown",
   "metadata": {},
   "source": [
    "##### ![Quantia Tiny Logo](https://www.quantiaconsulting.com/logos/quantia_logo_tiny.png) 2020 Quantia Consulting, srl. All rights reserved."
   ]
  }
 ],
 "metadata": {
  "kernelspec": {
   "display_name": "Python 3",
   "language": "python",
   "name": "python3"
  },
  "language_info": {
   "codemirror_mode": {
    "name": "ipython",
    "version": 3
   },
   "file_extension": ".py",
   "mimetype": "text/x-python",
   "name": "python",
   "nbconvert_exporter": "python",
   "pygments_lexer": "ipython3",
   "version": "3.7.6"
  },
  "name": "Transformations And Actions Lab",
  "notebookId": 422093619120240
 },
 "nbformat": 4,
 "nbformat_minor": 4
}
