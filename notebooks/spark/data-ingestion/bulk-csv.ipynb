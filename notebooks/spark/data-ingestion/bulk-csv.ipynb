{
 "cells": [
  {
   "cell_type": "markdown",
   "metadata": {},
   "source": [
    "<div style=\"text-align: center; line-height: 0; padding-top: 2px;\">\n",
    "  <img src=\"https://www.quantiaconsulting.com/logos/quantia_logo_orizz.png\" alt=\"Quantia Consulting\" style=\"width: 600px; height: 250px\">\n",
    "</div>"
   ]
  },
  {
   "cell_type": "markdown",
   "metadata": {},
   "source": [
    "# ![Spark Logo Tiny](https://www.quantiaconsulting.com/logos/logo_spark_tiny.png) Reading Data with Spark - CSV Files\n",
    "\n",
    "**Technical Accomplishments:**\n",
    "- Start working with the API documentation\n",
    "- Introduce the class `DataFrameReader`\n",
    "- Read data from:\n",
    "  * CSV without a Schema.\n",
    "  * CSV with a Schema."
   ]
  },
  {
   "cell_type": "markdown",
   "metadata": {},
   "source": [
    "## Getting Started\n",
    "\n",
    "Let's start importing libraries and creating useful variables "
   ]
  },
  {
   "cell_type": "code",
   "execution_count": null,
   "metadata": {},
   "outputs": [],
   "source": [
    "%load_ext autotime\n",
    "\n",
    "import os\n",
    "import qcutils\n",
    "from pyspark.sql import SparkSession\n",
    "import boto3\n",
    "import io\n",
    "\n",
    "baseUri = \"s3a://quantia-master/training/\"\n",
    "\n",
    "os.environ['PYSPARK_SUBMIT_ARGS'] = '--packages com.amazonaws:aws-java-sdk:1.7.4,org.apache.hadoop:hadoop-aws:2.7.5 pyspark-shell'\n",
    "\n",
    "spark = (SparkSession.builder \n",
    "    .master(\"local[*]\")\n",
    "    .appName(\"test\")\n",
    "    .getOrCreate()\n",
    "        )\n",
    "qcutils.init_spark_session(spark)\n",
    "\n",
    "spark"
   ]
  },
  {
   "cell_type": "markdown",
   "metadata": {},
   "source": [
    "## Reading from CSV w/InferSchema\n",
    "\n",
    "We are going to start by reading in a very simple text file."
   ]
  },
  {
   "cell_type": "markdown",
   "metadata": {},
   "source": [
    "### The Data Source\n",
    "* For this exercise, we will be using a tab-separated file called **wikipedia_pageviews_by_second.tsv** (<a href=\"https://datahub.io/en/dataset/english-wikipedia-pageviews-by-second\" target=\"_blank\">255 MB</a> file from Wikipedia)"
   ]
  },
  {
   "cell_type": "code",
   "execution_count": null,
   "metadata": {},
   "outputs": [],
   "source": [
    "qcutils.list_s3_bucket_objects(limit=10)"
   ]
  },
  {
   "cell_type": "code",
   "execution_count": null,
   "metadata": {},
   "outputs": [],
   "source": [
    "qcutils.print_s3_bucket_object(key='training/wikipedia_pageviews_by_second.tsv')"
   ]
  },
  {
   "cell_type": "markdown",
   "metadata": {},
   "source": [
    "We can use `qcutils.print_s3_bucket_object(...)` to peek at the first couple thousand characters of the file."
   ]
  },
  {
   "cell_type": "markdown",
   "metadata": {},
   "source": [
    "There are a couple of things to note here:\n",
    "* The file has a header.\n",
    "* The file is tab separated (we can infer that from the file extension and the lack of other characters between each \"column\").\n",
    "* The first two columns are strings and the third is a number.\n",
    "\n",
    "Knowing those details, we can read in the \"CSV\" file."
   ]
  },
  {
   "cell_type": "markdown",
   "metadata": {},
   "source": [
    "### Step #1 - Read The CSV File\n",
    "Let's start with the bare minimum by specifying the tab character as the delimiter and the location of the file:"
   ]
  },
  {
   "cell_type": "code",
   "execution_count": null,
   "metadata": {},
   "outputs": [],
   "source": [
    "# A reference to our tab-seperated-file\n",
    "csvFile = baseUri + \"wikipedia_pageviews_by_second.tsv\"\n",
    "\n",
    "tempDF = (spark.read           # The DataFrameReader\n",
    "   .option(\"sep\", \"\\t\")        # Use tab delimiter (default is comma-separator)\n",
    "   .csv(csvFile)               # Creates a DataFrame from CSV after reading in the file\n",
    ")"
   ]
  },
  {
   "cell_type": "code",
   "execution_count": null,
   "metadata": {},
   "outputs": [],
   "source": [
    "tempDF"
   ]
  },
  {
   "cell_type": "markdown",
   "metadata": {},
   "source": [
    "This is guaranteed to <u>trigger one job</u>.\n",
    "\n",
    "A *Job* is triggered anytime we are \"physically\" __required to touch the data__.\n",
    "\n",
    "In some cases, __one action may create multiple jobs__ (multiple reasons to touch the data).\n",
    "\n",
    "In this case, the reader has to __\"peek\" at the first line__ of the file to determine how many columns of data we have."
   ]
  },
  {
   "cell_type": "markdown",
   "metadata": {},
   "source": [
    "We can see the structure of the `DataFrame` by executing the command `printSchema()`\n",
    "\n",
    "It prints to the console the name of each column, its data type and if it's null or not.\n",
    "\n",
    "**Note:** We will be covering the other `DataFrame` functions in other notebooks."
   ]
  },
  {
   "cell_type": "code",
   "execution_count": null,
   "metadata": {},
   "outputs": [],
   "source": [
    "tempDF.printSchema()"
   ]
  },
  {
   "cell_type": "markdown",
   "metadata": {},
   "source": [
    "We can see from the schema that...\n",
    "* there are three columns\n",
    "* the column names **_c0**, **_c1**, and **_c2** (automatically generated names)\n",
    "* all three columns are **strings**\n",
    "* all three columns are **nullable**\n",
    "\n",
    "And if we take a quick peek at the data, we can see that line #1 contains the headers and not data:"
   ]
  },
  {
   "cell_type": "code",
   "execution_count": null,
   "metadata": {},
   "outputs": [],
   "source": [
    "tempDF.show(5)"
   ]
  },
  {
   "cell_type": "markdown",
   "metadata": {},
   "source": [
    "### Step #2 - Use the File's Header\n",
    "Next, we can add an option that tells the reader that the data contains a header and to use that header to determine our column names.\n",
    "\n",
    "** *NOTE:* ** *We know we have a header based on what we can see in \"head\" of the file from earlier.*"
   ]
  },
  {
   "cell_type": "code",
   "execution_count": null,
   "metadata": {},
   "outputs": [],
   "source": [
    "tempDF2 = (spark.read                    # The DataFrameReader\n",
    "   .option(\"sep\", \"\\t\")        # Use tab delimiter (default is comma-separator)\n",
    "   .option(\"header\", \"true\")   # Use first line of all files as header\n",
    "   .csv(csvFile)               # Creates a DataFrame from CSV after reading in the file\n",
    ")"
   ]
  },
  {
   "cell_type": "code",
   "execution_count": null,
   "metadata": {},
   "outputs": [],
   "source": [
    "tempDF2.printSchema()"
   ]
  },
  {
   "cell_type": "markdown",
   "metadata": {},
   "source": [
    "A couple of notes about this iteration:\n",
    "* again, only one job\n",
    "* there are three columns\n",
    "* all three columns are **strings**\n",
    "* all three columns are **nullable**\n",
    "* the column names are specified: **timestamp**, **site**, and **requests** (the change we were looking for)\n",
    "\n",
    "A \"peek\" at the first line of the file is all that the reader needs to determine the number of columns and the name of each column.\n",
    "\n",
    "Before going on, make a note of the duration of the previous call - it should be just under 3 seconds."
   ]
  },
  {
   "cell_type": "markdown",
   "metadata": {},
   "source": [
    "### Step #3 - Infer the Schema\n",
    "\n",
    "Lastly, we can add an option that tells the reader to infer each column's data type (aka the schema)"
   ]
  },
  {
   "cell_type": "code",
   "execution_count": null,
   "metadata": {},
   "outputs": [],
   "source": [
    "(spark.read                        # The DataFrameReader\n",
    "   .option(\"header\", \"true\")       # Use first line of all files as header\n",
    "   .option(\"sep\", \"\\t\")            # Use tab delimiter (default is comma-separator)\n",
    "   .option(\"inferSchema\", \"true\")  # Automatically infer data types\n",
    "   .csv(csvFile)                   # Creates a DataFrame from CSV after reading in the file\n",
    "   .printSchema()\n",
    ")"
   ]
  },
  {
   "cell_type": "markdown",
   "metadata": {},
   "source": [
    "### Review: Reading CSV w/InferSchema\n",
    "* we still have three columns\n",
    "* all three columns are still **nullable**\n",
    "* all three columns have their proper names\n",
    "* two jobs were executed (not one as in the previous example)\n",
    "* our three columns now have distinct data types:\n",
    "  * **timestamp** == **timestamp**\n",
    "  * **site** == **string**\n",
    "  * **requests** == **integer**\n",
    "\n",
    "**Question:** Why were there two jobs?\n",
    "\n",
    "**Question:** How long did the last job take?\n",
    "\n",
    "**Question:** Why did it take so much longer?\n",
    "\n",
    "Discuss..."
   ]
  },
  {
   "cell_type": "markdown",
   "metadata": {},
   "source": [
    "## Reading from CSV w/User-Defined Schema\n",
    "\n",
    "This time we are going to read the same file.\n",
    "\n",
    "The difference here is that we are going to define the schema beforehand and hopefully avoid the execution of any extra jobs."
   ]
  },
  {
   "cell_type": "markdown",
   "metadata": {},
   "source": [
    "### Step #1\n",
    "Declare the schema.\n",
    "\n",
    "This is just a list of field names and data types."
   ]
  },
  {
   "cell_type": "code",
   "execution_count": null,
   "metadata": {},
   "outputs": [],
   "source": [
    "# Required for StructField, StringType, IntegerType, etc.\n",
    "from pyspark.sql.types import *\n",
    "\n",
    "csvSchema = StructType([\n",
    "  StructField(\"timestamp\", StringType(), nullable=False),\n",
    "  StructField(\"site\", StringType(), nullable=False),\n",
    "  StructField(\"requests\", IntegerType(), nullable=False)\n",
    "])"
   ]
  },
  {
   "cell_type": "markdown",
   "metadata": {},
   "source": [
    "### Step #2\n",
    "Read in our data (and print the schema).\n",
    "\n",
    "We can specify the schema, or rather the `StructType`, with the `schema(..)` command:"
   ]
  },
  {
   "cell_type": "code",
   "execution_count": null,
   "metadata": {},
   "outputs": [],
   "source": [
    "tempDF3 = (spark.read                   # The DataFrameReader\n",
    "  .option('header', 'true')   # Ignore line #1 - it's a header\n",
    "  .option('sep', \"\\t\")        # Use tab delimiter (default is comma-separator)\n",
    "  .schema(csvSchema)          # Use the specified schema\n",
    "  .csv(csvFile)               # Creates a DataFrame from CSV after reading in the file\n",
    ")"
   ]
  },
  {
   "cell_type": "code",
   "execution_count": null,
   "metadata": {},
   "outputs": [],
   "source": [
    "tempDF3.printSchema()"
   ]
  },
  {
   "cell_type": "code",
   "execution_count": null,
   "metadata": {},
   "outputs": [],
   "source": [
    "tempDF3.show(5)"
   ]
  },
  {
   "cell_type": "markdown",
   "metadata": {},
   "source": [
    "### Review: Reading CSV w/ User-Defined Schema\n",
    "* We still have three columns\n",
    "* All three columns are **NOT** nullable because we declared them as such.\n",
    "* All three columns have their proper names\n",
    "* Zero jobs were executed\n",
    "* Our three columns now have distinct data types:\n",
    "  * **timestamp** == **string**\n",
    "  * **site** == **string**\n",
    "  * **requests** == **integer**\n",
    "\n",
    "**Question:** What is different about the data types of these columns compared to the previous exercise & why?\n",
    "\n",
    "**Question:** Do I need to indicate that the file has a header?\n",
    "\n",
    "**Question:** Do the declared column names need to match the columns in the header of the TSV file?\n",
    "\n",
    "Discuss..."
   ]
  },
  {
   "cell_type": "markdown",
   "metadata": {},
   "source": [
    "For a list of all the options related to reading CSV files, please see the documentation for `DataFrameReader.csv(..)`"
   ]
  },
  {
   "cell_type": "markdown",
   "metadata": {},
   "source": [
    "### A note on the time to count and sum requests when the source is a Parquet file"
   ]
  },
  {
   "cell_type": "code",
   "execution_count": null,
   "metadata": {},
   "outputs": [],
   "source": [
    "spark.read.option('header', 'true').option('sep', \"\\t\").schema(csvSchema).csv(csvFile).count()"
   ]
  },
  {
   "cell_type": "markdown",
   "metadata": {},
   "source": [
    "It took approximately 3 sec. Take a note. We will see the difference in reading a Parquet file."
   ]
  },
  {
   "cell_type": "code",
   "execution_count": null,
   "metadata": {},
   "outputs": [],
   "source": [
    "df = spark.read.option('header', 'true').option('sep', \"\\t\").schema(csvSchema).csv(csvFile)\n",
    "df.select(df.requests).groupBy().sum()"
   ]
  },
  {
   "cell_type": "markdown",
   "metadata": {},
   "source": [
    "It took approximately 9 sec. Take a note. We will see the difference in reading a Parquet file."
   ]
  },
  {
   "cell_type": "markdown",
   "metadata": {},
   "source": [
    "##### ![Quantia Tiny Logo](https://www.quantiaconsulting.com/logos/quantia_logo_tiny.png) 2020 Quantia Consulting, srl. All rights reserved."
   ]
  }
 ],
 "metadata": {
  "kernelspec": {
   "display_name": "Python 3",
   "language": "python",
   "name": "python3"
  },
  "language_info": {
   "codemirror_mode": {
    "name": "ipython",
    "version": 3
   },
   "file_extension": ".py",
   "mimetype": "text/x-python",
   "name": "python",
   "nbconvert_exporter": "python",
   "pygments_lexer": "ipython3",
   "version": "3.7.6"
  },
  "name": "Reading Data - CSV",
  "notebookId": 1507370365633276
 },
 "nbformat": 4,
 "nbformat_minor": 4
}
