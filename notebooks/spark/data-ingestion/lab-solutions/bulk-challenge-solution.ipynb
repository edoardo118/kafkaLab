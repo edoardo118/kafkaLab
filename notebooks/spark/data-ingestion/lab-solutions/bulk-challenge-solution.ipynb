{
 "cells": [
  {
   "cell_type": "markdown",
   "metadata": {},
   "source": [
    "<div style=\"text-align: center; line-height: 0; padding-top: 2px;\">\n",
    "  <img src=\"https://www.quantiaconsulting.com/logos/quantia_logo_orizz.png\" alt=\"Quantia Consulting\" style=\"width: 600px; height: 250px\">\n",
    "</div>"
   ]
  },
  {
   "cell_type": "markdown",
   "metadata": {},
   "source": [
    "# ![Spark Logo Tiny](https://www.quantiaconsulting.com/logos/logo_spark_tiny.png) Reading Data Lab\n",
    "* The goal of this lab is to put into practice some of what you have learned about reading data with Apache Spark python pandas."
   ]
  },
  {
   "cell_type": "markdown",
   "metadata": {},
   "source": [
    "## Instructions\n",
    "0. Start with the file **data/data_geo.csv**.\n",
    "0. Inspect the content of the file and ask yourself:\n",
    "    * What is the separator?\n",
    "    * Is there an header?\n",
    "    ...\n",
    "0. Read in the file using pyspark in two different ways\n",
    "    1 - Let system infer the schema\n",
    "    2 - Manually pass the schema\n",
    "0. Use pyspark to save the dataframe as a `parquet` in the `/home/jovyan/data/pyspark` folder\n",
    "0. Use pyspark to save the dataframe as a `table` in the default db\n",
    "0. Perform some exploration queries:\n",
    "    * Extract the `2015 Median Home Prices`\n",
    "    * Show the top 10 cities by `2015 Median Sales Price`\n",
    "    * Show the top 10 cities with the `2015 Median Sales Price` >= $ 300,000\n",
    "    * ..."
   ]
  },
  {
   "cell_type": "markdown",
   "metadata": {},
   "source": [
    "## Getting Started\n",
    "\n",
    "Let's start importing libraries and creating useful variables "
   ]
  },
  {
   "cell_type": "code",
   "execution_count": null,
   "metadata": {},
   "outputs": [],
   "source": [
    "%load_ext autotime\n",
    "\n",
    "import os\n",
    "import qcutils\n",
    "from pyspark.sql import SparkSession\n",
    "import boto3\n",
    "import io\n",
    "import pandas\n",
    "import s3fs\n",
    "\n",
    "s3 = boto3.client('s3')\n",
    "psBaseUri = \"s3a://quantia-master/training/\"\n",
    "\n",
    "os.environ['PYSPARK_SUBMIT_ARGS'] = '--packages com.amazonaws:aws-java-sdk:1.7.4,org.apache.hadoop:hadoop-aws:2.7.5 pyspark-shell'\n",
    "\n",
    "spark = (SparkSession.builder \n",
    "    .master(\"local[*]\")\n",
    "    .appName(\"test\")\n",
    "    .getOrCreate()\n",
    "        )\n",
    "qcutils.init_spark_session(spark)\n",
    "\n",
    "spark"
   ]
  },
  {
   "cell_type": "markdown",
   "metadata": {},
   "source": [
    "## Explore data\n",
    "\n",
    "You can use the `head data/data_geo.csv` in the terminal.\n",
    "\n",
    "You get\n",
    "\n",
    "```\n",
    "2014 rank,City,State,State Code,2014 Population estimate,2015 median sales price\n",
    "101,Birmingham,Alabama,AL,212247,162.9\n",
    "125,Huntsville,Alabama,AL,188226,157.7\n",
    "122,Mobile,Alabama,AL,194675,122.5\n",
    "114,Montgomery,Alabama,AL,200481,129\n",
    "64,Anchorage[19],Alaska,AK,301010,null\n",
    "78,Chandler,Arizona,AZ,254276,null\n",
    "86,Gilbert[20],Arizona,AZ,239277,null\n",
    "88,Glendale,Arizona,AZ,237517,null\n",
    "38,Mesa,Arizona,AZ,464704,null\n",
    "```"
   ]
  },
  {
   "cell_type": "markdown",
   "metadata": {},
   "source": [
    "`data_geo.csv` is a common csv file with a `,` as a separator and qith the header (first line before the `\\n` character)."
   ]
  },
  {
   "cell_type": "markdown",
   "metadata": {},
   "source": [
    "## Read Data"
   ]
  },
  {
   "cell_type": "markdown",
   "metadata": {},
   "source": [
    "### PySpark with inferSchema"
   ]
  },
  {
   "cell_type": "code",
   "execution_count": null,
   "metadata": {},
   "outputs": [],
   "source": [
    "psCsvPath = psBaseUri + \"data_geo.csv\"\n",
    "\n",
    "psTestDF = (spark.read\n",
    "            .option(\"header\", True)\n",
    "            .option(\"inferschema\", True)\n",
    "            .csv(psCsvPath)\n",
    "           )\n",
    "\n",
    "psTestDF.printSchema()"
   ]
  },
  {
   "cell_type": "markdown",
   "metadata": {},
   "source": [
    "### PySpark with user-defined Schema"
   ]
  },
  {
   "cell_type": "code",
   "execution_count": null,
   "metadata": {},
   "outputs": [],
   "source": [
    "from pyspark.sql.types import *\n",
    "\n",
    "psCsvPath = psBaseUri + \"data_geo.csv\"\n",
    "\n",
    "csvSchema = StructType([\n",
    "  StructField(\"2014_rank\", IntegerType(), nullable=False),\n",
    "  StructField(\"City\", StringType(), nullable=False),\n",
    "  StructField(\"State\", StringType(), nullable=False),\n",
    "  StructField(\"State_Code\", StringType(), nullable=False),\n",
    "  StructField(\"2014_Population_estimate\", StringType(), nullable=False),\n",
    "  StructField(\"2015_Median_sales_price\", StringType(), nullable=True),\n",
    "])\n",
    "\n",
    "psTestDF = (spark.read\n",
    "            .option(\"header\", True)\n",
    "            .option(\"inferschema\", True)\n",
    "            .schema(csvSchema)\n",
    "            .csv(psCsvPath)\n",
    "           )\n",
    "\n",
    "psTestDF.printSchema()"
   ]
  },
  {
   "cell_type": "code",
   "execution_count": null,
   "metadata": {},
   "outputs": [],
   "source": [
    "psTestDF"
   ]
  },
  {
   "cell_type": "markdown",
   "metadata": {},
   "source": [
    "***NOTE*** `null` are of type `String`!!!"
   ]
  },
  {
   "cell_type": "code",
   "execution_count": null,
   "metadata": {},
   "outputs": [],
   "source": [
    "psTestDF.filter(psTestDF[\"2015_Median_sales_price\"] == \"null\")"
   ]
  },
  {
   "cell_type": "code",
   "execution_count": null,
   "metadata": {},
   "outputs": [],
   "source": [
    "psTestDF.filter(psTestDF[\"2015_Median_sales_price\"] == \"null\").count()"
   ]
  },
  {
   "cell_type": "markdown",
   "metadata": {},
   "source": [
    "we need to use `withColumn` e `cast` to make them **real nulls**"
   ]
  },
  {
   "cell_type": "code",
   "execution_count": null,
   "metadata": {},
   "outputs": [],
   "source": [
    "castedPsTestDF = (psTestDF.withColumn(\"2015_Median_sales_price\",psTestDF[\"2015_Median_sales_price\"].cast(\"float\"))\n",
    "            .withColumn(\"2014_Population_estimate\",psTestDF[\"2014_Population_estimate\"].cast(\"float\"))\n",
    "           )"
   ]
  },
  {
   "cell_type": "code",
   "execution_count": null,
   "metadata": {},
   "outputs": [],
   "source": [
    "castedPsTestDF"
   ]
  },
  {
   "cell_type": "code",
   "execution_count": null,
   "metadata": {},
   "outputs": [],
   "source": [
    "castedPsTestDF.filter(castedPsTestDF[\"2015_Median_sales_price\"] == \"null\")"
   ]
  },
  {
   "cell_type": "code",
   "execution_count": null,
   "metadata": {},
   "outputs": [],
   "source": [
    "castedPsTestDF.filter(castedPsTestDF[\"2015_Median_sales_price\"] == \"null\").count()"
   ]
  },
  {
   "cell_type": "markdown",
   "metadata": {},
   "source": [
    "## Write Data"
   ]
  },
  {
   "cell_type": "markdown",
   "metadata": {},
   "source": [
    "## Parquet"
   ]
  },
  {
   "cell_type": "code",
   "execution_count": null,
   "metadata": {},
   "outputs": [],
   "source": [
    "castedPsTestDF.write.parquet(\"/home/jovyan/data/pyspark/data_geo.parquet\")"
   ]
  },
  {
   "cell_type": "markdown",
   "metadata": {},
   "source": [
    "## Table"
   ]
  },
  {
   "cell_type": "markdown",
   "metadata": {},
   "source": [
    "NOTA: usare overwrite per poter sovrascrivere una tabella già salvata"
   ]
  },
  {
   "cell_type": "code",
   "execution_count": null,
   "metadata": {},
   "outputs": [],
   "source": [
    "castedPsTestDF.write.mode(\"overwrite\").saveAsTable(\"data_geo\")"
   ]
  },
  {
   "cell_type": "markdown",
   "metadata": {},
   "source": [
    "## Explore Data"
   ]
  },
  {
   "cell_type": "markdown",
   "metadata": {},
   "source": [
    "### Extract the `2015 Median Home Prices`"
   ]
  },
  {
   "cell_type": "code",
   "execution_count": null,
   "metadata": {},
   "outputs": [],
   "source": [
    "spark.sql(\"\"\"\n",
    "SELECT State_Code, 2015_median_sales_price \n",
    "FROM data_geo\n",
    "\"\"\")"
   ]
  },
  {
   "cell_type": "markdown",
   "metadata": {},
   "source": [
    "### Extract the top 10 cities by `2015 Median Sales Price`"
   ]
  },
  {
   "cell_type": "code",
   "execution_count": null,
   "metadata": {},
   "outputs": [],
   "source": [
    "spark.sql(\"\"\"\n",
    "SELECT\n",
    "    City, \n",
    "    2014_Population_estimate/1000 AS 2014_Population_Estimate_1000, \n",
    "    2015_median_sales_price AS 2015_Median_Sales_Price_1000\n",
    "FROM data_geo \n",
    "ORDER BY 2015_median_sales_price DESC\n",
    "LIMIT 10\n",
    "\"\"\")"
   ]
  },
  {
   "cell_type": "markdown",
   "metadata": {},
   "source": [
    "### Extract the top 10 cities with the `2015 Median Sales Price` >= $ 300,000"
   ]
  },
  {
   "cell_type": "code",
   "execution_count": null,
   "metadata": {},
   "outputs": [],
   "source": [
    "spark.sql(\"\"\"\n",
    "SELECT\n",
    "    City, \n",
    "    State_Code, \n",
    "    2015_median_sales_price\n",
    "FROM data_geo \n",
    "WHERE 2015_median_sales_price >= 300\n",
    "ORDER BY 2015_median_sales_price DESC\n",
    "LIMIT 10\n",
    "\"\"\")"
   ]
  }
 ],
 "metadata": {
  "kernelspec": {
   "display_name": "Python 3",
   "language": "python",
   "name": "python3"
  },
  "language_info": {
   "codemirror_mode": {
    "name": "ipython",
    "version": 3
   },
   "file_extension": ".py",
   "mimetype": "text/x-python",
   "name": "python",
   "nbconvert_exporter": "python",
   "pygments_lexer": "ipython3",
   "version": "3.7.6"
  },
  "name": "ingestion and wragling",
  "notebookId": 1570541250756369
 },
 "nbformat": 4,
 "nbformat_minor": 4
}
