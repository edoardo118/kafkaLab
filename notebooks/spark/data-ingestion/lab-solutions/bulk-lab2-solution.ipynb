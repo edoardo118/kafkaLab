{
 "cells": [
  {
   "cell_type": "markdown",
   "metadata": {},
   "source": [
    "<div style=\"text-align: center; line-height: 0; padding-top: 2px;\">\n",
    "  <img src=\"https://www.quantiaconsulting.com/logos/quantia_logo_orizz.png\" alt=\"Quantia Consulting\" style=\"width: 600px; height: 250px\">\n",
    "</div>"
   ]
  },
  {
   "cell_type": "markdown",
   "metadata": {},
   "source": [
    "# ![Spark Logo Tiny](https://www.quantiaconsulting.com/logos/logo_spark_tiny.png) Reading Data Lab 2\n",
    "\n",
    "## Instructions\n",
    "\n",
    "Consider the file `s3a://quantia-master/training/people-with-dups.txt` and:\n",
    "1. Explore the file on s3\n",
    "1. Read using pyspark exploiting inferSchema\n",
    "1. Read the file using your own schema\n",
    "1. Save in parquet on local disk\n",
    "1. Read the parquet\n",
    "1. Compute the medium salary\n",
    "1. Count by Gender\n"
   ]
  },
  {
   "cell_type": "markdown",
   "metadata": {},
   "source": [
    "### 1 - Explore the file on s3"
   ]
  },
  {
   "cell_type": "code",
   "execution_count": null,
   "metadata": {},
   "outputs": [],
   "source": [
    "%load_ext autotime\n",
    "\n",
    "import pandas\n",
    "import s3fs\n",
    "import boto3\n",
    "import io\n",
    "import qcutils\n",
    "\n",
    "baseUri = \"s3a://quantia-master/training/\""
   ]
  },
  {
   "cell_type": "code",
   "execution_count": null,
   "metadata": {},
   "outputs": [],
   "source": [
    "qcutils.print_s3_bucket_object(key='training/people-with-dups.txt')"
   ]
  },
  {
   "cell_type": "markdown",
   "metadata": {},
   "source": [
    "### 2 - Read using pyspark exploiting inferSchema"
   ]
  },
  {
   "cell_type": "code",
   "execution_count": null,
   "metadata": {},
   "outputs": [],
   "source": [
    "from pyspark.sql import SparkSession\n",
    "import os\n",
    "\n",
    "os.environ['PYSPARK_SUBMIT_ARGS'] = '--packages com.amazonaws:aws-java-sdk:1.7.4,org.apache.hadoop:hadoop-aws:2.7.5 pyspark-shell'\n",
    "\n",
    "spark = (SparkSession.builder \n",
    "    .master(\"local[*]\")\n",
    "    .appName(\"test\")\n",
    "    .getOrCreate()\n",
    "        )\n",
    "qcutils.init_spark_session(spark)\n",
    "\n",
    "spark"
   ]
  },
  {
   "cell_type": "code",
   "execution_count": null,
   "metadata": {},
   "outputs": [],
   "source": [
    "csvFile = baseUri + \"people-with-dups.txt\""
   ]
  },
  {
   "cell_type": "code",
   "execution_count": null,
   "metadata": {},
   "outputs": [],
   "source": [
    "(spark.read                        # The DataFrameReader\n",
    "   .option(\"header\", \"true\")       # Use first line of all files as header\n",
    "   .option(\"sep\", \":\")            # Use tab delimiter (default is comma-separator)\n",
    "   .option(\"inferSchema\", \"true\")  # Automatically infer data types\n",
    "   .csv(csvFile)                   # Creates a DataFrame from CSV after reading in the file\n",
    "   .printSchema()\n",
    ")"
   ]
  },
  {
   "cell_type": "markdown",
   "metadata": {},
   "source": [
    "### 3 - Read the file using your own schema"
   ]
  },
  {
   "cell_type": "code",
   "execution_count": null,
   "metadata": {},
   "outputs": [],
   "source": [
    "from pyspark.sql.types import *\n",
    "\n",
    "csvSchema = StructType([\n",
    "  StructField(\"firstName\", StringType(), nullable=False),\n",
    "  StructField(\"middleName\", StringType(), nullable=False),\n",
    "  StructField(\"lastName\", StringType(), nullable=False),\n",
    "  StructField(\"gender\", StringType(), nullable=False),\n",
    "  StructField(\"birthDate\", TimestampType(), nullable=False),\n",
    "  StructField(\"salary\", IntegerType(), nullable=False),\n",
    "  StructField(\"ssn\", StringType(), nullable=False)\n",
    "])"
   ]
  },
  {
   "cell_type": "code",
   "execution_count": null,
   "metadata": {},
   "outputs": [],
   "source": [
    "df1 = (spark.read                   \n",
    "  .option('header', 'true')   \n",
    "  .option('sep', \":\")        \n",
    "  .schema(csvSchema)          \n",
    "  .csv(csvFile)\n",
    ")\n",
    "\n",
    "df1.printSchema()"
   ]
  },
  {
   "cell_type": "markdown",
   "metadata": {},
   "source": [
    "### 4 - Save in parquet on local disk"
   ]
  },
  {
   "cell_type": "code",
   "execution_count": null,
   "metadata": {},
   "outputs": [],
   "source": [
    "outputBaseUri = \"/home/jovyan/data/pyspark/\"\n",
    "\n",
    "(df1.write                       \n",
    "  .option(\"compression\", \"snappy\") \n",
    "  .mode(\"overwrite\")               \n",
    "  .parquet(outputBaseUri + \"people-with-dups.parquet\") \n",
    ")"
   ]
  },
  {
   "cell_type": "markdown",
   "metadata": {},
   "source": [
    "### 5 - Read the parquet"
   ]
  },
  {
   "cell_type": "code",
   "execution_count": null,
   "metadata": {},
   "outputs": [],
   "source": [
    "df2 = spark.read.parquet(outputBaseUri + \"people-with-dups.parquet\")"
   ]
  },
  {
   "cell_type": "markdown",
   "metadata": {},
   "source": [
    "### 6 - Compute the medium salary"
   ]
  },
  {
   "cell_type": "code",
   "execution_count": null,
   "metadata": {},
   "outputs": [],
   "source": [
    "df2.groupBy().avg(\"salary\")"
   ]
  },
  {
   "cell_type": "code",
   "execution_count": null,
   "metadata": {},
   "outputs": [],
   "source": [
    "df2.select(df2.salary).groupBy().avg()"
   ]
  },
  {
   "cell_type": "markdown",
   "metadata": {},
   "source": [
    "### 7 - Count by gender"
   ]
  },
  {
   "cell_type": "code",
   "execution_count": null,
   "metadata": {},
   "outputs": [],
   "source": [
    "df2.groupBy(df2.gender).count()"
   ]
  },
  {
   "cell_type": "code",
   "execution_count": null,
   "metadata": {},
   "outputs": [],
   "source": [
    "df2.groupBy(\"gender\").count()"
   ]
  },
  {
   "cell_type": "markdown",
   "metadata": {},
   "source": [
    "##### ![Quantia Tiny Logo](https://www.quantiaconsulting.com/logos/quantia_logo_tiny.png) 2020 Quantia Consulting, srl. All rights reserved."
   ]
  }
 ],
 "metadata": {
  "kernelspec": {
   "display_name": "Python 3",
   "language": "python",
   "name": "python3"
  },
  "language_info": {
   "codemirror_mode": {
    "name": "ipython",
    "version": 3
   },
   "file_extension": ".py",
   "mimetype": "text/x-python",
   "name": "python",
   "nbconvert_exporter": "python",
   "pygments_lexer": "ipython3",
   "version": "3.7.6"
  }
 },
 "nbformat": 4,
 "nbformat_minor": 4
}
