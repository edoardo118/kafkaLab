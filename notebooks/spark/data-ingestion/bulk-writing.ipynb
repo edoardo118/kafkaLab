{
 "cells": [
  {
   "cell_type": "markdown",
   "metadata": {},
   "source": [
    "<div style=\"text-align: center; line-height: 0; padding-top: 2px;\">\n",
    "  <img src=\"https://www.quantiaconsulting.com/logos/quantia_logo_orizz.png\" alt=\"Quantia Consulting\" style=\"width: 600px; height: 250px\">\n",
    "</div>"
   ]
  },
  {
   "cell_type": "markdown",
   "metadata": {},
   "source": [
    "# ![Spark Logo Tiny](https://www.quantiaconsulting.com/logos/logo_spark_tiny.png) Writing Data in Spark\n",
    "\n",
    "Just as there are many ways to read data, we have just as many ways to write data.\n",
    "\n",
    "In this notebook, we will take a quick peek at how to write data back out to Parquet files.\n",
    "\n",
    "**Technical Accomplishments:**\n",
    "- Writing data to Parquet files"
   ]
  },
  {
   "cell_type": "markdown",
   "metadata": {},
   "source": [
    "## Getting Started\n",
    "\n",
    "Let's start importing libraries and creating useful variables "
   ]
  },
  {
   "cell_type": "code",
   "execution_count": null,
   "metadata": {},
   "outputs": [],
   "source": [
    "%load_ext autotime\n",
    "\n",
    "import os\n",
    "import qcutils\n",
    "from pyspark.sql import SparkSession\n",
    "import boto3\n",
    "import io\n",
    "\n",
    "s3 = boto3.client('s3')\n",
    "baseUri = \"s3a://quantia-master/training/\"\n",
    "\n",
    "os.environ['PYSPARK_SUBMIT_ARGS'] = '--packages com.amazonaws:aws-java-sdk:1.7.4,org.apache.hadoop:hadoop-aws:2.7.5 pyspark-shell'\n",
    "\n",
    "spark = (SparkSession.builder \n",
    "    .master(\"local[*]\")\n",
    "    .appName(\"test\")\n",
    "    .getOrCreate()\n",
    "        )\n",
    "qcutils.init_spark_session(spark)"
   ]
  },
  {
   "cell_type": "markdown",
   "metadata": {},
   "source": [
    "## Writing Data\n",
    "\n",
    "Let's start with one of our original CSV data sources, **wikipedia_pageviews_by_second.tsv**:"
   ]
  },
  {
   "cell_type": "code",
   "execution_count": null,
   "metadata": {},
   "outputs": [],
   "source": [
    "from pyspark.sql.types import *\n",
    "\n",
    "csvSchema = StructType([\n",
    "  StructField(\"timestamp\", StringType(), False),\n",
    "  StructField(\"site\", StringType(), False),\n",
    "  StructField(\"requests\", IntegerType(), False)\n",
    "])\n",
    "\n",
    "csvFile = baseUri + \"wikipedia_pageviews_by_second.tsv\"\n",
    "\n",
    "csvDF = (spark.read\n",
    "  .option('header', 'true')\n",
    "  .option('sep', \"\\t\")\n",
    "  .schema(csvSchema)\n",
    "  .csv(csvFile)\n",
    ")"
   ]
  },
  {
   "cell_type": "markdown",
   "metadata": {},
   "source": [
    "Now that we have a `DataFrame`, we can write it back out as Parquet files or other various formats."
   ]
  },
  {
   "cell_type": "code",
   "execution_count": null,
   "metadata": {},
   "outputs": [],
   "source": [
    "outputBaseUri = \"/home/jovyan/data/pyspark/\"\n",
    "\n",
    "(csvDF.write                       # Our DataFrameWriter\n",
    "  .option(\"compression\", \"snappy\") # One of none, snappy, gzip, and lzo\n",
    "  .mode(\"overwrite\")               # Replace existing files\n",
    "  .parquet(outputBaseUri + \"wikipedia_pageviews_by_second.parquet\") # Write DataFrame as a table into the Default database\n",
    ")"
   ]
  },
  {
   "cell_type": "markdown",
   "metadata": {},
   "source": [
    "Now that the file has been written, we can read it and count the number of row"
   ]
  },
  {
   "cell_type": "code",
   "execution_count": null,
   "metadata": {},
   "outputs": [],
   "source": [
    "outputBaseUri = \"/home/jovyan/data/pyspark/\"\n",
    "spark.read.parquet(outputBaseUri + \"wikipedia_pageviews_by_second.parquet\").count()"
   ]
  },
  {
   "cell_type": "markdown",
   "metadata": {},
   "source": [
    "Now we will try to append more rows to an existing file"
   ]
  },
  {
   "cell_type": "code",
   "execution_count": null,
   "metadata": {},
   "outputs": [],
   "source": [
    "outputBaseUri = \"/home/jovyan/data/pyspark/\"\n",
    "\n",
    "(csvDF.write                       \n",
    "  .option(\"compression\", \"snappy\") \n",
    "  .mode(\"append\")              \n",
    "  .parquet(outputBaseUri + \"wikipedia_pageviews_by_second.parquet\"))\n",
    " \n",
    "spark.read.parquet(outputBaseUri + \"wikipedia_pageviews_by_second.parquet\").count()"
   ]
  },
  {
   "cell_type": "markdown",
   "metadata": {},
   "source": [
    "##### ![Quantia Tiny Logo](https://www.quantiaconsulting.com/logos/quantia_logo_tiny.png) 2020 Quantia Consulting, srl. All rights reserved."
   ]
  }
 ],
 "metadata": {
  "kernelspec": {
   "display_name": "Python 3",
   "language": "python",
   "name": "python3"
  },
  "language_info": {
   "codemirror_mode": {
    "name": "ipython",
    "version": 3
   },
   "file_extension": ".py",
   "mimetype": "text/x-python",
   "name": "python",
   "nbconvert_exporter": "python",
   "pygments_lexer": "ipython3",
   "version": "3.7.6"
  },
  "name": "Writing Data",
  "notebookId": 1507370365633357
 },
 "nbformat": 4,
 "nbformat_minor": 4
}
