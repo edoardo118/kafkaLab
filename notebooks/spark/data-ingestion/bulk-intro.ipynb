{
 "cells": [
  {
   "cell_type": "markdown",
   "metadata": {},
   "source": [
    "<div style=\"text-align: center; line-height: 0; padding-top: 2px;\">\n",
    "  <img src=\"https://www.quantiaconsulting.com/logos/quantia_logo_orizz.png\" alt=\"Quantia Consulting\" style=\"width: 600px; height: 250px\">\n",
    "</div>"
   ]
  },
  {
   "cell_type": "markdown",
   "metadata": {},
   "source": [
    "# Reading Data with Spark "
   ]
  },
  {
   "cell_type": "markdown",
   "metadata": {},
   "source": [
    "## ![Spark Logo Tiny](https://www.quantiaconsulting.com/logos/logo_spark_tiny.png) Getting Started\n",
    "\n",
    "Let's start importing libraries and creating useful variables "
   ]
  },
  {
   "cell_type": "code",
   "execution_count": null,
   "metadata": {},
   "outputs": [],
   "source": [
    "%load_ext autotime\n",
    "\n",
    "import os\n",
    "import qcutils\n",
    "from pyspark.sql import SparkSession\n",
    "import boto3\n",
    "import io\n",
    "\n",
    "s3 = boto3.client('s3')\n",
    "baseUri = \"s3a://quantia-master/training/\"\n",
    "\n",
    "os.environ['PYSPARK_SUBMIT_ARGS'] = '--packages com.amazonaws:aws-java-sdk:1.7.4,org.apache.hadoop:hadoop-aws:2.7.5 pyspark-shell'\n",
    "\n",
    "spark = (SparkSession.builder \n",
    "    .master(\"local[*]\")\n",
    "    .appName(\"test\")\n",
    "    .getOrCreate()\n",
    "        )\n",
    "qcutils.init_spark_session(spark)"
   ]
  },
  {
   "cell_type": "markdown",
   "metadata": {},
   "source": [
    "## Entry Points\n",
    "\n",
    "The entry point for Spark 2.0 applications is the class `SparkSession`."
   ]
  },
  {
   "cell_type": "code",
   "execution_count": null,
   "metadata": {},
   "outputs": [],
   "source": [
    "spark"
   ]
  },
  {
   "cell_type": "markdown",
   "metadata": {},
   "source": [
    "## Spark API"
   ]
  },
  {
   "cell_type": "markdown",
   "metadata": {},
   "source": [
    "### **Spark API Home Page**\n",
    "0. Open a new browser tab.\n",
    "0. Google for **Spark API Latest** or **Spark API _x.x.x_** for a specific version.\n",
    "0. Select **Spark API Documentation - Spark _x.x.x_ Documentation - Apache Spark**. \n",
    "0. Which set of documentation you will use depends on which language you will use.\n",
    "\n",
    "Other Documentation:\n",
    "* Programming Guides for DataFrames, SQL, Graphs, Machine Learning, Streaming...\n",
    "* Deployment Guides for Spark Standalone, Mesos, Yarn...\n",
    "* Configuration, Monitoring, Tuning, Security...\n",
    "\n",
    "Here are some shortcuts\n",
    "  * <a href=\"https://spark.apache.org/docs/latest/api.html\" target=\"_blank\">Spark API Documentation - Latest</a>"
   ]
  },
  {
   "cell_type": "markdown",
   "metadata": {},
   "source": [
    "### Spark API (Scala)\n",
    "\n",
    "0. Select **Spark Scala API (Scaladoc)**.\n",
    "0. Look up the documentation for `org.apache.spark.sql.SparkSession`.\n",
    "  0. In the upper-left-hand-corner type **SparkSession** into the search field.\n",
    "  0. The search will execute automatically.\n",
    "  0. In the class/package list, click on **SparkSession**.\n",
    "  0. The documentation should open in the right-hand pane."
   ]
  },
  {
   "cell_type": "markdown",
   "metadata": {},
   "source": [
    "### Spark API (Python)\n",
    "\n",
    "0. Select **Spark Python API (Sphinx)**.\n",
    "0. Look up the documentation for `pyspark.sql.SparkSession`.\n",
    "  0. In the lower-left-hand-corner type **SparkSession** into the search field.\n",
    "  0. Hit **[Enter]**.\n",
    "  0. The search results should appear in the right-hand pane.\n",
    "  0. Click on **pyspark.sql.SparkSession (Python class, in pyspark.sql module)**\n",
    "  0. The documentation should open in the right-hand pane."
   ]
  },
  {
   "cell_type": "markdown",
   "metadata": {},
   "source": [
    "## SparkSession\n",
    "\n",
    "Quick function review:\n",
    "* `createDataSet(..)`\n",
    "* `createDataFrame(..)`\n",
    "* `emptyDataSet(..)`\n",
    "* `emptyDataFrame(..)`\n",
    "* `range(..)`\n",
    "* `read(..)`\n",
    "* `readStream(..)`\n",
    "* `sparkContext(..)`\n",
    "* `sqlContext(..)`\n",
    "* `sql(..)`\n",
    "* `streams(..)`\n",
    "* `table(..)`\n",
    "* `udf(..)`\n",
    "\n",
    "The function we are most interested in is `SparkSession.read()` which returns a `DataFrameReader`."
   ]
  },
  {
   "cell_type": "markdown",
   "metadata": {},
   "source": [
    "## DataFrameReader\n",
    "\n",
    "Look up the documentation for `DataFrameReader`.\n",
    "\n",
    "Quick function review:\n",
    "* `csv(path)`\n",
    "* `jdbc(url, table, ..., connectionProperties)`\n",
    "* `json(path)`\n",
    "* `format(source)`\n",
    "* `load(path)`\n",
    "* `orc(path)`\n",
    "* `parquet(path)`\n",
    "* `table(tableName)`\n",
    "* `text(path)`\n",
    "* `textFile(path)`\n",
    "\n",
    "Configuration methods:\n",
    "* `option(key, value)`\n",
    "* `options(map)`\n",
    "* `schema(schema)`"
   ]
  },
  {
   "cell_type": "markdown",
   "metadata": {},
   "source": [
    "##### ![Quantia Tiny Logo](https://www.quantiaconsulting.com/logos/quantia_logo_tiny.png) 2020 Quantia Consulting, srl. All rights reserved."
   ]
  }
 ],
 "metadata": {
  "kernelspec": {
   "display_name": "Python 3",
   "language": "python",
   "name": "python3"
  },
  "language_info": {
   "codemirror_mode": {
    "name": "ipython",
    "version": 3
   },
   "file_extension": ".py",
   "mimetype": "text/x-python",
   "name": "python",
   "nbconvert_exporter": "python",
   "pygments_lexer": "ipython3",
   "version": "3.7.6"
  },
  "name": "Reading Data - CSV",
  "notebookId": 1507370365633276
 },
 "nbformat": 4,
 "nbformat_minor": 4
}
