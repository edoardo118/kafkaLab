{
 "cells": [
  {
   "cell_type": "markdown",
   "metadata": {},
   "source": [
    "<div style=\"text-align: center; line-height: 0; padding-top: 2px;\">\n",
    "  <img src=\"https://www.quantiaconsulting.com/logos/quantia_logo_orizz.png\" alt=\"Quantia Consulting\" style=\"width: 600px; height: 250px\">\n",
    "</div>"
   ]
  },
  {
   "cell_type": "markdown",
   "metadata": {},
   "source": [
    "# ![Quantia Tiny Logo](https://www.quantiaconsulting.com/logos/quantia_logo_tiny.png) CSV Ingestion\n",
    "\n",
    "**Data Source**\n",
    "* The data is available at:\n",
    "    * `s3a://quantia-master/training/Exam-1-3/store_sales.csv` **for pyspark**\n",
    "    * `s3://quantia-master/training/Exam-1-3/store_sales.csv` **for python**\n",
    "* The csv file contains around 2mln rows\n",
    "\n",
    "**Instructions**\n",
    "* Take a first look to the data\n",
    "* Read the csv using python and pyspark:\n",
    "  * With inferred schema\n",
    "  * With user-defined schema\n",
    "* Show a part of the result `DataFrame`\n",
    "\n",
    "**Hints**\n",
    "* numpy int64 data type has some limitation (i.e., it can't manage NA values)"
   ]
  },
  {
   "cell_type": "markdown",
   "metadata": {},
   "source": [
    "## ![Quantia Tiny Logo](https://www.quantiaconsulting.com/logos/quantia_logo_tiny.png) General Set-up"
   ]
  },
  {
   "cell_type": "code",
   "execution_count": null,
   "metadata": {},
   "outputs": [],
   "source": [
    "%load_ext autotime\n",
    "\n",
    "import os\n",
    "import qcutils\n",
    "from pyspark.sql import SparkSession\n",
    "import boto3\n",
    "import io\n",
    "import pandas\n",
    "import numpy as np\n",
    "\n",
    "psbaseUri = \"s3a://quantia-master/training/Exam-1-3/\"\n",
    "pybaseUri = \"s3://quantia-master/training/Exam-1-3/\"\n",
    "\n",
    "qcutils.print_s3_bucket_object(key='training/Exam-1-3/store_sales.csv')"
   ]
  },
  {
   "cell_type": "markdown",
   "metadata": {},
   "source": [
    "## ![Python Tiny Logo](https://www.quantiaconsulting.com/logos/logo_python_tiny.png) Python"
   ]
  },
  {
   "cell_type": "code",
   "execution_count": null,
   "metadata": {},
   "outputs": [],
   "source": [
    "df = pandas.read_csv(pybaseUri+\"store_sales.csv\", sep=\"|\")\n",
    "df.info()"
   ]
  },
  {
   "cell_type": "code",
   "execution_count": null,
   "metadata": {},
   "outputs": [],
   "source": [
    "df = (pandas\n",
    "  .read_csv(pybaseUri+\"store_sales.csv\", sep=\"|\"\n",
    "            , dtype={\n",
    "                    'ss_sold_date_sk': np.float64\n",
    "                    , 'ss_sold_time_sk': np.float64\n",
    "                    , 'ss_item_sk': np.int64\n",
    "                    , 'ss_customer_sk': np.float64\n",
    "                    , 'ss_cdemo_sk': np.float64\n",
    "                    , 'ss_hdemo_sk': np.float64\n",
    "                    })\n",
    "     )\n",
    "      \n",
    "df.info()"
   ]
  },
  {
   "cell_type": "markdown",
   "metadata": {},
   "source": [
    "## ![Spark Logo Tiny](https://www.quantiaconsulting.com/logos/logo_spark_tiny.png) Pyspark"
   ]
  },
  {
   "cell_type": "code",
   "execution_count": null,
   "metadata": {},
   "outputs": [],
   "source": [
    "os.environ['PYSPARK_SUBMIT_ARGS'] = '--packages com.amazonaws:aws-java-sdk:1.7.4,org.apache.hadoop:hadoop-aws:2.7.5 pyspark-shell'\n",
    "\n",
    "spark = (SparkSession.builder \n",
    "    .master(\"local[*]\")\n",
    "    .appName(\"test\")\n",
    "    .getOrCreate()\n",
    "        )\n",
    "qcutils.init_spark_session(spark)\n",
    "\n",
    "spark"
   ]
  },
  {
   "cell_type": "code",
   "execution_count": null,
   "metadata": {},
   "outputs": [],
   "source": [
    "df = (spark.read                        \n",
    "   .option(\"header\", \"true\")\n",
    "   .option(\"sep\", \"|\")\n",
    "   .option(\"inferSchema\", \"true\")\n",
    "   .csv(psbaseUri+\"store_sales.csv\")\n",
    ")\n",
    "\n",
    "df.printSchema()"
   ]
  },
  {
   "cell_type": "code",
   "execution_count": null,
   "metadata": {},
   "outputs": [],
   "source": [
    "from pyspark.sql.types import *\n",
    "\n",
    "csvSchema = StructType([\n",
    "  StructField(\"ss_sold_date_sk\", IntegerType(), nullable=True),\n",
    "  StructField(\"ss_sold_time_sk\", IntegerType(), nullable=True),\n",
    "  StructField(\"ss_item_sk\", IntegerType(), nullable=True),\n",
    "  StructField(\"ss_customer_sk\", IntegerType(), nullable=True),\n",
    "  StructField(\"ss_cdemo_sk\", IntegerType(), nullable=True),\n",
    "  StructField(\"ss_hdemo_sk\", IntegerType(), nullable=True)\n",
    "])\n",
    "\n",
    "\n",
    "df = (spark.read\n",
    "    .option('header', 'true')\n",
    "    .option(\"sep\", \"|\")\n",
    "    .schema(csvSchema)\n",
    "    .csv(psbaseUri+\"store_sales.csv\")\n",
    ")\n",
    "\n",
    "df.printSchema()"
   ]
  },
  {
   "cell_type": "markdown",
   "metadata": {},
   "source": [
    "##### ![Quantia Tiny Logo](https://www.quantiaconsulting.com/logos/quantia_logo_tiny.png) 2020 Quantia Consulting, srl. All rights reserved."
   ]
  }
 ],
 "metadata": {
  "kernelspec": {
   "display_name": "Python 3",
   "language": "python",
   "name": "python3"
  },
  "language_info": {
   "codemirror_mode": {
    "name": "ipython",
    "version": 3
   },
   "file_extension": ".py",
   "mimetype": "text/x-python",
   "name": "python",
   "nbconvert_exporter": "python",
   "pygments_lexer": "ipython3",
   "version": "3.7.6"
  },
  "name": "csv-ingestion",
  "notebookId": 1507370365634717
 },
 "nbformat": 4,
 "nbformat_minor": 4
}
