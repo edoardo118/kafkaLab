{
 "cells": [
  {
   "cell_type": "markdown",
   "metadata": {},
   "source": [
    "<div style=\"text-align: center; line-height: 0; padding-top: 2px;\">\n",
    "  <img src=\"https://www.quantiaconsulting.com/logos/quantia_logo_orizz.png\" alt=\"Quantia Consulting\" style=\"width: 600px; height: 250px\">\n",
    "</div>"
   ]
  },
  {
   "cell_type": "markdown",
   "metadata": {},
   "source": [
    "# ![Quantia Tiny Logo](https://www.quantiaconsulting.com/logos/quantia_logo_tiny.png) JDBC Ingestion\n",
    "\n",
    "**Data Source**\n",
    "* The data is available on a remote PostgreSQL db:\n",
    "  * dbms: PostgresSQL\n",
    "  * db name: `hdp`\n",
    "  * table: `trucks`\n",
    "  * username: `qcro`\n",
    "  * password: `qc-readonly`\n",
    "\n",
    "**Instructions**\n",
    "* Crate the JDBC connection String using **pyspark**\n",
    "* Connect and read the data from the table\n",
    "* Show the number of partitions\n",
    "* [OPTIONAL] Try to increase the number of partitions and shortly discuss the performance gain (if any)"
   ]
  },
  {
   "cell_type": "markdown",
   "metadata": {},
   "source": [
    "## ![Spark Logo Tiny](https://www.quantiaconsulting.com/logos/logo_spark_tiny.png) Pyspark"
   ]
  },
  {
   "cell_type": "code",
   "execution_count": null,
   "metadata": {},
   "outputs": [],
   "source": [
    "%load_ext autotime\n",
    "\n",
    "import os\n",
    "import qcutils\n",
    "from pyspark.sql import SparkSession\n",
    "\n",
    "os.environ['PYSPARK_SUBMIT_ARGS'] = '--packages org.postgresql:postgresql:42.2.10,com.amazonaws:aws-java-sdk:1.7.4,org.apache.hadoop:hadoop-aws:2.7.5 pyspark-shell'\n",
    "\n",
    "spark = (SparkSession.builder \n",
    "    .master(\"local[*]\")\n",
    "    .appName(\"test\")\n",
    "    .getOrCreate()\n",
    "        )\n",
    "qcutils.init_spark_session(spark)"
   ]
  },
  {
   "cell_type": "code",
   "execution_count": null,
   "metadata": {},
   "outputs": [],
   "source": [
    "tableName = \"trucks\"\n",
    "jdbcURL = \"jdbc:postgresql://54.195.117.194/hdp\"\n",
    "\n",
    "connProperties = {\n",
    "    \"driver\": \"org.postgresql.Driver\",\n",
    "    \"user\": \"qcro\",\n",
    "    \"password\": \"qc-readonly\"\n",
    "}"
   ]
  },
  {
   "cell_type": "code",
   "execution_count": null,
   "metadata": {},
   "outputs": [],
   "source": [
    "df = spark.read.jdbc(\n",
    "    url=jdbcURL,\n",
    "    table=tableName,\n",
    "    properties=connProperties)\n",
    "\n",
    "print(\"Partitions: \" + str(df.rdd.getNumPartitions()) )"
   ]
  },
  {
   "cell_type": "code",
   "execution_count": null,
   "metadata": {},
   "outputs": [],
   "source": [
    "df"
   ]
  },
  {
   "cell_type": "code",
   "execution_count": null,
   "metadata": {},
   "outputs": [],
   "source": [
    "from pyspark.sql.functions import *\n",
    "\n",
    "minimumJun = (df\n",
    "  .select(min(\"jun13_miles\"))\n",
    "  .first()[\"min(jun13_miles)\"]\n",
    ")\n",
    "maximumJun = (df\n",
    "  .select(max(\"jun13_miles\"))\n",
    "  .first()[\"max(jun13_miles)\"]\n",
    ")\n",
    "\n",
    "\n",
    "df2 = spark.read.jdbc(\n",
    "  url=jdbcURL,\n",
    "  table=tableName,\n",
    "  column=\"jun13_miles\",\n",
    "  lowerBound=minimumJun,\n",
    "  upperBound=maximumJun,\n",
    "  numPartitions=4,\n",
    "  properties=connProperties)\n",
    "\n",
    "print(\"Partitions: \" + str(df2.rdd.getNumPartitions()) )"
   ]
  },
  {
   "cell_type": "markdown",
   "metadata": {},
   "source": [
    "##### ![Quantia Tiny Logo](https://www.quantiaconsulting.com/logos/quantia_logo_tiny.png) 2020 Quantia Consulting, srl. All rights reserved."
   ]
  }
 ],
 "metadata": {
  "kernelspec": {
   "display_name": "Python 3",
   "language": "python",
   "name": "python3"
  },
  "language_info": {
   "codemirror_mode": {
    "name": "ipython",
    "version": 3
   },
   "file_extension": ".py",
   "mimetype": "text/x-python",
   "name": "python",
   "nbconvert_exporter": "python",
   "pygments_lexer": "ipython3",
   "version": "3.7.6"
  },
  "name": "jdbc-ingestion",
  "notebookId": 1507370365634746
 },
 "nbformat": 4,
 "nbformat_minor": 4
}
