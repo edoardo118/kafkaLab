{
 "cells": [
  {
   "cell_type": "markdown",
   "metadata": {},
   "source": [
    "<div style=\"text-align: center; line-height: 0; padding-top: 2px;\">\n",
    "  <img src=\"https://www.quantiaconsulting.com/logos/quantia_logo_orizz.png\" alt=\"Quantia Consulting\" style=\"width: 600px; height: 250px\">\n",
    "</div>"
   ]
  },
  {
   "cell_type": "markdown",
   "metadata": {},
   "source": [
    "# Bulk Data ingestion Challenge\n",
    "\n",
    "## Basic Instructions:\n",
    "* The overall challenge consists in solving different exercises on the ingestion techniques* You can find different \n",
    "* You can find different notebooks in the folder `blocks`: one for each ingestion technique. Each notebook contains information on the specific data source to ingest"
   ]
  },
  {
   "cell_type": "markdown",
   "metadata": {},
   "source": [
    "## General Information\n",
    "### Running Services\n",
    "\n",
    "|   Service Name  |  Service Address   | Port  | Username  | Password |\n",
    "|:---------------:|:------------------:|-------|-----------|----------|\n",
    "| Postgres SQL    | 54.195.117.194     | 5432  | qcro  | qc-readonly |\n"
   ]
  },
  {
   "cell_type": "markdown",
   "metadata": {},
   "source": [
    "**Please find the list of the different Blocks**\n",
    "* [CSV Ingestion](blocks/csv-ingestion.ipynb)\n",
    "* [JSON Ingestion](blocks/json-ingestion.ipynb)\n",
    "* [JDBC Ingestion](blocks/jdbc-ingestion.ipynb)"
   ]
  },
  {
   "cell_type": "markdown",
   "metadata": {},
   "source": [
    "##### ![Quantia Tiny Logo](https://www.quantiaconsulting.com/logos/quantia_logo_tiny.png) 2020 Quantia Consulting, srl. All rights reserved."
   ]
  }
 ],
 "metadata": {
  "kernelspec": {
   "display_name": "Python 3",
   "language": "python",
   "name": "python3"
  },
  "language_info": {
   "codemirror_mode": {
    "name": "ipython",
    "version": 3
   },
   "file_extension": ".py",
   "mimetype": "text/x-python",
   "name": "python",
   "nbconvert_exporter": "python",
   "pygments_lexer": "ipython3",
   "version": "3.7.6"
  },
  "name": "general-instructions",
  "notebookId": 1507370365634679
 },
 "nbformat": 4,
 "nbformat_minor": 4
}
