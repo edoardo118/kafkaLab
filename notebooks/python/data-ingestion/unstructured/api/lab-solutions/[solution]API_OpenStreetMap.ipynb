{
 "cells": [
  {
   "cell_type": "markdown",
   "metadata": {},
   "source": [
    "<div style=\"text-align: center; line-height: 0; padding-top: 2px;\">\n",
    "  <img src=\"https://www.quantiaconsulting.com/logos/quantia_logo_orizz.png\" alt=\"Quantia Consulting\" style=\"width: 600px; height: 250px\">\n",
    "</div>"
   ]
  },
  {
   "cell_type": "markdown",
   "metadata": {},
   "source": [
    "# Retrieving Geo Data\n",
    "\n",
    "## OpenStreetMap API\n",
    "\n",
    "* [OpenStreetMap](https://www.openstreetmap.org/) is an open source map of the world, with an incredible amount of geographic and labeled data (around 800 GB the complete dataset).\n",
    "* The data is fully-accessible through Web interface or through several APIs.\n",
    "* [Overpass API](http://overpass-api.de/) allows to query specific data from the OSM dataset, exploiting labels attached to nodes.\n",
    "\n",
    "## Instructions\n",
    "\n",
    "1) Learn how the query language works on http://overpass-turbo.eu/\n",
    "2) Interact with Overpass API:\n",
    "`Extract the location of all Biergarten in Germany and plot them on a map.`"
   ]
  },
  {
   "cell_type": "code",
   "execution_count": null,
   "metadata": {},
   "outputs": [],
   "source": [
    "import requests\n",
    "import json\n",
    "import numpy as np\n",
    "import matplotlib.pyplot as plt\n",
    "import matplotlib.image as mpimg\n",
    "\n",
    "%matplotlib inline"
   ]
  },
  {
   "cell_type": "markdown",
   "metadata": {},
   "source": [
    "## Geographical API Example"
   ]
  },
  {
   "cell_type": "markdown",
   "metadata": {},
   "source": [
    "Implement another query using Overpass API: _\"Extract all restaurants in Milan.\"_"
   ]
  },
  {
   "cell_type": "markdown",
   "metadata": {},
   "source": [
    "1. Go https://www.openstreetmap.org/ and find out what are the details needed for the query\n",
    "2. Test the query on http://overpass-turbo.eu/\n",
    "3. Implement it here and visualize results"
   ]
  },
  {
   "cell_type": "code",
   "execution_count": null,
   "metadata": {},
   "outputs": [],
   "source": [
    "overpass_url = \"http://overpass-api.de/api/interpreter\""
   ]
  },
  {
   "cell_type": "code",
   "execution_count": null,
   "metadata": {},
   "outputs": [],
   "source": [
    "overpass_query = \"\"\"\n",
    "[out:json];\n",
    "area[\"name\"=\"Milano\"][admin_level=8];\n",
    "(node[\"amenity\"=\"restaurant\"](area);\n",
    " way[\"amenity\"=\"restaurant\"](area);\n",
    " rel[\"amenity\"=\"restaurant\"](area);\n",
    ");\n",
    "out center;\n",
    "\"\"\""
   ]
  },
  {
   "cell_type": "code",
   "execution_count": null,
   "metadata": {},
   "outputs": [],
   "source": [
    "response = requests.get(overpass_url, params={'data': overpass_query})"
   ]
  },
  {
   "cell_type": "code",
   "execution_count": null,
   "metadata": {},
   "outputs": [],
   "source": [
    "data = response.json()"
   ]
  },
  {
   "cell_type": "code",
   "execution_count": null,
   "metadata": {},
   "outputs": [],
   "source": [
    "data['elements'][:5]"
   ]
  },
  {
   "cell_type": "markdown",
   "metadata": {},
   "source": [
    "Parse JSON response and plot the results"
   ]
  },
  {
   "cell_type": "code",
   "execution_count": null,
   "metadata": {},
   "outputs": [],
   "source": [
    "coords = []\n",
    "for element in data['elements']:\n",
    "    if element['type'] == 'node':\n",
    "        lon = element['lon']\n",
    "        lat = element['lat']\n",
    "        coords.append((lon, lat))\n",
    "    elif 'center' in element:\n",
    "        lon = element['center']['lon']\n",
    "        lat = element['center']['lat']\n",
    "        coords.append((lon, lat))"
   ]
  },
  {
   "cell_type": "code",
   "execution_count": null,
   "metadata": {},
   "outputs": [],
   "source": [
    "# convert coordinates into numpy array\n",
    "X = np.array(coords)\n",
    "\n",
    "plt.figure(figsize=(14, 14))\n",
    "plt.title('Restaurants in Milan')\n",
    "plt.xlabel('Longitude')\n",
    "plt.ylabel('Latitude')\n",
    "plt.axis('equal')\n",
    "\n",
    "plt.plot(X[:, 0], X[:, 1], 'o')"
   ]
  },
  {
   "cell_type": "markdown",
   "metadata": {},
   "source": [
    "Use BaseMap library to plot results over geographic map.\n",
    "\n",
    "**Note**: Memoy intensive!"
   ]
  },
  {
   "cell_type": "code",
   "execution_count": null,
   "metadata": {},
   "outputs": [],
   "source": [
    "# 1. Draw the map background\n",
    "fig = plt.figure(figsize=(12, 12))\n",
    "m = Basemap(projection='lcc', resolution='l', \n",
    "            lat_0=45.45, lon_0=9.20,\n",
    "            width=1E6, height=1.2E6)\n",
    "m.shadedrelief()\n",
    "m.drawcoastlines(color='gray')\n",
    "m.drawcountries(color='gray')\n",
    "m.drawstates(color='gray')\n",
    "\n",
    "# 2. scatterplot with data points\n",
    "m.scatter(X[:, 1], X[:, 0], latlon=True, alpha=0.5)"
   ]
  },
  {
   "cell_type": "markdown",
   "metadata": {},
   "source": [
    "Plot results over a map downloaded from OpenStreetMap, that allows to define the correct bounding box."
   ]
  },
  {
   "cell_type": "code",
   "execution_count": null,
   "metadata": {},
   "outputs": [],
   "source": [
    "milan_img = mpimg.imread('milano.png')"
   ]
  },
  {
   "cell_type": "code",
   "execution_count": null,
   "metadata": {},
   "outputs": [],
   "source": [
    "'''\n",
    "map = Basemap(projection='tmerc', \n",
    "              lat_0=0, lon_0=3,\n",
    "              llcrnrlon=1.819757266426611, \n",
    "              llcrnrlat=41.583851612359275, \n",
    "              urcrnrlon=1.841589961763497, \n",
    "              urcrnrlat=41.598674173123)\n",
    "'''\n",
    "\n",
    "plt.figure(figsize=(14, 14))\n",
    "plt.imshow(milan_img, extent=[9.075, 9.275, 45.375, 45.550], alpha=0.6) #xmin,xmax,ymin,ymax\n",
    "\n",
    "plt.title('Restaurants in Milan')\n",
    "plt.xlabel('Longitude')\n",
    "plt.ylabel('Latitude')\n",
    "plt.axis('equal')\n",
    "\n",
    "plt.plot(X[:, 0], X[:, 1], 'o', alpha=.8)\n",
    "\n"
   ]
  },
  {
   "cell_type": "code",
   "execution_count": null,
   "metadata": {},
   "outputs": [],
   "source": []
  },
  {
   "cell_type": "markdown",
   "metadata": {},
   "source": [
    "##### ![Quantia Tiny Logo](https://www.quantiaconsulting.com/logos/quantia_logo_tiny.png) 2020 Quantia Consulting, srl. All rights reserved."
   ]
  }
 ],
 "metadata": {
  "kernelspec": {
   "display_name": "Python 3",
   "language": "python",
   "name": "python3"
  },
  "language_info": {
   "codemirror_mode": {
    "name": "ipython",
    "version": 3
   },
   "file_extension": ".py",
   "mimetype": "text/x-python",
   "name": "python",
   "nbconvert_exporter": "python",
   "pygments_lexer": "ipython3",
   "version": "3.7.6"
  }
 },
 "nbformat": 4,
 "nbformat_minor": 4
}
