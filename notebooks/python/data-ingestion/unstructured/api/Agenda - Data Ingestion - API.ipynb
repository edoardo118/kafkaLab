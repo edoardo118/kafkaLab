{
 "cells": [
  {
   "cell_type": "markdown",
   "metadata": {},
   "source": [
    "<div style=\"text-align: center; line-height: 0; padding-top: 2px;\">\n",
    "  <img src=\"https://www.quantiaconsulting.com/logos/quantia_logo_orizz.png\" alt=\"Quantia Consulting\" style=\"width: 600px; height: 250px\">\n",
    "</div>"
   ]
  },
  {
   "cell_type": "markdown",
   "metadata": {},
   "source": [
    "# Agenda - Data Ingestion - API"
   ]
  },
  {
   "cell_type": "markdown",
   "metadata": {},
   "source": [
    "| Topic | Description |\n",
    "|-------|-------------|\n",
    "|**Basic Concepts** | *Basic concepts on API and service-based architecture approaches, principles, advantages and roles of API in modern distributed data-driven architectures* |\n",
    "|**Extracting Data from Social Media** - [demo](lab/[demo]API_Twitter.ipynb), [hands-on](lab/[hands-on]API_Twitter.ipynb)| *Extract tweets of given users using [Twitter API](https://developer.twitter.com/en/docs.html)* |\n",
    "|**Extracting Weather Data** - [demo](lab/[demo]API_Weather.ipynb), [hands-on](lab/[hands-on]API_Weather.ipynb)| *Extract current weather and weather forecasting using [OpenWeatherMap API](https://openweathermap.org/)* |\n",
    "|**Extracting Geographical Data** - [demo](lab/[demo]API_OpenStreetMap.ipynb), [hands-on](lab/[hands-on]API_OpenStreetMap.ipynb)| *Extract geolocated data from [OpenStreetMap API](https://wiki.openstreetmap.org/wiki/API)* |"
   ]
  },
  {
   "cell_type": "markdown",
   "metadata": {},
   "source": [
    "##### ![Quantia Tiny Logo](https://www.quantiaconsulting.com/logos/quantia_logo_tiny.png) 2020 Quantia Consulting, srl. All rights reserved."
   ]
  }
 ],
 "metadata": {
  "kernelspec": {
   "display_name": "Python 3",
   "language": "python",
   "name": "python3"
  },
  "language_info": {
   "codemirror_mode": {
    "name": "ipython",
    "version": 3
   },
   "file_extension": ".py",
   "mimetype": "text/x-python",
   "name": "python",
   "nbconvert_exporter": "python",
   "pygments_lexer": "ipython3",
   "version": "3.7.6"
  },
  "name": "Agenda - Data Ingestion",
  "notebookId": 1507370365633581
 },
 "nbformat": 4,
 "nbformat_minor": 4
}
