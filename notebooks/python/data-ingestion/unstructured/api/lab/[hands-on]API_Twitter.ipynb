{
 "cells": [
  {
   "cell_type": "markdown",
   "metadata": {},
   "source": [
    "<div style=\"text-align: center; line-height: 0; padding-top: 2px;\">\n",
    "  <img src=\"https://www.quantiaconsulting.com/logos/quantia_logo_orizz.png\" alt=\"Quantia Consulting\" style=\"width: 600px; height: 250px\">\n",
    "</div>"
   ]
  },
  {
   "cell_type": "markdown",
   "metadata": {},
   "source": [
    "# Retrieving Data from Social Media\n",
    "\n",
    "## Twitter API\n",
    "\n",
    "The API allows to retrieve tweets and users data from Twitter in JSON format: each data point has all the features that are observable on the social network.\n",
    "\n",
    "**NOTES**\n",
    "* API have **limitations**: each endpoint can be queried for a limited number of data points in a fixed time window of 15 minutes.\n",
    "* Python API Wrapper: _tweepy_ (https://tweepy.readthedocs.io/en/3.7.0/api.html)\n",
    "\n",
    "## Instructions\n",
    "\n",
    "1. Generate an API key from Twitter (https://developer.twitter.com/en/docs/basics/authentication/guides/access-tokens.html)\n",
    "\n",
    "1. Interact with the API: `Retrieve account information, a sample of tweets and the list of followers of a given user.`\n"
   ]
  },
  {
   "cell_type": "code",
   "execution_count": null,
   "metadata": {},
   "outputs": [],
   "source": [
    "import time\n",
    "import json\n",
    "import tweepy\n",
    "import pandas as pd"
   ]
  },
  {
   "cell_type": "markdown",
   "metadata": {},
   "source": [
    "Function to handle correctly the possible errors while iterating cursors."
   ]
  },
  {
   "cell_type": "code",
   "execution_count": null,
   "metadata": {
    "collapsed": true,
    "jupyter": {
     "outputs_hidden": true
    }
   },
   "outputs": [],
   "source": [
    "def limit_handled(cursor):\n",
    "    while True:  \n",
    "        try:\n",
    "            yield cursor.next()    \n",
    "        except tweepy.RateLimitError:\n",
    "            print ('API Rate Limit exceeded. Waiting...')\n",
    "            time.sleep(15 * 60)"
   ]
  },
  {
   "cell_type": "markdown",
   "metadata": {},
   "source": [
    "## Twitter API Exercise"
   ]
  },
  {
   "cell_type": "markdown",
   "metadata": {},
   "source": [
    "Twitter API credentials"
   ]
  },
  {
   "cell_type": "code",
   "execution_count": null,
   "metadata": {
    "collapsed": true,
    "jupyter": {
     "outputs_hidden": true
    }
   },
   "outputs": [],
   "source": [
    "cred = { \"consumer_key\" : \"\",\n",
    "         \"consumer_secret\" : \"\",\n",
    "         \"access_token\" : \"\",\n",
    "         \"access_token_secret\" : \"\"\n",
    "       }"
   ]
  },
  {
   "cell_type": "code",
   "execution_count": null,
   "metadata": {
    "collapsed": true,
    "jupyter": {
     "outputs_hidden": true
    }
   },
   "outputs": [],
   "source": [
    "auth = "
   ]
  },
  {
   "cell_type": "markdown",
   "metadata": {},
   "source": [
    "Initialize Twitter object"
   ]
  },
  {
   "cell_type": "code",
   "execution_count": null,
   "metadata": {
    "collapsed": true,
    "jupyter": {
     "outputs_hidden": true
    }
   },
   "outputs": [],
   "source": [
    "twitter = "
   ]
  },
  {
   "cell_type": "markdown",
   "metadata": {},
   "source": [
    "### a) Search for _football players_ users and save the result in tabular format"
   ]
  },
  {
   "cell_type": "markdown",
   "metadata": {},
   "source": [
    "**Note**: set up a reasonable maximum number of users to search for, handling the API Rate Limit correctly"
   ]
  },
  {
   "cell_type": "code",
   "execution_count": null,
   "metadata": {
    "collapsed": true,
    "jupyter": {
     "outputs_hidden": true
    }
   },
   "outputs": [],
   "source": [
    "def save_user(u):"
   ]
  },
  {
   "cell_type": "code",
   "execution_count": null,
   "metadata": {
    "collapsed": true,
    "jupyter": {
     "outputs_hidden": true
    }
   },
   "outputs": [],
   "source": [
    "query = \n",
    "N_MAX = \n",
    "\n",
    "header = []"
   ]
  },
  {
   "cell_type": "code",
   "execution_count": null,
   "metadata": {
    "collapsed": true,
    "jupyter": {
     "outputs_hidden": true
    }
   },
   "outputs": [],
   "source": [
    "users_df = \n",
    "for u in :"
   ]
  },
  {
   "cell_type": "code",
   "execution_count": null,
   "metadata": {
    "collapsed": true,
    "jupyter": {
     "outputs_hidden": true
    }
   },
   "outputs": [],
   "source": [
    "users_df.head()"
   ]
  },
  {
   "cell_type": "markdown",
   "metadata": {},
   "source": [
    "### b) For each user, if it has #followers < 1000, extract the followers and following list, storing both in a unique table."
   ]
  },
  {
   "cell_type": "code",
   "execution_count": null,
   "metadata": {
    "collapsed": true,
    "jupyter": {
     "outputs_hidden": true
    }
   },
   "outputs": [],
   "source": [
    "users_filtered = "
   ]
  },
  {
   "cell_type": "code",
   "execution_count": null,
   "metadata": {
    "collapsed": true,
    "jupyter": {
     "outputs_hidden": true
    }
   },
   "outputs": [],
   "source": [
    "users_filtered.head()"
   ]
  },
  {
   "cell_type": "code",
   "execution_count": null,
   "metadata": {
    "collapsed": true,
    "jupyter": {
     "outputs_hidden": true
    }
   },
   "outputs": [],
   "source": [
    "follow = \n",
    "\n",
    "for index, u in users_filtered.iterrows():\n",
    "    id_user = \n",
    "    \n",
    "    # get all followers\n",
    "    for follower in \n",
    "        \n",
    "    \n",
    "    # get all following\n",
    "    for following in \n",
    "        "
   ]
  },
  {
   "cell_type": "markdown",
   "metadata": {},
   "source": [
    "### c) For each _following user_ of searched users (a), extract and save all their information\n",
    "\n",
    "Pay attention to **not wasting API calls**: if a following user is also a target user, the data is already present in the data and should not be asked to the API."
   ]
  },
  {
   "cell_type": "code",
   "execution_count": null,
   "metadata": {
    "collapsed": true,
    "jupyter": {
     "outputs_hidden": true
    }
   },
   "outputs": [],
   "source": [
    "for index, u in users_filtered.iterrows():\n",
    "    id_user = \n",
    "    \n",
    "    for index, following in \n",
    "        id_following = "
   ]
  },
  {
   "cell_type": "code",
   "execution_count": null,
   "metadata": {
    "collapsed": true,
    "jupyter": {
     "outputs_hidden": true
    }
   },
   "outputs": [],
   "source": [
    "# save user data\n",
    "spark_df = spark.createDataFrame(users_df)\n",
    "spark_df.write.mode(\"overwrite\").saveAsTable(\"default.football_players\")\n",
    "\n",
    "# save following and followers\n",
    "spark_df = spark.createDataFrame(follow)\n",
    "spark_df.write.mode(\"overwrite\").saveAsTable(\"default.football_players_social_network\")"
   ]
  },
  {
   "cell_type": "code",
   "execution_count": null,
   "metadata": {
    "collapsed": true,
    "jupyter": {
     "outputs_hidden": true
    }
   },
   "outputs": [],
   "source": []
  },
  {
   "cell_type": "markdown",
   "metadata": {},
   "source": [
    "##### ![Quantia Tiny Logo](https://www.quantiaconsulting.com/logos/quantia_logo_tiny.png) 2020 Quantia Consulting, srl. All rights reserved."
   ]
  }
 ],
 "metadata": {
  "kernelspec": {
   "display_name": "Python 3",
   "language": "python",
   "name": "python3"
  },
  "language_info": {
   "codemirror_mode": {
    "name": "ipython",
    "version": 3
   },
   "file_extension": ".py",
   "mimetype": "text/x-python",
   "name": "python",
   "nbconvert_exporter": "python",
   "pygments_lexer": "ipython3",
   "version": "3.7.6"
  }
 },
 "nbformat": 4,
 "nbformat_minor": 4
}
