{
 "cells": [
  {
   "cell_type": "markdown",
   "metadata": {},
   "source": [
    "<div style=\"text-align: center; line-height: 0; padding-top: 2px;\">\n",
    "  <img src=\"https://www.quantiaconsulting.com/logos/quantia_logo_orizz.png\" alt=\"Quantia Consulting\" style=\"width: 600px; height: 250px\">\n",
    "</div>"
   ]
  },
  {
   "cell_type": "markdown",
   "metadata": {},
   "source": [
    "# Reading Data with Spark - Summary\n",
    "\n",
    "In this notebook, we will quickly compare the various methods for reading in data.\n",
    "\n",
    "**Technical Accomplishments:**\n",
    "- Contrast the various techniques for reading data."
   ]
  },
  {
   "cell_type": "markdown",
   "metadata": {},
   "source": [
    "## General and Comparison\n",
    "- The pandas I/O API is a set of top level `reader` functions that generally return a pandas object (a `DataFrame`). \n",
    "\n",
    "|**Format**|**Data Description**|**Reader**    |\n",
    "|----------|--------------------|--------------|\n",
    "|text      |CSV                 |read_csv      |\n",
    "|text      |JSON                |read_json     |\n",
    "|text      |HTML                |read_html     |\n",
    "|text      |Local clipboard     |read_clipboard|\n",
    "|binary    |MS Excel            |read_excel    |\n",
    "|binary    |HDF5 Format         |read_hdf      |\n",
    "|binary    |Feather Format      |read_feather  |\n",
    "|binary    |Parquet Format      |read_parquet  |\n",
    "|binary    |Msgpack             |read_msgpack  |\n",
    "|binary    |Stata               |read_stata    |\n",
    "|binary    |SAS                 |read_sas      |\n",
    "|binary    |Python Pickle Format|read_pickle   |\n",
    "|SQL       |SQL                 |read_sql      |\n",
    "|SQL       |Google Big Query    |read_gbq      |\n",
    "\n",
    "**Note**: We ofered an overview on some of the functions\n",
    "\n",
    "**More information**: http://pandas.pydata.org/pandas-docs/stable/io.html"
   ]
  },
  {
   "cell_type": "markdown",
   "metadata": {},
   "source": [
    "## Reading CSV\n",
    "- `pandas.read_csv(..)`\n",
    "- This represent the horsework pandas reading function\n",
    "- There are many different option to customize the read operation.\n",
    "\n",
    "**More information**: http://pandas.pydata.org/pandas-docs/stable/user_guide/io.html#io-read-csv-table"
   ]
  },
  {
   "cell_type": "markdown",
   "metadata": {},
   "source": [
    "## Reading Excel\n",
    "- `pandas.read_excel(..)`\n",
    "- Excel files are very common.\n",
    "- Pandas is able to manage multiple sheets in the same file.\n",
    "\n",
    "**More information**: http://pandas.pydata.org/pandas-docs/stable/user_guide/io.html#io-excel-reader"
   ]
  },
  {
   "cell_type": "markdown",
   "metadata": {},
   "source": [
    "## Reading Parquet\n",
    "- `pandas.read_parquet(..)`\n",
    "- Parquet files is a columnar file format.\n",
    "- It is a splittable file format.\n",
    "- Unlike CSV, the schema is read in, not inferred.\n",
    "- Reading the schema from Parquet's metadata can be extremely efficient.\n",
    "\n",
    "**More information**: http://pandas.pydata.org/pandas-docs/stable/user_guide/io.html#io-parquet"
   ]
  },
  {
   "cell_type": "markdown",
   "metadata": {},
   "source": [
    "## Reading Relational Data\n",
    "- `read_sql_table(...)`, `read_sql_query(...)`\n",
    "- Pandas offers the possibility to read a table or to push a query to the database\n",
    "\n",
    "**Note**: The connection to the database is maged by external lib (e.g. `sqlalchemy`)\n",
    "\n",
    "**More information**: http://pandas.pydata.org/pandas-docs/stable/user_guide/io.html#io-sql"
   ]
  },
  {
   "cell_type": "markdown",
   "metadata": {},
   "source": [
    "## Reading JSON\n",
    "- `read_json`\n",
    "- JSON represents complex data types unlike CSV's flat format.\n",
    "- Has many of the same limitations as CSV (needing to read the entire file to infer the schema)\n",
    "- Like CSV has a lot of options allowing control on date formats, escaping, single vs. multiline JSON, etc.\n",
    "\n",
    "**More information**: http://pandas.pydata.org/pandas-docs/stable/user_guide/io.html#io-json-reader"
   ]
  },
  {
   "cell_type": "markdown",
   "metadata": {},
   "source": [
    "##### ![Quantia Tiny Logo](https://www.quantiaconsulting.com/logos/quantia_logo_tiny.png) 2020 Quantia Consulting, srl. All rights reserved."
   ]
  }
 ],
 "metadata": {
  "kernelspec": {
   "display_name": "Python 3",
   "language": "python",
   "name": "python3"
  },
  "language_info": {
   "codemirror_mode": {
    "name": "ipython",
    "version": 3
   },
   "file_extension": ".py",
   "mimetype": "text/x-python",
   "name": "python",
   "nbconvert_exporter": "python",
   "pygments_lexer": "ipython3",
   "version": "3.7.6"
  },
  "name": "Reading Data - Summary",
  "notebookId": 1507370365633547
 },
 "nbformat": 4,
 "nbformat_minor": 4
}
