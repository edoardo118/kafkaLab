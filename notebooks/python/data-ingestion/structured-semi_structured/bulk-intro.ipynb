{
 "cells": [
  {
   "cell_type": "markdown",
   "metadata": {},
   "source": [
    "<div style=\"text-align: center; line-height: 0; padding-top: 2px;\">\n",
    "  <img src=\"https://www.quantiaconsulting.com/logos/quantia_logo_orizz.png\" alt=\"Quantia Consulting\" style=\"width: 600px; height: 250px\">\n",
    "</div>"
   ]
  },
  {
   "cell_type": "markdown",
   "metadata": {},
   "source": [
    "# Reading Data with Pandas \n",
    "\n",
    "[pandas](https://pandas.pydata.org/) is the most important Python package at the disposal of Data Engineers and Scientists.\n",
    "\n",
    "> Pandas's name derives from **panel data**,  a  common  term  for  multidimensional  datasets encountered in statistics and econometrics. — [Wes McKinney](https://www.dlr.de/sc/Portaldata/15/Resources/dokumente/pyhpc2011/submissions/pyhpc2011_submission_9.pdf)\n",
    "\n",
    "Pandas' key features:\n",
    "* built on top of the [NumPy](https://numpy.org/) package.\n",
    "* input for\n",
    "  * statistical analysis in [SciPy](https://www.scipy.org/)\n",
    "  * plotting functions from [Matplotlib](https://matplotlib.org/) and [seaborn](https://seaborn.pydata.org/)\n",
    "  * and machine learning algorithms in [Scikit-learn](https://scikit-learn.org/)\n",
    "  \n",
    "[Pandas' documentation](https://pandas.pydata.org/pandas-docs/stable/index.html) is available oneline"
   ]
  },
  {
   "cell_type": "markdown",
   "metadata": {},
   "source": [
    "## ![Python Tiny Logo](https://dl.dropboxusercontent.com/s/wl9nvyva3qjsaz2/logo_python_tiny.png) Getting Started\n",
    "\n",
    "Let's start importing Pandas"
   ]
  },
  {
   "cell_type": "code",
   "execution_count": null,
   "metadata": {},
   "outputs": [],
   "source": [
    "%load_ext autotime\n",
    "import pandas as pd"
   ]
  },
  {
   "cell_type": "markdown",
   "metadata": {},
   "source": [
    "### Series and DataFrames\n",
    "\n",
    "The primary two components of pandas are\n",
    "\n",
    "| `Series` | `DataFrame` |\n",
    "|----------|-------------|\n",
    "| a column | a multi-dimensional table made up of a collection of Series |\n",
    "| ![](https://pandas.pydata.org/pandas-docs/stable/_images/01_table_series.svg) | ![](https://pandas.pydata.org/pandas-docs/stable/_images/01_table_dataframe1.svg) |\n",
    "\n",
    "**NOTE** *light gray* cells are data, while *dark gray* cells are indexes"
   ]
  },
  {
   "cell_type": "markdown",
   "metadata": {},
   "source": [
    "Let's create a dataframe"
   ]
  },
  {
   "cell_type": "code",
   "execution_count": null,
   "metadata": {},
   "outputs": [],
   "source": [
    "df = pd.DataFrame({\n",
    "       \"Name\": [\"Braund, Mr. Owen Harris\",\n",
    "                \"Allen, Mr. William Henry\",\n",
    "                \"Bonnell, Miss. Elizabeth\"],\n",
    "       \"Age\": [22, 35, 58],\n",
    "       \"Sex\": [\"male\", \"male\", \"female\"]}\n",
    "   )"
   ]
  },
  {
   "cell_type": "markdown",
   "metadata": {},
   "source": [
    "Let's have a look to the results"
   ]
  },
  {
   "cell_type": "code",
   "execution_count": null,
   "metadata": {},
   "outputs": [],
   "source": [
    "df"
   ]
  },
  {
   "cell_type": "markdown",
   "metadata": {},
   "source": [
    "**0**, **1**, **2** are *row indexes*\n",
    "\n",
    "**Name**, **Age** and **Sex** are *column indexes*\n",
    "\n",
    "[pandas.DataFrame.info()](https://pandas.pydata.org/pandas-docs/stable/reference/api/pandas.DataFrame.info.html?highlight=info#pandas.DataFrame.info) prints information about a DataFrame including the index dtype and column dtypes, non-null values and memory usage."
   ]
  },
  {
   "cell_type": "code",
   "execution_count": null,
   "metadata": {},
   "outputs": [],
   "source": [
    "df.info()"
   ]
  },
  {
   "cell_type": "markdown",
   "metadata": {},
   "source": [
    "### ![Python Tiny Logo](https://dl.dropboxusercontent.com/s/wl9nvyva3qjsaz2/logo_python_tiny.png)  Using column indexes\n",
    "\n",
    "we can use *column indexes* to access the columns\n",
    "\n",
    "![](https://pandas.pydata.org/pandas-docs/stable/_images/03_subset_columns.svg)\n",
    "\n",
    "If we access just one column the result is a Pandas' `series`"
   ]
  },
  {
   "cell_type": "code",
   "execution_count": null,
   "metadata": {},
   "outputs": [],
   "source": [
    "df[\"Age\"]"
   ]
  },
  {
   "cell_type": "markdown",
   "metadata": {},
   "source": [
    "If we access multiple columns the result is a Pandas' `DataFrame`"
   ]
  },
  {
   "cell_type": "code",
   "execution_count": null,
   "metadata": {},
   "outputs": [],
   "source": [
    "df[[\"Age\",\"Sex\"]]"
   ]
  },
  {
   "cell_type": "markdown",
   "metadata": {},
   "source": [
    "*NOTE*: the selection of a single column is very similar to selection of dictionary values based on the key in Python dictionaries"
   ]
  },
  {
   "cell_type": "markdown",
   "metadata": {},
   "source": [
    "### ![Python Tiny Logo](https://dl.dropboxusercontent.com/s/wl9nvyva3qjsaz2/logo_python_tiny.png) Using row indexes\n",
    "\n",
    "we can use *row indexes* to access the rows. \n",
    "\n",
    "Also in this case, the result is a Pandas' `series` if we select a single row.\n",
    "\n",
    "![](https://pandas.pydata.org/pandas-docs/stable/_images/03_subset_rows.svg)"
   ]
  },
  {
   "cell_type": "code",
   "execution_count": null,
   "metadata": {},
   "outputs": [],
   "source": [
    "df.loc[1]"
   ]
  },
  {
   "cell_type": "markdown",
   "metadata": {},
   "source": [
    "Otherwise, it is a `DataFrame`"
   ]
  },
  {
   "cell_type": "code",
   "execution_count": null,
   "metadata": {},
   "outputs": [],
   "source": [
    "df.loc[0:1]"
   ]
  },
  {
   "cell_type": "markdown",
   "metadata": {},
   "source": [
    "*NOTE*: the selection of rows is very similar to slicing Python lists"
   ]
  },
  {
   "cell_type": "markdown",
   "metadata": {},
   "source": [
    "### ![Python Tiny Logo](https://dl.dropboxusercontent.com/s/wl9nvyva3qjsaz2/logo_python_tiny.png)  Using row and column indexes together\n",
    "\n",
    "we can use *row* and *column indexes* together to select a subset of both rows and columns.\n",
    "\n",
    "![](https://pandas.pydata.org/pandas-docs/stable/_images/03_subset_columns_rows1.svg)"
   ]
  },
  {
   "cell_type": "markdown",
   "metadata": {},
   "source": [
    "notice that the following code return a `DataFrame` with all data"
   ]
  },
  {
   "cell_type": "code",
   "execution_count": null,
   "metadata": {},
   "outputs": [],
   "source": [
    "df.iloc[0:3, 0:3]"
   ]
  },
  {
   "cell_type": "markdown",
   "metadata": {},
   "source": [
    "This one returns only the first two columns of the second and third rows."
   ]
  },
  {
   "cell_type": "code",
   "execution_count": null,
   "metadata": {},
   "outputs": [],
   "source": [
    "df.iloc[1:3, 0:2]"
   ]
  },
  {
   "cell_type": "markdown",
   "metadata": {},
   "source": [
    "This one returns the first and the third columns of the first and third rows."
   ]
  },
  {
   "cell_type": "code",
   "execution_count": null,
   "metadata": {},
   "outputs": [],
   "source": [
    "df.iloc[[0,2], [0,2]]"
   ]
  },
  {
   "cell_type": "markdown",
   "metadata": {},
   "source": [
    "*Question*: how do you select the first and the third columns of the first and second rows?"
   ]
  },
  {
   "cell_type": "code",
   "execution_count": null,
   "metadata": {},
   "outputs": [],
   "source": [
    "df.<fill-in>"
   ]
  },
  {
   "cell_type": "markdown",
   "metadata": {},
   "source": [
    "*Question*: how do you select the second column of the second row?"
   ]
  },
  {
   "cell_type": "code",
   "execution_count": null,
   "metadata": {},
   "outputs": [],
   "source": [
    "df.<fill-in>"
   ]
  },
  {
   "cell_type": "markdown",
   "metadata": {},
   "source": [
    "### ![Python Tiny Logo](https://dl.dropboxusercontent.com/s/wl9nvyva3qjsaz2/logo_python_tiny.png)  Input/Output APIs\n",
    "\n",
    "Look up the documentation for [Input/Output APIs](https://pandas.pydata.org/pandas-docs/stable/reference/io.html)\n",
    "\n",
    "|**Format**|**Data Description**|**Reader**    |\n",
    "|----------|--------------------|--------------|\n",
    "|text      |CSV                 |read_csv      |\n",
    "|text      |JSON                |read_json     |\n",
    "|text      |HTML                |read_html     |\n",
    "|text      |Local clipboard     |read_clipboard|\n",
    "|binary    |MS Excel            |read_excel    |\n",
    "|binary    |HDF5 Format         |read_hdf      |\n",
    "|binary    |Feather Format      |read_feather  |\n",
    "|binary    |Parquet Format      |read_parquet  |\n",
    "|binary    |Msgpack             |read_msgpack  |\n",
    "|binary    |Stata               |read_stata    |\n",
    "|binary    |SAS                 |read_sas      |\n",
    "|binary    |Python Pickle Format|read_pickle   |\n",
    "|SQL       |SQL                 |read_sql      |\n",
    "|SQL       |Google Big Query    |read_gbq      |\n",
    "\n",
    "The pandas I/O API is a set of top level `reader` functions that generally return a pandas object (a `DataFrame`). \n",
    "\n",
    "**Note**: We will offer an overview on some of the functions"
   ]
  },
  {
   "cell_type": "markdown",
   "metadata": {},
   "source": [
    "### Acknowledges\n",
    "\n",
    "This material was derived from [Pandas's Getting Started Tutorial on \"How do I select a subset of a DataFrame?\"](https://pandas.pydata.org/pandas-docs/stable/getting_started/intro_tutorials/01_table_oriented.html)"
   ]
  },
  {
   "cell_type": "markdown",
   "metadata": {},
   "source": [
    "##### ![Quantia Tiny Logo](https://www.quantiaconsulting.com/logos/quantia_logo_tiny.png) 2020 Quantia Consulting, srl. All rights reserved."
   ]
  }
 ],
 "metadata": {
  "kernelspec": {
   "display_name": "Python 3",
   "language": "python",
   "name": "python3"
  },
  "language_info": {
   "codemirror_mode": {
    "name": "ipython",
    "version": 3
   },
   "file_extension": ".py",
   "mimetype": "text/x-python",
   "name": "python",
   "nbconvert_exporter": "python",
   "pygments_lexer": "ipython3",
   "version": "3.7.6"
  },
  "name": "Reading Data - CSV",
  "notebookId": 1507370365633276
 },
 "nbformat": 4,
 "nbformat_minor": 4
}
