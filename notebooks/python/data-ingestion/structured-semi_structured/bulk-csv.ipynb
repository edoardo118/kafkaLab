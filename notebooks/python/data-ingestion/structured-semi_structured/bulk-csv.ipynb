{
 "cells": [
  {
   "cell_type": "markdown",
   "metadata": {},
   "source": [
    "<div style=\"text-align: center; line-height: 0; padding-top: 2px;\">\n",
    "  <img src=\"https://www.quantiaconsulting.com/logos/quantia_logo_orizz.png\" alt=\"Quantia Consulting\" style=\"width: 600px; height: 250px\">\n",
    "</div>"
   ]
  },
  {
   "cell_type": "markdown",
   "metadata": {},
   "source": [
    "# Reading Data with Pandas - CSV Files\n",
    "\n",
    "**Technical Accomplishments:**\n",
    "- Start working with the API documentation\n",
    "- Read data from:\n",
    "  * CSV without a Schema.\n",
    "  * CSV with a Schema."
   ]
  },
  {
   "cell_type": "markdown",
   "metadata": {},
   "source": [
    "## ![Python Tiny Logo](https://dl.dropboxusercontent.com/s/wl9nvyva3qjsaz2/logo_python_tiny.png) Getting Started\n",
    "\n",
    "Let's start importing libraries and creating useful variables "
   ]
  },
  {
   "cell_type": "code",
   "execution_count": null,
   "metadata": {},
   "outputs": [],
   "source": [
    "%load_ext autotime\n",
    "\n",
    "import pandas\n",
    "import s3fs\n",
    "import boto3\n",
    "import io\n",
    "import qcutils\n",
    "\n",
    "baseUri = \"s3://quantia-master/training/\""
   ]
  },
  {
   "cell_type": "markdown",
   "metadata": {},
   "source": [
    "## ![Python Tiny Logo](https://dl.dropboxusercontent.com/s/wl9nvyva3qjsaz2/logo_python_tiny.png) Pandas API\n",
    "\n",
    "The pandas I/O API is a set of top level `reader` functions that generally return a pandas object (a `DataFrame`). The corresponding `writer` functions are object methods. \n",
    "\n",
    "|**Format**|**Data Description**|**Reader**    |**Writer**  |\n",
    "|----------|--------------------|--------------|------------|\n",
    "|text      |CSV                 |read_csv      |to_csv      |\n",
    "|text      |JSON                |read_json     |to_json     |\n",
    "|text      |HTML                |read_html     |to_html     |\n",
    "|text      |Local clipboard     |read_clipboard|to_clipboard|\n",
    "|binary    |MS Excel            |read_excel    |to_excel    |\n",
    "|binary    |HDF5 Format         |read_hdf      |to_hdf      |\n",
    "|binary    |Feather Format      |read_feather  |to_feather  |\n",
    "|binary    |Parquet Format      |read_parquet  |to_parquet  |\n",
    "|binary    |Msgpack             |read_msgpack  |to_msgpack  |\n",
    "|binary    |Stata               |read_stata    |to_stata    |\n",
    "|binary    |SAS                 |read_sas      |            |\n",
    "|binary    |Python Pickle Format|read_pickle   |to_pickle   |\n",
    "|SQL       |SQL                 |read_sql      |to_sql      |\n",
    "|SQL       |Google Big Query    |read_gbq      |to_gbq      |\n",
    "\n",
    "**Note** For more information http://pandas.pydata.org/pandas-docs/stable/io.html"
   ]
  },
  {
   "cell_type": "markdown",
   "metadata": {},
   "source": [
    "## ![Python Tiny Logo](https://dl.dropboxusercontent.com/s/wl9nvyva3qjsaz2/logo_python_tiny.png) Reading from CSV w/InferSchema\n",
    "\n",
    "We are going to start by reading in a very simple text file."
   ]
  },
  {
   "cell_type": "markdown",
   "metadata": {},
   "source": [
    "### The Data Source\n",
    "* For this exercise, we will be using a tab-separated file called **wikipedia_pageviews_by_second.tsv** (<a href=\"https://datahub.io/en/dataset/english-wikipedia-pageviews-by-second\" target=\"_blank\">255 MB</a> file from Wikipedia)"
   ]
  },
  {
   "cell_type": "code",
   "execution_count": null,
   "metadata": {},
   "outputs": [],
   "source": [
    "qcutils.print_s3_bucket_object(key='training/wikipedia_pageviews_by_second.tsv')"
   ]
  },
  {
   "cell_type": "markdown",
   "metadata": {},
   "source": [
    "### Read The CSV File\n",
    "Let's start with the bare minimum by specifying the tab character as the delimiter and the location of the file:"
   ]
  },
  {
   "cell_type": "code",
   "execution_count": null,
   "metadata": {},
   "outputs": [],
   "source": [
    "# A reference to our tab-seperated-file\n",
    "csvFile = baseUri + \"wikipedia_pageviews_by_second.tsv\"\n",
    "\n",
    "tempDF = pandas.read_csv(csvFile)"
   ]
  },
  {
   "cell_type": "markdown",
   "metadata": {},
   "source": [
    "Let's take a look at the result!"
   ]
  },
  {
   "cell_type": "code",
   "execution_count": null,
   "metadata": {},
   "outputs": [],
   "source": [
    "print(tempDF.head())"
   ]
  },
  {
   "cell_type": "markdown",
   "metadata": {},
   "source": [
    "It looks strange, is the default separator correct?\n",
    "\n",
    "The file is a tsv!"
   ]
  },
  {
   "cell_type": "code",
   "execution_count": null,
   "metadata": {},
   "outputs": [],
   "source": [
    "tempDF = pandas.read_csv(csvFile, sep=\"\\t\")\n",
    "display(tempDF)"
   ]
  },
  {
   "cell_type": "markdown",
   "metadata": {},
   "source": [
    "We can see the structure of the DataFrame by executing the command info()"
   ]
  },
  {
   "cell_type": "code",
   "execution_count": null,
   "metadata": {},
   "outputs": [],
   "source": [
    "tempDF.info()"
   ]
  },
  {
   "cell_type": "markdown",
   "metadata": {},
   "source": [
    "As you can see, pandas automatically detect the header of the file (it uses the first row) and infer the column data type (e.g. timestamp is an object)"
   ]
  },
  {
   "cell_type": "markdown",
   "metadata": {},
   "source": [
    "## Additional Info\n",
    "\n",
    "The `read_csv` offers many parameters to customize the reading action, for the complete list go to: http://pandas.pydata.org/pandas-docs/stable/io.html#io-read-csv-table"
   ]
  },
  {
   "cell_type": "markdown",
   "metadata": {},
   "source": [
    "### Review: Reading CSV w/InferSchema\n",
    "\n",
    "* The schema was automatically inferred\n",
    "  * We have three columns of different type\n",
    "* The header was automatically detected\n",
    "\n",
    "**Question:** Is it possible to manually set the index column?\n",
    "\n",
    "**Question:** What if one column is forced to be an index? Is it still a data column?\n",
    "\n",
    "**Hints**\n",
    "\n",
    "Go to the documentation and look for the parameters:\n",
    "* index_col"
   ]
  },
  {
   "cell_type": "code",
   "execution_count": null,
   "metadata": {},
   "outputs": [],
   "source": [
    "tempDF = pandas.read_csv(csvFile, sep=\"\\t\", index_col='timestamp')\n",
    "tempDF.info()"
   ]
  },
  {
   "cell_type": "markdown",
   "metadata": {},
   "source": [
    "## ![Python Tiny Logo](https://dl.dropboxusercontent.com/s/wl9nvyva3qjsaz2/logo_python_tiny.png) Reading from CSV w/User-Defined Schema\n",
    "\n",
    "This time we are going to read the same file.\n",
    "\n",
    "The difference here is that we are going to define the schema beforehand."
   ]
  },
  {
   "cell_type": "markdown",
   "metadata": {},
   "source": [
    "First let us refresh the information about the automatically detected schema"
   ]
  },
  {
   "cell_type": "code",
   "execution_count": null,
   "metadata": {},
   "outputs": [],
   "source": [
    "tempDF = pandas.read_csv(csvFile, sep=\"\\t\")\n",
    "tempDF.info()"
   ]
  },
  {
   "cell_type": "markdown",
   "metadata": {},
   "source": [
    "This time we use a user defined datatype for the columns.\n",
    "\n",
    "**Note:** We import numpy to exploit standard data types."
   ]
  },
  {
   "cell_type": "code",
   "execution_count": null,
   "metadata": {},
   "outputs": [],
   "source": [
    "import numpy as np\n",
    "\n",
    "tempDF = pandas.read_csv(csvFile, sep=\"\\t\", dtype={'site': np.str_, 'requests': np.int64})\n",
    "tempDF.info()"
   ]
  },
  {
   "cell_type": "markdown",
   "metadata": {},
   "source": [
    "We only pass schema of two columns, we skipped the date column.\n",
    "\n",
    "**Why?**\n",
    "\n",
    "Because datetime64 is not supported for parsing, you need to pass this column using parse_dates parameters in the `read_csv()`."
   ]
  },
  {
   "cell_type": "code",
   "execution_count": null,
   "metadata": {},
   "outputs": [],
   "source": [
    "tempDF = pandas.read_csv(csvFile, sep=\"\\t\", dtype={'site': np.str_, 'requests': np.int64}, parse_dates=['timestamp'])\n",
    "tempDF.info()"
   ]
  },
  {
   "cell_type": "markdown",
   "metadata": {},
   "source": [
    "##### ![Quantia Tiny Logo](https://www.quantiaconsulting.com/logos/quantia_logo_tiny.png) 2020 Quantia Consulting, srl. All rights reserved."
   ]
  }
 ],
 "metadata": {
  "kernelspec": {
   "display_name": "Python 3",
   "language": "python",
   "name": "python3"
  },
  "language_info": {
   "codemirror_mode": {
    "name": "ipython",
    "version": 3
   },
   "file_extension": ".py",
   "mimetype": "text/x-python",
   "name": "python",
   "nbconvert_exporter": "python",
   "pygments_lexer": "ipython3",
   "version": "3.7.6"
  },
  "name": "Reading Data - CSV",
  "notebookId": 1507370365633442
 },
 "nbformat": 4,
 "nbformat_minor": 4
}
