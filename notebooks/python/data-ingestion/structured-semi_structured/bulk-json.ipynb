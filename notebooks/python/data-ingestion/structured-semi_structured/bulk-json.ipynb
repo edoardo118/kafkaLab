{
 "cells": [
  {
   "cell_type": "markdown",
   "metadata": {},
   "source": [
    "<div style=\"text-align: center; line-height: 0; padding-top: 2px;\">\n",
    "  <img src=\"https://www.quantiaconsulting.com/logos/quantia_logo_orizz.png\" alt=\"Quantia Consulting\" style=\"width: 600px; height: 250px\">\n",
    "</div>"
   ]
  },
  {
   "cell_type": "markdown",
   "metadata": {},
   "source": [
    "# Reading Data Pandas - JSON Files\n",
    "\n",
    "**Technical Accomplishments:**\n",
    "- Read data from:\n",
    "  * JSON without a Schema\n",
    "  * JSON with a Schema"
   ]
  },
  {
   "cell_type": "markdown",
   "metadata": {},
   "source": [
    "## ![Python Tiny Logo](https://dl.dropboxusercontent.com/s/wl9nvyva3qjsaz2/logo_python_tiny.png) Getting Started\n",
    "\n",
    "Let's start importing libraries and creating useful variables"
   ]
  },
  {
   "cell_type": "code",
   "execution_count": null,
   "metadata": {},
   "outputs": [],
   "source": [
    "%load_ext autotime\n",
    "\n",
    "import pandas\n",
    "import s3fs\n",
    "import boto3\n",
    "import io\n",
    "import qcutils\n",
    "\n",
    "s3 = boto3.client('s3')\n",
    "baseUri = \"s3://quantia-master/training/\""
   ]
  },
  {
   "cell_type": "markdown",
   "metadata": {},
   "source": [
    "### JSON Lines\n",
    "\n",
    "Much like the CSV reader, the JSON reader also assumes...\n",
    "* That there is one JSON object per line and...\n",
    "* That it's delineated by a new-line.\n",
    "\n",
    "This format is referred to as **JSON Lines** or **newline-delimited JSON** \n",
    "\n",
    "More information about this format can be found at <a href=\"http://jsonlines.org/\" target=\"_blank\">http://jsonlines.org</a>."
   ]
  },
  {
   "cell_type": "markdown",
   "metadata": {},
   "source": [
    "### The Data Source\n",
    "* For this exercise, we will be using the file called **snapshot-2016-05-26.json** (<a href=\"https://wikitech.wikimedia.org/wiki/Stream.wikimedia.org/rc\" target=\"_blank\">4 MB</a> file from Wikipedia).\n",
    "* The data represents a set of edits to Wikipedia articles captured in May of 2016.\n",
    "\n",
    "Let's try to print a part of the file"
   ]
  },
  {
   "cell_type": "code",
   "execution_count": null,
   "metadata": {},
   "outputs": [],
   "source": [
    "qcutils.print_s3_bucket_object(key='training/snapshot-2016-05-26.json')"
   ]
  },
  {
   "cell_type": "markdown",
   "metadata": {},
   "source": [
    "## ![Python Tiny Logo](https://dl.dropboxusercontent.com/s/wl9nvyva3qjsaz2/logo_python_tiny.png)  Read The JSON File w/ Inferred Schema\n",
    "\n",
    "The command to read in JSON looks very similar to that of CSV.\n",
    "\n",
    "In addition to reading the JSON file, we will also print the resulting schema."
   ]
  },
  {
   "cell_type": "code",
   "execution_count": null,
   "metadata": {},
   "outputs": [],
   "source": [
    "jsonFile = baseUri + \"snapshot-2016-05-26.json\"\n",
    "\n",
    "df = pandas.read_json(jsonFile, lines=True)\n",
    "\n",
    "df.info()"
   ]
  },
  {
   "cell_type": "code",
   "execution_count": null,
   "metadata": {},
   "outputs": [],
   "source": [
    "display(df)"
   ]
  },
  {
   "cell_type": "markdown",
   "metadata": {},
   "source": [
    "##### ![Quantia Tiny Logo](https://www.quantiaconsulting.com/logos/quantia_logo_tiny.png) 2020 Quantia Consulting, srl. All rights reserved."
   ]
  }
 ],
 "metadata": {
  "kernelspec": {
   "display_name": "Python 3",
   "language": "python",
   "name": "python3"
  },
  "language_info": {
   "codemirror_mode": {
    "name": "ipython",
    "version": 3
   },
   "file_extension": ".py",
   "mimetype": "text/x-python",
   "name": "python",
   "nbconvert_exporter": "python",
   "pygments_lexer": "ipython3",
   "version": "3.7.6"
  },
  "name": "Reading Data - JSON",
  "notebookId": 1507370365633531
 },
 "nbformat": 4,
 "nbformat_minor": 4
}
