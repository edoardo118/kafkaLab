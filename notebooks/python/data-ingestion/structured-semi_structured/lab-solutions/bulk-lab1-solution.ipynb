{
 "cells": [
  {
   "cell_type": "markdown",
   "metadata": {},
   "source": [
    "<div style=\"text-align: center; line-height: 0; padding-top: 2px;\">\n",
    "  <img src=\"https://www.quantiaconsulting.com/logos/quantia_logo_orizz.png\" alt=\"Quantia Consulting\" style=\"width: 600px; height: 250px\">\n",
    "</div>"
   ]
  },
  {
   "cell_type": "markdown",
   "metadata": {},
   "source": [
    "# Reading Data Lab\n",
    "* The goal of this lab is to put into practice some of what you have learned about reading data with pandas."
   ]
  },
  {
   "cell_type": "markdown",
   "metadata": {},
   "source": [
    "## Instructions\n",
    "0. Start with the file **2015_02_clickstream.csv**, some random file you haven't seen yet.\n",
    "0. Look into the file (...what is the separator?)\n",
    "0. Read in the data and assign it to a `DataFrame` named **pyTestDF**.\n",
    "0. Run the last cell to verify that the data was loaded correctly and to print its schema.\n",
    "\n",
    "For the test to pass, the following columns should have the specified data types:\n",
    "* **prev_id**: Int64\n",
    "* **curr_id**: Int64\n",
    "* **n**: int64\n",
    "* **prev_title**: string\n",
    "* **curr_title**: string\n",
    "* **type**: string\n",
    "  \n",
    "**Note:** \n",
    "* In the columns prev_id and curr_id you can find `NaN` values (we will see later how to cope with it in a more useful way). `NaN` is a float and `numpy.int64` dtypes has no value for NaN and it ([src](https://pandas.pydata.org/pandas-docs/stable/user_guide/integer_na.html#nullable-integer-data-type)). Pandas provides `Int64` (note the capital \"I\", to differentiate from NumPy’s `int64`) nullable integer array dtype, which can be used to cope with `NaN` values in an an integer column ([src](https://pandas.pydata.org/pandas-docs/stable/user_guide/integer_na.html#nullable-integer-data-type)) \n",
    "* String types in python, is mapped as object in pandas (http://pbpython.com/pandas_dtypes.html)"
   ]
  },
  {
   "cell_type": "markdown",
   "metadata": {},
   "source": [
    "## Getting Started\n",
    "\n",
    "Let's start importing libraries and creating useful variables "
   ]
  },
  {
   "cell_type": "code",
   "execution_count": null,
   "metadata": {},
   "outputs": [],
   "source": [
    "%load_ext autotime\n",
    "\n",
    "import os\n",
    "import qcutils\n",
    "from pyspark.sql import SparkSession\n",
    "import boto3\n",
    "import io\n",
    "import pandas\n",
    "import s3fs\n",
    "\n",
    "baseUri = \"s3a://quantia-master/training/\""
   ]
  },
  {
   "cell_type": "markdown",
   "metadata": {},
   "source": [
    "## ![Python Tiny Logo](https://dl.dropboxusercontent.com/s/wl9nvyva3qjsaz2/logo_python_tiny.png) Show Your Ingestion Work in python"
   ]
  },
  {
   "cell_type": "code",
   "execution_count": null,
   "metadata": {},
   "outputs": [],
   "source": [
    "import numpy as np\n",
    "import csv\n",
    "\n",
    "pyCsvPath = baseUri + \"2015_02_clickstream.csv\"\n",
    "\n",
    "# During the pandas reading we manage malformed lines\n",
    "pyTestDF = ( pandas\n",
    "            .read_csv(\n",
    "              pyCsvPath\n",
    "              , sep=\"|\"\n",
    "              , dtype={\n",
    "                'prev_id': \"Int64\"\n",
    "                , 'curr_id': \"Int64\"\n",
    "                , 'n': np.int64\n",
    "                , 'prev_title': np.string_\n",
    "                , 'curr_title': np.string_\n",
    "                , 'type': np.string_\n",
    "              }\n",
    "            )\n",
    "           )"
   ]
  },
  {
   "cell_type": "code",
   "execution_count": null,
   "metadata": {},
   "outputs": [],
   "source": [
    "pyTestDF.info()"
   ]
  },
  {
   "cell_type": "markdown",
   "metadata": {},
   "source": [
    "## ![Python Tiny Logo](https://dl.dropboxusercontent.com/s/wl9nvyva3qjsaz2/logo_python_tiny.png) Verify Your python Result"
   ]
  },
  {
   "cell_type": "code",
   "execution_count": null,
   "metadata": {},
   "outputs": [],
   "source": [
    "pyTestDF.info()\n",
    "\n",
    "columns = pyTestDF.columns\n",
    "types = pyTestDF.dtypes\n",
    "\n",
    "assert len(columns) == 6, \"Expected 6 columns but found \" + str(len(columns))\n",
    "\n",
    "assert columns[0] == \"prev_id\",    \"Expected column 0 to be \\\"prev_id\\\" but found \\\"\" + columns[0][0] + \"\\\".\"\n",
    "assert types[0] == \"Int64\",        \"Expected column 0 to be of type \\\"int\\\" but found \\\"\" + columns[0][1] + \"\\\".\"\n",
    "\n",
    "assert columns[1] == \"curr_id\",    \"Expected column 1 to be \\\"curr_id\\\" but found \\\"\" + columns[1][0] + \"\\\".\"\n",
    "assert types[1] == \"Int64\",        \"Expected column 1 to be of type \\\"int\\\" but found \\\"\" + columns[1][1] + \"\\\".\"\n",
    "\n",
    "assert columns[2] == \"n\",          \"Expected column 2 to be \\\"n\\\" but found \\\"\" + columns[2][0] + \"\\\".\"\n",
    "assert types[2] == \"int64\",        \"Expected column 2 to be of type \\\"int\\\" but found \\\"\" + columns[2][1] + \"\\\".\"\n",
    "\n",
    "assert columns[3] == \"prev_title\", \"Expected column 3 to be \\\"prev_title\\\" but found \\\"\" + columns[3][0] + \"\\\".\"\n",
    "assert types[3] == \"object\",     \"Expected column 3 to be of type \\\"string\\\" but found \\\"\" + columns[3][1] + \"\\\".\"\n",
    "\n",
    "assert columns[4] == \"curr_title\", \"Expected column 4 to be \\\"curr_title\\\" but found \\\"\" + columns[4][0] + \"\\\".\"\n",
    "assert types[4] == \"object\",     \"Expected column 4 to be of type \\\"string\\\" but found \\\"\" + columns[4][1] + \"\\\".\"\n",
    "\n",
    "assert columns[5] == \"type\",       \"Expected column 5 to be \\\"type\\\" but found \\\"\" + columns[5][0] + \"\\\".\"\n",
    "assert types[5] == \"object\",     \"Expected column 5 to be of type \\\"string\\\" but found \\\"\" + columns[5][1] + \"\\\".\"\n",
    "\n",
    "print(\"Congratulations, all tests passed... that is if no jobs were triggered :-)\\n\")"
   ]
  },
  {
   "cell_type": "markdown",
   "metadata": {},
   "source": [
    "##### ![Quantia Tiny Logo](https://www.quantiaconsulting.com/logos/quantia_logo_tiny.png) Quantia Consulting, srl. All rights reserved."
   ]
  }
 ],
 "metadata": {
  "kernelspec": {
   "display_name": "Python 3",
   "language": "python",
   "name": "python3"
  },
  "language_info": {
   "codemirror_mode": {
    "name": "ipython",
    "version": 3
   },
   "file_extension": ".py",
   "mimetype": "text/x-python",
   "name": "python",
   "nbconvert_exporter": "python",
   "pygments_lexer": "ipython3",
   "version": "3.7.6"
  },
  "name": "Data Ingestion - Lab - Solution",
  "notebookId": 1507370365633399
 },
 "nbformat": 4,
 "nbformat_minor": 4
}
