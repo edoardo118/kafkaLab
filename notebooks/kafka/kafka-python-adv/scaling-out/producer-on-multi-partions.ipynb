{
 "cells": [
  {
   "cell_type": "markdown",
   "metadata": {},
   "source": [
    "<div style=\"text-align: center; line-height: 0; padding-top: 2px;\">\n",
    "  <img src=\"https://www.quantiaconsulting.com/logos/quantia_logo_orizz.png\" alt=\"Quantia Consulting\" style=\"width: 600px; height: 250px\">\n",
    "</div>"
   ]
  },
  {
   "cell_type": "markdown",
   "metadata": {},
   "source": [
    "# Multi Partition Writing\n",
    "\n",
    "By definition, a topic is a category or feed name to which records are published.\n",
    "\n",
    "For each topic, the Kafka cluster maintains a partitioned log. Partitions allow the parallelization of a topic by splitting the data across multiple brokers.\n",
    "\n",
    "Each partition can be placed on a separate machine to allow for multiple consumers to read from a topic in parallel\n",
    "\n",
    "The number of partition is defined at topic creation time."
   ]
  },
  {
   "cell_type": "markdown",
   "metadata": {},
   "source": [
    "## Initialization\n",
    "\n",
    "Let's initialize a producer and test writing operation on a topic with more than one partition"
   ]
  },
  {
   "cell_type": "code",
   "execution_count": null,
   "metadata": {},
   "outputs": [],
   "source": [
    "%load_ext autotime"
   ]
  },
  {
   "cell_type": "code",
   "execution_count": null,
   "metadata": {},
   "outputs": [],
   "source": [
    "from confluent_kafka import Producer, KafkaError\n",
    "import json\n",
    "import qcutils\n",
    "import time\n",
    "\n",
    "servers=qcutils.read_config_value(\"kafka.server\") + \":\" + str(qcutils.read_config_value(\"kafka.port\"))\n",
    "\n",
    "topic = ''\n",
    "\n",
    "assert len(topic) > 0, \"In order to avoid conflicts during write operation, please name the topic as <surname>-topic\"\n",
    "\n",
    "# The qcutils.create_kafka_topic allows you to specify the number of partition (deafault: 1)\n",
    "qcutils.create_kafka_topic(topic,partitions=2)\n",
    "\n",
    "producerconf = {\n",
    "        'bootstrap.servers': servers,\n",
    "    }\n",
    "\n",
    "p = Producer(producerconf)"
   ]
  },
  {
   "cell_type": "markdown",
   "metadata": {},
   "source": [
    "The `delivery_report(...)` function shows the partition where the message has been written.\n",
    "\n",
    "This information is not available at production time, it is available as a result of the sending operation."
   ]
  },
  {
   "cell_type": "code",
   "execution_count": null,
   "metadata": {},
   "outputs": [],
   "source": [
    "def delivery_report(err, msg):\n",
    "    if err is not None:\n",
    "        print(\"Failed to deliver message: {}\".format(err))\n",
    "    else:\n",
    "        print(\"Produced record to topic {} partition [{}] @ offset {}\"\n",
    "              .format(msg.topic(), msg.partition(), msg.offset()))\n",
    "\n",
    "n=0\n",
    "while True:\n",
    "    record_key = str(n)\n",
    "    record_value = json.dumps({'count': n})\n",
    "    print(\"Producing record: {}\\t{}\".format(record_key, record_value))\n",
    "    p.produce(topic, key=record_key, value=record_value, on_delivery=delivery_report)\n",
    "    p.poll(0)\n",
    "    time.sleep(1)\n",
    "    n = n+1\n",
    "\n",
    "p.flush(10)\n",
    "\n",
    "print(\"{} messages were produced to topic {}!\".format(n + 1, topic))\n"
   ]
  },
  {
   "cell_type": "markdown",
   "metadata": {},
   "source": [
    "Why a message can be sent to different partitions?\n",
    "\n",
    "Because of a function that choose the partition based on the key value (Default partitioner)\n",
    "\n",
    "```\n",
    "DefaultPartitioner is a Partitioner that uses a 32-bit murmur2 hash to compute the partition for a record (with the key defined) or chooses a partition in a round-robin fashion (per the available partitions of the topic).\n",
    "```\n",
    "\n",
    "[src](https://jaceklaskowski.gitbooks.io/apache-kafka/kafka-producer-internals-DefaultPartitioner.html) and [src-code](https://github.com/apache/kafka/blob/trunk/clients/src/main/java/org/apache/kafka/clients/producer/internals/DefaultPartitioner.java)"
   ]
  },
  {
   "cell_type": "markdown",
   "metadata": {},
   "source": [
    "We can customize this behavior by specify the partition at production time (in the `produce(...)` call).\n",
    "\n",
    "...but the best practice is to create a custom partitioner (python client does not allow this operation yet and it is an advanced concept)."
   ]
  },
  {
   "cell_type": "markdown",
   "metadata": {},
   "source": [
    "##### ![Quantia Tiny Logo](https://www.quantiaconsulting.com/logos/quantia_logo_tiny.png) 2020 Quantia Consulting, srl. All rights reserved."
   ]
  }
 ],
 "metadata": {
  "kernelspec": {
   "display_name": "Python 3",
   "language": "python",
   "name": "python3"
  },
  "language_info": {
   "codemirror_mode": {
    "name": "ipython",
    "version": 3
   },
   "file_extension": ".py",
   "mimetype": "text/x-python",
   "name": "python",
   "nbconvert_exporter": "python",
   "pygments_lexer": "ipython3",
   "version": "3.7.6"
  }
 },
 "nbformat": 4,
 "nbformat_minor": 4
}
