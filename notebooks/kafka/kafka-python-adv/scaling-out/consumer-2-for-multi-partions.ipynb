{
 "cells": [
  {
   "cell_type": "markdown",
   "metadata": {},
   "source": [
    "<div style=\"text-align: center; line-height: 0; padding-top: 2px;\">\n",
    "  <img src=\"https://www.quantiaconsulting.com/logos/quantia_logo_orizz.png\" alt=\"Quantia Consulting\" style=\"width: 600px; height: 250px\">\n",
    "</div>"
   ]
  },
  {
   "cell_type": "markdown",
   "metadata": {},
   "source": [
    "# Multi Partition Reading (Consumer 2)"
   ]
  },
  {
   "cell_type": "markdown",
   "metadata": {},
   "source": [
    "## Initialization\n",
    "\n",
    "Let's initialize a consumer and test reading from multiple partitions"
   ]
  },
  {
   "cell_type": "code",
   "execution_count": null,
   "metadata": {},
   "outputs": [],
   "source": [
    "%load_ext autotime"
   ]
  },
  {
   "cell_type": "code",
   "execution_count": null,
   "metadata": {},
   "outputs": [],
   "source": [
    "from confluent_kafka import Consumer, KafkaError\n",
    "import json\n",
    "import qcutils\n",
    "\n",
    "topic = ''\n",
    "consumer_group = ''\n",
    "\n",
    "assert len(topic) > 0, \"In order to avoid conflicts during write operation, please name the topic as <surname>-topic\"\n",
    "assert len(consumer_group) > 0, \"In order to avoid conflicts during write operation, please name the consumer_group as <surname>-cg\"\n",
    "\n",
    "\n",
    "servers=qcutils.read_config_value(\"kafka.server\") + \":\" + str(qcutils.read_config_value(\"kafka.port\"))"
   ]
  },
  {
   "cell_type": "code",
   "execution_count": null,
   "metadata": {},
   "outputs": [],
   "source": [
    "consumerconf = {\n",
    "        'bootstrap.servers': servers,\n",
    "        'group.id': consumer_group,\n",
    "        'auto.offset.reset': 'earliest'\n",
    "    }\n",
    "\n",
    "c = Consumer(consumerconf)\n",
    "\n",
    "c.subscribe([topic])"
   ]
  },
  {
   "cell_type": "code",
   "execution_count": null,
   "metadata": {},
   "outputs": [],
   "source": [
    "waiting = False\n",
    "\n",
    "try:\n",
    "    while True:\n",
    "        msg = c.poll(1.0)                                        # retrieve records\n",
    "        if msg is None:\n",
    "            if waiting:\n",
    "                print(\".\",end =\" \")\n",
    "            else:\n",
    "                print(\"Waiting\",end =\" \")\n",
    "                waiting = True\n",
    "            continue\n",
    "        elif msg.error():\n",
    "            print('error: {}'.format(msg.error()))\n",
    "            waiting = False\n",
    "        else:\n",
    "            value = json.loads(msg.value())                      # get the value of the message (json.loads)\n",
    "            key = msg.key()                                      # get the key of the message\n",
    "            print(\"\\nConsumed record with key {} and value {} from partition {} \"\n",
    "                  .format(key, value, msg.partition()))\n",
    "            waiting = False\n",
    "except KeyboardInterrupt:\n",
    "    pass \n",
    "finally:\n",
    "    c.close() "
   ]
  },
  {
   "cell_type": "markdown",
   "metadata": {},
   "source": [
    "##### ![Quantia Tiny Logo](https://www.quantiaconsulting.com/logos/quantia_logo_tiny.png) 2020 Quantia Consulting, srl. All rights reserved."
   ]
  }
 ],
 "metadata": {
  "kernelspec": {
   "display_name": "Python 3",
   "language": "python",
   "name": "python3"
  },
  "language_info": {
   "codemirror_mode": {
    "name": "ipython",
    "version": 3
   },
   "file_extension": ".py",
   "mimetype": "text/x-python",
   "name": "python",
   "nbconvert_exporter": "python",
   "pygments_lexer": "ipython3",
   "version": "3.7.6"
  }
 },
 "nbformat": 4,
 "nbformat_minor": 4
}
