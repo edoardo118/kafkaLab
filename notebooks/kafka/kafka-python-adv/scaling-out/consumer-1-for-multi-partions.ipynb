{
 "cells": [
  {
   "cell_type": "markdown",
   "metadata": {},
   "source": [
    "<div style=\"text-align: center; line-height: 0; padding-top: 2px;\">\n",
    "  <img src=\"https://www.quantiaconsulting.com/logos/quantia_logo_orizz.png\" alt=\"Quantia Consulting\" style=\"width: 600px; height: 250px\">\n",
    "</div>"
   ]
  },
  {
   "cell_type": "markdown",
   "metadata": {},
   "source": [
    "# Multi Partition Reading\n",
    "\n",
    "A multi-partition topic allows multiple consumer to read data in parallel.\n",
    "\n",
    "Before starting we need to recall the `consumer-group` concept.\n",
    "\n",
    "Typically, a consumer are part of a consumer group. \n",
    "When multiple consumers, belonging to the same consumer group, are subscribed to a topiceach consumer in the group will receive messages from a different subset of the partitions in the topic."
   ]
  },
  {
   "cell_type": "markdown",
   "metadata": {},
   "source": [
    "![](img/c-and-cg-1.png)\n",
    "\n",
    "[src](https://www.oreilly.com/library/view/kafka-the-definitive/9781491936153/ch04.html)"
   ]
  },
  {
   "cell_type": "markdown",
   "metadata": {},
   "source": [
    "## Initialization\n",
    "\n",
    "Let's initialize a consumer and test reading from multiple partitions"
   ]
  },
  {
   "cell_type": "code",
   "execution_count": null,
   "metadata": {},
   "outputs": [],
   "source": [
    "%load_ext autotime"
   ]
  },
  {
   "cell_type": "code",
   "execution_count": null,
   "metadata": {},
   "outputs": [],
   "source": [
    "from confluent_kafka import Consumer, KafkaError\n",
    "import json\n",
    "import qcutils\n",
    "\n",
    "topic = ''\n",
    "consumer_group = ''\n",
    "\n",
    "assert len(topic) > 0, \"In order to avoid conflicts during write operation, please name the topic as <surname>-topic\"\n",
    "assert len(consumer_group) > 0, \"In order to avoid conflicts during write operation, please name the consumer_group as <surname>-cg\"\n",
    "\n",
    "\n",
    "servers=qcutils.read_config_value(\"kafka.server\") + \":\" + str(qcutils.read_config_value(\"kafka.port\"))"
   ]
  },
  {
   "cell_type": "code",
   "execution_count": null,
   "metadata": {},
   "outputs": [],
   "source": [
    "consumerconf = {\n",
    "        'bootstrap.servers': servers,\n",
    "        'group.id': consumer_group,\n",
    "        'auto.offset.reset': 'earliest'\n",
    "    }\n",
    "\n",
    "c = Consumer(consumerconf)\n",
    "\n",
    "c.subscribe([topic])"
   ]
  },
  {
   "cell_type": "code",
   "execution_count": null,
   "metadata": {},
   "outputs": [],
   "source": [
    "waiting = False\n",
    "\n",
    "try:\n",
    "    while True:\n",
    "        msg = c.poll(1.0)                                        # retrieve records\n",
    "        if msg is None:\n",
    "            if waiting:\n",
    "                print(\".\",end =\" \")\n",
    "            else:\n",
    "                print(\"Waiting\",end =\" \")\n",
    "                waiting = True\n",
    "            continue\n",
    "        elif msg.error():\n",
    "            print('error: {}'.format(msg.error()))\n",
    "            waiting = False\n",
    "        else:\n",
    "            value = json.loads(msg.value())                      # get the value of the message (json.loads)\n",
    "            key = msg.key()                                      # get the key of the message\n",
    "            print(\"\\nConsumed record with key {} and value {} from partition {} \"\n",
    "                  .format(key, value, msg.partition()))\n",
    "            waiting = False\n",
    "except KeyboardInterrupt:\n",
    "    pass \n",
    "finally:\n",
    "    c.close() "
   ]
  },
  {
   "cell_type": "markdown",
   "metadata": {},
   "source": [
    "As expected, we have a single consumer that read from all the partitions"
   ]
  },
  {
   "cell_type": "markdown",
   "metadata": {},
   "source": [
    "## More Consumers\n",
    "\n",
    "Let's try open a [second consumer](consumer-2-for-multi-partions.ipynb) (belonging to the same consumer group and look what happens)"
   ]
  },
  {
   "cell_type": "markdown",
   "metadata": {},
   "source": [
    "![](img/c-and-cg-2.png)\n",
    "\n",
    "[src](https://www.oreilly.com/library/view/kafka-the-definitive/9781491936153/ch04.html)"
   ]
  },
  {
   "cell_type": "markdown",
   "metadata": {},
   "source": [
    "The partitions are distributed among the consumers, and each consumer consumes a single partition (or a disjointed subset if we have more partition)"
   ]
  },
  {
   "cell_type": "markdown",
   "metadata": {},
   "source": [
    "## Even More Consumers\n",
    "\n",
    "Let's try open a [third consumer](consumer-3-for-multi-partions.ipynb) (belonging to the same consumer group) and .... What's happening?"
   ]
  },
  {
   "cell_type": "markdown",
   "metadata": {},
   "source": [
    "![](img/c-and-cg-3.png)\n",
    "\n",
    "[src](https://www.oreilly.com/library/view/kafka-the-definitive/9781491936153/ch04.html)"
   ]
  },
  {
   "cell_type": "markdown",
   "metadata": {},
   "source": [
    "If you have more consumers than partitions, some consumers may remain without data to consume"
   ]
  },
  {
   "cell_type": "markdown",
   "metadata": {},
   "source": [
    "##### ![Quantia Tiny Logo](https://www.quantiaconsulting.com/logos/quantia_logo_tiny.png) 2020 Quantia Consulting, srl. All rights reserved."
   ]
  }
 ],
 "metadata": {
  "kernelspec": {
   "display_name": "Python 3",
   "language": "python",
   "name": "python3"
  },
  "language_info": {
   "codemirror_mode": {
    "name": "ipython",
    "version": 3
   },
   "file_extension": ".py",
   "mimetype": "text/x-python",
   "name": "python",
   "nbconvert_exporter": "python",
   "pygments_lexer": "ipython3",
   "version": "3.7.6"
  }
 },
 "nbformat": 4,
 "nbformat_minor": 4
}
