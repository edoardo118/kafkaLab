{
 "cells": [
  {
   "cell_type": "markdown",
   "metadata": {},
   "source": [
    "<div style=\"text-align: center; line-height: 0; padding-top: 2px;\">\n",
    "  <img src=\"https://www.quantiaconsulting.com/logos/quantia_logo_orizz.png\" alt=\"Quantia Consulting\" style=\"width: 600px; height: 250px\">\n",
    "</div>"
   ]
  },
  {
   "cell_type": "markdown",
   "metadata": {},
   "source": [
    "# Advanced Synchronous and Asynchronous write\n",
    "\n",
    "## Performance Tuning\n",
    "In the previous notebook we saw how to produce message in a synchronous and asynchronously way.\n",
    "\n",
    "But the `produce()` does not trigger the message sending.\n",
    "\n",
    "In order control the sending process and, consequently, to boost performance, you can adjust batching parameters at producer creation time.\n",
    "\n",
    "* Size of the batch of messages:\n",
    "    * `batch.num.messages`: max number of messages in a batch - the producer sends queued messages once the number of the messages in a batch reach the specified dimension - Default: 10000.\n",
    "    OR\n",
    "    * `batch.size`: max message batch size in bytes - the producer sends queued messages once the size of the messages in a batch reach the specified dimension - Deafult: 16kb.\n",
    "* Time to wait for messages:\n",
    "    * `linger.ms`: time to wait for message to batch together - the producer sends queued messages after the specified time interval even if the overall size of the messages is less than the specified `batch.size` - Default: 0.5 (Send immediately)\n",
    "\n",
    "The values of the two parameters above can vary based on your needs:\n",
    "* High throughput scenario: large `batch.size` (or `batch.num.messages`) and `linger.ms`, or flush manually\n",
    "* Low Latency scenario: small `batch.size` (or `batch.num.messages`) and `linger.ms`\n",
    "\n",
    "**NOTE** Generally, the `batch.size` configuration is not directly exposed to the client library.\n",
    "The python client, we are currently using, expose the `batch.num.messages`.\n",
    "\n",
    "[More Info](https://github.com/edenhill/librdkafka/blob/master/INTRODUCTION.md#performance) and [Configuration Value List](https://github.com/edenhill/librdkafka/blob/master/CONFIGURATION.md)"
   ]
  },
  {
   "cell_type": "markdown",
   "metadata": {},
   "source": [
    "## Initialization\n",
    "\n",
    "Let's initialize a producer and test advanced configuration.\n",
    "\n",
    "We will use JSON messages, open [JSON consumer](../../kafka-python/plain/json-consumer.ipynb) next to this notebook in order to fell the differences.\n"
   ]
  },
  {
   "cell_type": "code",
   "execution_count": null,
   "metadata": {},
   "outputs": [],
   "source": [
    "from confluent_kafka import Producer, KafkaError\n",
    "import json\n",
    "import qcutils\n",
    "import time\n",
    "\n",
    "servers=qcutils.read_config_value(\"kafka.server\") + \":\" + str(qcutils.read_config_value(\"kafka.port\"))\n",
    "\n",
    "topic = ''\n",
    "\n",
    "assert len(topic) > 0, \"In order to avoid conflicts during write operation, please name the topic as <surname>-topic\"\n",
    "\n",
    "admin_conf = {'bootstrap.servers': servers}\n",
    "a = AdminClient(admin_conf)\n",
    "fs = a.create_topics([NewTopic(topic, num_partitions=1, replication_factor=1)])\n",
    "\n",
    "for t, f in fs.items():\n",
    "    try:\n",
    "        f.result()  # The result itself is None\n",
    "        print(\"Topic {} created\".format(t))\n",
    "    except Exception as e:\n",
    "        print(\"Failed to create topic {}: {}\".format(t, e))"
   ]
  },
  {
   "cell_type": "markdown",
   "metadata": {},
   "source": [
    "## Sending triggered by time (`linger.ms`)"
   ]
  },
  {
   "cell_type": "markdown",
   "metadata": {},
   "source": [
    "Create a new producer for a high throughput scenario by concentrating our effort on the `linger.ms` configuration.\n",
    "\n",
    "Increase `linger.ms` to 5 seconds, produce a single message and see what happens and....**when** it happens"
   ]
  },
  {
   "cell_type": "code",
   "execution_count": null,
   "metadata": {},
   "outputs": [],
   "source": [
    "producerconf = {\n",
    "    'bootstrap.servers': servers,\n",
    "    'linger.ms': 5000,\n",
    "}\n",
    "\n",
    "\n",
    "p = Producer(producerconf)\n",
    "\n",
    "record_key = \"qc-key\"\n",
    "record_value = json.dumps({'count': 1})\n",
    "print(\"Producing record: {}\\t{}\".format(record_key, record_value))\n",
    "p.produce(topic, key=record_key, value=record_value)\n"
   ]
  },
  {
   "cell_type": "markdown",
   "metadata": {},
   "source": [
    "### What's happened here?\n",
    "\n",
    "When the message appear in you consumer?\n",
    "\n",
    ".... after 5 seconds!"
   ]
  },
  {
   "cell_type": "markdown",
   "metadata": {},
   "source": [
    "## Sending triggered by number of messages (`batch.num.messages`)"
   ]
  },
  {
   "cell_type": "markdown",
   "metadata": {},
   "source": [
    "In order to understand the `batch.num.messages` configuration, let's try to change the `batch.num.messages` parameter to 10 and change the `linger.ms` to an higher value (e.g 10s)"
   ]
  },
  {
   "cell_type": "code",
   "execution_count": null,
   "metadata": {},
   "outputs": [],
   "source": [
    "producerconf = {\n",
    "    'bootstrap.servers': servers,\n",
    "    'batch.num.messages':10,\n",
    "    'linger.ms': 10000\n",
    "}\n",
    "\n",
    "\n",
    "p = Producer(producerconf)\n",
    "\n",
    "for n in range(15):\n",
    "    record_key = \"qc-key\"\n",
    "    record_value = json.dumps({'count': n})\n",
    "    print(\"Producing record: {}\\t{}\".format(record_key, record_value))\n",
    "    p.produce(topic, key=record_key, value=record_value)\n"
   ]
  },
  {
   "cell_type": "markdown",
   "metadata": {},
   "source": [
    "### And now...what's happened here?\n",
    "\n",
    "Again...When the message appear in you consumer?\n",
    "\n",
    "... the first 10 messages appear as soon as they are produced (remember the `batch.num.messages` config), but the last 5 messages appear after 10 seconds!! (remember the `linger.ms` config)"
   ]
  },
  {
   "cell_type": "markdown",
   "metadata": {},
   "source": [
    "## Force the Sending Operation\n",
    "\n",
    "How can we force the Sending Operation?\n",
    "\n",
    "**We can't!**\n",
    "\n",
    "It is important to properly configure the producer for our use case. \n",
    "\n",
    "The default values are ok for playing :D\n",
    "\n",
    "The usage of the `flush()` and the `poll()` **does not force sending**, it is needed to check the production result in a synchronous or asynchronous way!"
   ]
  },
  {
   "cell_type": "markdown",
   "metadata": {},
   "source": [
    "##### ![Quantia Tiny Logo](https://www.quantiaconsulting.com/logos/quantia_logo_tiny.png) 2020 Quantia Consulting, srl. All rights reserved."
   ]
  }
 ],
 "metadata": {
  "kernelspec": {
   "display_name": "Python 3",
   "language": "python",
   "name": "python3"
  },
  "language_info": {
   "codemirror_mode": {
    "name": "ipython",
    "version": 3
   },
   "file_extension": ".py",
   "mimetype": "text/x-python",
   "name": "python",
   "nbconvert_exporter": "python",
   "pygments_lexer": "ipython3",
   "version": "3.8.6"
  }
 },
 "nbformat": 4,
 "nbformat_minor": 4
}
