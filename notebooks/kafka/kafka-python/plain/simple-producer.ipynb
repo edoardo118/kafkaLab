{
 "cells": [
  {
   "cell_type": "markdown",
   "metadata": {},
   "source": [
    "<div style=\"text-align: center; line-height: 0; padding-top: 2px;\">\n",
    "  <img src=\"https://www.quantiaconsulting.com/logos/quantia_logo_orizz.png\" alt=\"Quantia Consulting\" style=\"width: 600px; height: 250px\">\n",
    "</div>"
   ]
  },
  {
   "cell_type": "markdown",
   "metadata": {},
   "source": [
    "# Kafka Producer\n",
    "\n",
    "**Technical Accomplishments:**\n",
    "- Start working with Kafka\n",
    "- Introduce the python `Producer`\n",
    "- Produce data to a kafka topic\n",
    "- Introduce the encoding problem"
   ]
  },
  {
   "cell_type": "markdown",
   "metadata": {},
   "source": [
    "Can we produce messages using a programmatically usable interface?\n",
    "\n",
    "YES! Let's use **python**"
   ]
  },
  {
   "cell_type": "markdown",
   "metadata": {},
   "source": [
    "Let's have a look to the Producer documentation of the [confluent_kafka](https://docs.confluent.io/current/clients/confluent-kafka-python/#producer) library\n",
    "\n",
    "As for the documentation, the method to call, in order to send a new message, is [`produce()`](https://docs.confluent.io/current/clients/confluent-kafka-python/#confluent_kafka.Producer.produce)\n",
    "\n",
    "In particular, the `produce()` method accepts a parameter, named `value`, that must be `String` or `Bytes`"
   ]
  },
  {
   "cell_type": "markdown",
   "metadata": {},
   "source": [
    "Let's now create a new `Producer` and play with it.\n",
    "\n",
    "In order to start playing with `Producer` in python, we will consume messages with a `console consumer`"
   ]
  },
  {
   "cell_type": "markdown",
   "metadata": {},
   "source": [
    "## Python Producer"
   ]
  },
  {
   "cell_type": "markdown",
   "metadata": {},
   "source": [
    "Let's start importing libraries and creating useful variables "
   ]
  },
  {
   "cell_type": "code",
   "execution_count": null,
   "metadata": {},
   "outputs": [],
   "source": [
    "%load_ext autotime"
   ]
  },
  {
   "cell_type": "code",
   "execution_count": null,
   "metadata": {},
   "outputs": [],
   "source": [
    "from confluent_kafka import Producer, KafkaError\n",
    "import json\n",
    "import qcutils\n",
    "\n",
    "servers=qcutils.read_config_value(\"kafka.server\") + \":\" + str(qcutils.read_config_value(\"kafka.port\"))\n",
    "\n",
    "topic = ''\n",
    "\n",
    "assert len(topic) > 0, \"In order to avoid conflicts during write operation, please name the topic as <surname>-topic\"\n",
    "\n",
    "qcutils.create_kafka_topic(topic)"
   ]
  },
  {
   "cell_type": "code",
   "execution_count": null,
   "metadata": {},
   "outputs": [],
   "source": [
    "producerconf = {\n",
    "        'bootstrap.servers': servers,\n",
    "    }\n",
    "\n",
    "\n",
    "p = Producer(producerconf)"
   ]
  },
  {
   "cell_type": "markdown",
   "metadata": {},
   "source": [
    "## Open Console Consumer\n",
    "\n",
    "* Open a new Terminal\n",
    "* From the home folder go to resources/kafka_2.12-2.4.1 folder -> `cd resources/kafka_2.12-2.4.1`\n",
    "* Run console consumer on **your topic**, e.g., **MR**-topic -> `./bin/kafka-console-consumer.sh --bootstrap-server cp-cp-kafka.cp:9092 --topic <topic>`"
   ]
  },
  {
   "cell_type": "markdown",
   "metadata": {},
   "source": [
    "## Start the production of messages"
   ]
  },
  {
   "cell_type": "markdown",
   "metadata": {},
   "source": [
    "### Text Messages\n",
    "\n",
    "Let's try to produce some text ...."
   ]
  },
  {
   "cell_type": "code",
   "execution_count": null,
   "metadata": {},
   "outputs": [],
   "source": [
    "import time\n",
    "\n",
    "record_key = None\n",
    "record_value = \"some text\"\n",
    "\n",
    "print(\"Producing record: {}\\t{}\".format(record_key, record_value))\n",
    "\n",
    "p.produce(topic, key=record_key, value=record_value)\n",
    "\n",
    "print(\"one message was produced to topic {}!\".format(topic))"
   ]
  },
  {
   "cell_type": "markdown",
   "metadata": {},
   "source": [
    "... and even some strange text"
   ]
  },
  {
   "cell_type": "code",
   "execution_count": null,
   "metadata": {},
   "outputs": [],
   "source": [
    "record_key = None\n",
    "record_value = \"some strange string...§§§Ᾱ▼☞😅\"\n",
    "\n",
    "print(\"Producing record: {}\\t{}\".format(record_key, record_value))\n",
    "\n",
    "p.produce(topic, key=record_key, value=record_value)\n",
    "\n",
    "print(\"one message was produced to topic {}!\".format(topic))"
   ]
  },
  {
   "cell_type": "markdown",
   "metadata": {},
   "source": [
    "### Numbers (int)\n",
    "\n",
    "It looks like it works.... even with strange strings and characters... but how can we manage **numbers**???"
   ]
  },
  {
   "cell_type": "code",
   "execution_count": null,
   "metadata": {},
   "outputs": [],
   "source": [
    "record_key = None\n",
    "record_value = 10\n",
    "\n",
    "print(\"Producing record: {}\\t{}\".format(record_key, record_value))\n",
    "\n",
    "p.produce(topic, key=record_key, value=record_value)\n",
    "\n",
    "print(\"one message was produced to topic {}!\".format(topic))"
   ]
  },
  {
   "cell_type": "markdown",
   "metadata": {},
   "source": [
    "OPS! Remember that `produce()` accepts only Strings or Bytes\n",
    "\n",
    "...so, let's try with String (using `str()` function)..."
   ]
  },
  {
   "cell_type": "code",
   "execution_count": null,
   "metadata": {},
   "outputs": [],
   "source": [
    "record_key = None\n",
    "record_value = str(10)\n",
    "\n",
    "print(\"Producing record: {}\\t{}\".format(record_key, record_value))\n",
    "\n",
    "p.produce(topic, key=record_key, value=record_value)\n",
    "\n",
    "print(\"one message was produced to topic {}!\".format(topic))"
   ]
  },
  {
   "cell_type": "markdown",
   "metadata": {},
   "source": [
    "#### Discussion"
   ]
  },
  {
   "cell_type": "markdown",
   "metadata": {},
   "source": [
    "Good, it works, but let's look to the size of what we are sending"
   ]
  },
  {
   "cell_type": "code",
   "execution_count": null,
   "metadata": {},
   "outputs": [],
   "source": [
    "import sys\n",
    "\n",
    "print(\"String: \" + str(sys.getsizeof(str(10))) + \" bytes\")\n",
    "\n",
    "print('\"Plain\" int: ' + str(sys.getsizeof(10)) + \" bytes\")"
   ]
  },
  {
   "cell_type": "code",
   "execution_count": null,
   "metadata": {},
   "outputs": [],
   "source": [
    "import sys\n",
    "\n",
    "print(\"Larger String: \" + str(sys.getsizeof(str(1000000000))) + \" bytes\")\n",
    "\n",
    "print('Larger \"Plain\" int: ' + str(sys.getsizeof(1000000000)) + \" bytes\")"
   ]
  },
  {
   "cell_type": "code",
   "execution_count": null,
   "metadata": {},
   "outputs": [],
   "source": [
    "import sys\n",
    "\n",
    "print(\"Empty String: \" + str(sys.getsizeof(str())) + \" bytes\")"
   ]
  },
  {
   "cell_type": "markdown",
   "metadata": {},
   "source": [
    "..., but as we discussed before when talking about latency vs. throughput vs. size, the **larger is the size** the **smaller is the throughput**\n",
    "\n",
    "A single String is not a problem, but larger messages at scale is a **bad idea**..."
   ]
  },
  {
   "cell_type": "markdown",
   "metadata": {},
   "source": [
    "### Bytes"
   ]
  },
  {
   "cell_type": "markdown",
   "metadata": {},
   "source": [
    "...so, let's go with Bytes!\n",
    "\n",
    "We can use the `to_bytes(...)` function (see [doc](https://docs.python.org/3/library/stdtypes.html#int.to_bytes)) to encode int value."
   ]
  },
  {
   "cell_type": "code",
   "execution_count": null,
   "metadata": {},
   "outputs": [],
   "source": [
    "record_key = None\n",
    "record_value = (10).to_bytes(2, byteorder='big')\n",
    "\n",
    "print(\"Producing record: {}\\t{}\".format(record_key, record_value))\n",
    "\n",
    "p.produce(topic, key=record_key, value=record_value)\n",
    "\n",
    "print(\"one message was produced to topic {}!\".format(topic))"
   ]
  },
  {
   "cell_type": "markdown",
   "metadata": {},
   "source": [
    "We got an empty line ... why?\n",
    "\n",
    "Maybe the problem is related to numbers...let's try with some text!\n",
    "\n",
    "[Encoding](https://docs.python.org/3/library/stdtypes.html#str.encode) a string is the way to transform it into Bytes!\n",
    "\n",
    "We can use one of the existing [codec](https://docs.python.org/3/library/codecs.html#standard-encodings).\n",
    "\n",
    "Let's try to use [ASCII](https://en.wikipedia.org/wiki/ASCII) encoding."
   ]
  },
  {
   "cell_type": "markdown",
   "metadata": {},
   "source": [
    "![](img/ascii.png)"
   ]
  },
  {
   "cell_type": "code",
   "execution_count": null,
   "metadata": {},
   "outputs": [],
   "source": [
    "record_key = None\n",
    "record_value = \":-)\".encode(\"ascii\")\n",
    "\n",
    "print(\"Producing record: {}\\t{}\".format(record_key, record_value))\n",
    "\n",
    "p.produce(topic, key=record_key, value=record_value)\n",
    "\n",
    "print(\"one message was produced to topic {}!\".format(topic))"
   ]
  },
  {
   "cell_type": "markdown",
   "metadata": {},
   "source": [
    "It works! Now, as before, let's try again with some strange text... "
   ]
  },
  {
   "cell_type": "code",
   "execution_count": null,
   "metadata": {},
   "outputs": [],
   "source": [
    "record_key = None\n",
    "record_value = \":-) 😅\".encode(\"ascii\")\n",
    "\n",
    "print(\"Producing record: {}\\t{}\".format(record_key, record_value))\n",
    "\n",
    "p.produce(topic, key=record_key, value=record_value)\n",
    "\n",
    "print(\"one message was produced to topic {}!\".format(topic))"
   ]
  },
  {
   "cell_type": "markdown",
   "metadata": {},
   "source": [
    "OPS! Not all characters can be encoded using ASCII. \n",
    "... We can manage errors ([doc](https://docs.python.org/3/library/stdtypes.html#str.encode)) by *rising exception*, *replacing* or *ignoring* them."
   ]
  },
  {
   "cell_type": "code",
   "execution_count": null,
   "metadata": {},
   "outputs": [],
   "source": [
    "record_key = None\n",
    "record_value = \":-) 😅\".encode(\"ascii\",errors='replace')\n",
    "\n",
    "print(\"Producing record: {}\\t{}\".format(record_key, record_value))\n",
    "\n",
    "p.produce(topic, key=None, value=record_value)\n",
    "\n",
    "print(\"one message was produced to topic {}!\".format(topic))"
   ]
  },
  {
   "cell_type": "markdown",
   "metadata": {},
   "source": [
    "The chars that can't be encoded are replaced by `?`"
   ]
  },
  {
   "cell_type": "markdown",
   "metadata": {},
   "source": [
    ".... We can change the encoding codec.\n",
    "\n",
    "Let's try with [UTF-8](https://en.wikipedia.org/wiki/UTF-8)"
   ]
  },
  {
   "cell_type": "code",
   "execution_count": null,
   "metadata": {},
   "outputs": [],
   "source": [
    "record_key = None\n",
    "record_value = \":-) 😅\".encode(\"utf-8\")\n",
    "\n",
    "print(\"Producing record: {}\\t{}\".format(record_key, record_value))\n",
    "\n",
    "p.produce(topic, key=record_key, value=record_value)\n",
    "\n",
    "print(\"one message was produced to topic {}!\".format(topic))"
   ]
  },
  {
   "cell_type": "markdown",
   "metadata": {},
   "source": [
    "It works!!"
   ]
  },
  {
   "cell_type": "markdown",
   "metadata": {},
   "source": [
    "### Back to numbers (int)\n",
    "And the numbers?\n"
   ]
  },
  {
   "cell_type": "markdown",
   "metadata": {},
   "source": [
    "We can treat them as a string!"
   ]
  },
  {
   "cell_type": "code",
   "execution_count": null,
   "metadata": {},
   "outputs": [],
   "source": [
    "record_key = None\n",
    "record_value = \"10\".encode(\"utf-8\")\n",
    "\n",
    "print(\"Producing record: {}\\t{}\".format(record_key, record_value))\n",
    "\n",
    "p.produce(topic, key=record_key, value=record_value)\n",
    "\n",
    "print(\"one message was produced to topic {}!\".format(topic))"
   ]
  },
  {
   "cell_type": "markdown",
   "metadata": {},
   "source": [
    "### Discussion"
   ]
  },
  {
   "cell_type": "markdown",
   "metadata": {},
   "source": [
    "...but, Let's take a look again to the size in memory of the different data type"
   ]
  },
  {
   "cell_type": "code",
   "execution_count": null,
   "metadata": {},
   "outputs": [],
   "source": [
    "import sys\n",
    "\n",
    "print(\"String: \" + str(sys.getsizeof(str(10))) + \" bytes\")\n",
    "\n",
    "print('\"Plain\" int: ' + str(sys.getsizeof(10)) + \" bytes\")\n",
    "\n",
    "print(\"Encoded String (ASCII): \" + str(sys.getsizeof(\"10\".encode(\"ascii\"))) + \" bytes\")\n",
    "\n",
    "print(\"Encoded String (UTF-8): \" + str(sys.getsizeof(\"10\".encode(\"utf-8\"))) + \" bytes\")\n",
    "\n",
    "print(\"Encoded int: \" + str(sys.getsizeof((10).to_bytes(2, byteorder='big'))) + \" bytes\")"
   ]
  },
  {
   "cell_type": "markdown",
   "metadata": {},
   "source": [
    "String is too big.\n",
    "\n",
    "\"Plain\" int can't be sent.\n",
    "\n",
    "Encoded version of String and int are of the same size, but why do we need to send a String instead of an int?\n",
    "\n",
    "What if the problem is the `Consumer`?"
   ]
  },
  {
   "cell_type": "markdown",
   "metadata": {},
   "source": [
    "## Create a [Python Consumer](simple-consumer.ipynb)\n",
    "\n",
    "Let's try to write a new **Consumer** using python lib and send again encoded int and encoded String."
   ]
  },
  {
   "cell_type": "code",
   "execution_count": null,
   "metadata": {},
   "outputs": [],
   "source": [
    "record_key = None\n",
    "record_value = \"some strange string...§§§Ᾱ▼☞😅\".encode(\"UTF-8\")\n",
    "\n",
    "print(\"Producing record: {}\\t{}\".format(record_key, record_value))\n",
    "\n",
    "p.produce(topic, key=record_key, value=record_value)\n",
    "\n",
    "print(\"one message was produced to topic {}!\".format(topic))"
   ]
  },
  {
   "cell_type": "code",
   "execution_count": null,
   "metadata": {},
   "outputs": [],
   "source": [
    "record_key = None\n",
    "record_value = (10).to_bytes(2, byteorder='big')\n",
    "\n",
    "print(\"Producing record: {}\\t{}\".format(record_key, record_value))\n",
    "\n",
    "p.produce(topic, key=record_key, value=record_value)\n",
    "\n",
    "print(\"one message was produced to topic {}!\".format(topic))"
   ]
  },
  {
   "cell_type": "markdown",
   "metadata": {},
   "source": [
    "___\n",
    "\n",
    "### End notes\n",
    "\n",
    "If you want to learn more [ttps://docs.python.org/3/howto/unicode.html](https://docs.python.org/3/howto/unicode.html)"
   ]
  },
  {
   "cell_type": "markdown",
   "metadata": {},
   "source": [
    "##### ![Quantia Tiny Logo](https://www.quantiaconsulting.com/logos/quantia_logo_tiny.png) 2020 Quantia Consulting, srl. All rights reserved."
   ]
  }
 ],
 "metadata": {
  "kernelspec": {
   "display_name": "Python 3",
   "language": "python",
   "name": "python3"
  },
  "language_info": {
   "codemirror_mode": {
    "name": "ipython",
    "version": 3
   },
   "file_extension": ".py",
   "mimetype": "text/x-python",
   "name": "python",
   "nbconvert_exporter": "python",
   "pygments_lexer": "ipython3",
   "version": "3.7.6"
  }
 },
 "nbformat": 4,
 "nbformat_minor": 4
}
