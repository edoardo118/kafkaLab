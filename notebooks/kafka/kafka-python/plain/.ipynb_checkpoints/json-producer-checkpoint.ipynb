{
 "cells": [
  {
   "cell_type": "markdown",
   "metadata": {},
   "source": [
    "<div style=\"text-align: center; line-height: 0; padding-top: 2px;\">\n",
    "  <img src=\"https://www.quantiaconsulting.com/logos/quantia_logo_orizz.png\" alt=\"Quantia Consulting\" style=\"width: 600px; height: 250px\">\n",
    "</div>"
   ]
  },
  {
   "cell_type": "markdown",
   "metadata": {},
   "source": [
    "# Kafka JSON Producer \n",
    "\n",
    "**Technical Accomplishments:**\n",
    "- Dealing with encoding/decoding problem\n",
    "- Start producing more complex messages with Kafka (JSON)"
   ]
  },
  {
   "cell_type": "markdown",
   "metadata": {},
   "source": [
    "In this notebook we try to cope with the encoding/decoding problem using message in JSON format.\n",
    "\n",
    "We will use standard python library to create JSON object to be sent to the topic."
   ]
  },
  {
   "cell_type": "markdown",
   "metadata": {},
   "source": [
    "## Getting Started\n",
    "\n",
    "Let's start importing libraries and creating useful variables "
   ]
  },
  {
   "cell_type": "code",
   "execution_count": null,
   "metadata": {},
   "outputs": [],
   "source": [
    "%load_ext autotime"
   ]
  },
  {
   "cell_type": "code",
   "execution_count": null,
   "metadata": {},
   "outputs": [],
   "source": [
    "from confluent_kafka import Producer, KafkaError\n",
    "import json\n",
    "import qcutils\n",
    "import time\n",
    "\n",
    "servers=qcutils.read_config_value(\"kafka.server\") + \":\" + str(qcutils.read_config_value(\"kafka.port\"))\n",
    "\n",
    "topic = ''\n",
    "\n",
    "assert len(topic) > 0, \"In order to avoid conflicts during write operation, please name the topic as <surname>-topic\"\n",
    "\n",
    "admin_conf = {'bootstrap.servers': servers}\n",
    "a = AdminClient(admin_conf)\n",
    "fs = a.create_topics([NewTopic(topic, num_partitions=1, replication_factor=1)])\n",
    "\n",
    "for t, f in fs.items():\n",
    "    try:\n",
    "        f.result()  # The result itself is None\n",
    "        print(\"Topic {} created\".format(t))\n",
    "    except Exception as e:\n",
    "        print(\"Failed to create topic {}: {}\".format(t, e))\n",
    "\n",
    "# To ease the topic creation, you can use the qcutils lib\n",
    "# qcutils.create_kafka_topic(topic)"
   ]
  },
  {
   "cell_type": "markdown",
   "metadata": {},
   "source": [
    "**Note**: in order to avoid conflicts during write operation, please name the topic as `<surname>-topic`"
   ]
  },
  {
   "cell_type": "markdown",
   "metadata": {},
   "source": [
    "## JSON Producer"
   ]
  },
  {
   "cell_type": "code",
   "execution_count": null,
   "metadata": {},
   "outputs": [],
   "source": [
    "producerconf = {\n",
    "        'bootstrap.servers': servers,\n",
    "    }\n",
    "\n",
    "\n",
    "p = Producer(producerconf)"
   ]
  },
  {
   "cell_type": "code",
   "execution_count": null,
   "metadata": {},
   "outputs": [],
   "source": [
    "for n in range(15):\n",
    "    record_key = \"qc-key\"\n",
    "    record_value = json.dumps({'count': n})                             ## json.dumps !!!\n",
    "    print(\"Producing record: {}\\t{}\".format(record_key, record_value))\n",
    "    p.produce(topic, key=record_key, value=record_value)\n",
    "    time.sleep(2)\n",
    "\n",
    "print(\"{} messages were produced to topic {}!\".format(n + 1, topic))\n"
   ]
  },
  {
   "cell_type": "markdown",
   "metadata": {},
   "source": [
    "##### ![Quantia Tiny Logo](https://www.quantiaconsulting.com/logos/quantia_logo_tiny.png) 2020 Quantia Consulting, srl. All rights reserved."
   ]
  }
 ],
 "metadata": {
  "kernelspec": {
   "display_name": "Python 3",
   "language": "python",
   "name": "python3"
  },
  "language_info": {
   "codemirror_mode": {
    "name": "ipython",
    "version": 3
   },
   "file_extension": ".py",
   "mimetype": "text/x-python",
   "name": "python",
   "nbconvert_exporter": "python",
   "pygments_lexer": "ipython3",
   "version": "3.8.6"
  },
  "name": "simple-producer",
  "notebookId": 1507370365633644
 },
 "nbformat": 4,
 "nbformat_minor": 4
}
