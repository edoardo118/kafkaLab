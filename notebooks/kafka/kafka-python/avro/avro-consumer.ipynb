{
 "cells": [
  {
   "cell_type": "markdown",
   "metadata": {},
   "source": [
    "<div style=\"text-align: center; line-height: 0; padding-top: 2px;\">\n",
    "  <img src=\"https://www.quantiaconsulting.com/logos/quantia_logo_orizz.png\" alt=\"Quantia Consulting\" style=\"width: 600px; height: 250px\">\n",
    "</div>"
   ]
  },
  {
   "cell_type": "markdown",
   "metadata": {},
   "source": [
    "# Python Kafka Avro Consumer \n",
    "\n",
    "**Technical Accomplishments:**\n",
    "- Start working with avro schema in Kafka\n",
    "- Introduce the class `AvroConsumer`\n",
    "- Consume data from Kafka avro topic"
   ]
  },
  {
   "cell_type": "markdown",
   "metadata": {},
   "source": [
    "## Getting Started\n",
    "\n",
    "Let's start importing libraries and creating useful variables "
   ]
  },
  {
   "cell_type": "code",
   "execution_count": null,
   "metadata": {},
   "outputs": [],
   "source": [
    "%load_ext autotime"
   ]
  },
  {
   "cell_type": "code",
   "execution_count": null,
   "metadata": {},
   "outputs": [],
   "source": [
    "from confluent_kafka import avro\n",
    "from confluent_kafka.avro import AvroConsumer\n",
    "from confluent_kafka.avro.serializer import SerializerError\n",
    "import json\n",
    "import qcutils\n",
    "\n",
    "topic = ''\n",
    "consumer_group = ''\n",
    "\n",
    "servers=qcutils.read_config_value(\"kafka.server\") + \":\" + str(qcutils.read_config_value(\"kafka.port\"))\n",
    "sr_url=qcutils.read_config_value(\"kafka.schema_registry.url\")"
   ]
  },
  {
   "cell_type": "markdown",
   "metadata": {},
   "source": [
    "**Note**: in order to avoid conflicts during read operation, please name:\n",
    "* the topic as `<surname>-topic`\n",
    "* the consumer group as follow `<surname>-cg`"
   ]
  },
  {
   "cell_type": "markdown",
   "metadata": {},
   "source": [
    "## Avro Consumer"
   ]
  },
  {
   "cell_type": "code",
   "execution_count": null,
   "metadata": {},
   "outputs": [],
   "source": [
    "consumerconf = {\n",
    "        'bootstrap.servers': servers,\n",
    "        'schema.registry.url': sr_url,\n",
    "        'group.id': consumer_group,\n",
    "        'auto.offset.reset': 'earliest'\n",
    "    }\n",
    "\n",
    "c = AvroConsumer(consumerconf)\n",
    "\n",
    "# Subscribe to topic\n",
    "c.subscribe([topic])\n",
    "\n",
    "waiting = False\n",
    "\n",
    "try:\n",
    "    while True:\n",
    "        msg = c.poll(1.0)\n",
    "        if msg is None:\n",
    "            if waiting:\n",
    "                print(\".\",end =\" \")\n",
    "            else:\n",
    "                print(\"Waiting\",end =\" \")\n",
    "                waiting = True\n",
    "            continue\n",
    "        elif msg.error():\n",
    "            print('error: {}'.format(msg.error()))\n",
    "            waiting = False\n",
    "        else:\n",
    "            print(\"\\nConsumed record with key {} and value {}\".format(msg.key(), msg.value()))\n",
    "            waiting = False\n",
    "except SerializerError as e:\n",
    "    print(\"Message deserialization failed {}\".format(e))\n",
    "    pass\n",
    "except KeyboardInterrupt:\n",
    "    pass\n",
    "finally:\n",
    "    c.close()"
   ]
  },
  {
   "cell_type": "markdown",
   "metadata": {},
   "source": [
    "**Note** In order to add SASL security for the connection to the kafka broker, you need to add security configurations.\n",
    "\n",
    "```\n",
    "username=qcutils.read_config_value(\"kafka.access.key\")\n",
    "password=qcutils.read_config_value(\"kafka.access.secret\")\n",
    "\n",
    "sr_user_info=qcutils.read_config_value(\"kafka.schema_registry.key\") + \":\" + qcutils.read_config_value(\"kafka.schema_registry.secret\")\n",
    "    \n",
    "consumerconf = {\n",
    "        'bootstrap.servers': <servers>,\n",
    "        'sasl.mechanisms': 'PLAIN',\n",
    "        'security.protocol': 'SASL_SSL',\n",
    "        'sasl.username': <username>,\n",
    "        'sasl.password': <password>,\n",
    "        'schema.registry.url': sr_url,\n",
    "        'schema.registry.basic.auth.credentials.source': 'USER_INFO',\n",
    "        'schema.registry.basic.auth.user.info': <login-info>\n",
    "        'group.id': <consumer-group>,\n",
    "        'auto.offset.reset': <....>\n",
    "    }\n",
    "\n",
    "```"
   ]
  },
  {
   "cell_type": "markdown",
   "metadata": {},
   "source": [
    "##### ![Quantia Tiny Logo](https://www.quantiaconsulting.com/logos/quantia_logo_tiny.png) 2020 Quantia Consulting, srl. All rights reserved."
   ]
  }
 ],
 "metadata": {
  "kernelspec": {
   "display_name": "Python 3",
   "language": "python",
   "name": "python3"
  },
  "language_info": {
   "codemirror_mode": {
    "name": "ipython",
    "version": 3
   },
   "file_extension": ".py",
   "mimetype": "text/x-python",
   "name": "python",
   "nbconvert_exporter": "python",
   "pygments_lexer": "ipython3",
   "version": "3.7.6"
  },
  "name": "avro-consumer",
  "notebookId": 1507370365633624
 },
 "nbformat": 4,
 "nbformat_minor": 4
}
