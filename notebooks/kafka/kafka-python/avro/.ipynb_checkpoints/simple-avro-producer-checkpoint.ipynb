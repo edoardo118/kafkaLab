{
 "cells": [
  {
   "cell_type": "markdown",
   "metadata": {},
   "source": [
    "<div style=\"text-align: center; line-height: 0; padding-top: 2px;\">\n",
    "  <img src=\"https://www.quantiaconsulting.com/logos/quantia_logo_orizz.png\" alt=\"Quantia Consulting\" style=\"width: 600px; height: 250px\">\n",
    "</div>"
   ]
  },
  {
   "cell_type": "markdown",
   "metadata": {},
   "source": [
    "# Simple Python Kafka Avro Producer \n",
    "\n",
    "**Technical Accomplishments:**\n",
    "- Start working with avro schema in Kafka\n",
    "- Introduce the class `AvroProducer`\n",
    "- Produce data for a Kafka avro topic"
   ]
  },
  {
   "cell_type": "markdown",
   "metadata": {},
   "source": [
    "## Getting Started\n",
    "\n",
    "Let's start importing libraries and creating useful variables "
   ]
  },
  {
   "cell_type": "code",
   "execution_count": null,
   "metadata": {},
   "outputs": [],
   "source": [
    "%load_ext autotime"
   ]
  },
  {
   "cell_type": "code",
   "execution_count": null,
   "metadata": {},
   "outputs": [],
   "source": [
    "from confluent_kafka import avro\n",
    "from confluent_kafka.avro import AvroProducer\n",
    "import time\n",
    "import qcutils\n",
    "\n",
    "servers=qcutils.read_config_value(\"kafka.server\") + \":\" + str(qcutils.read_config_value(\"kafka.port\"))\n",
    "\n",
    "sr_url=qcutils.read_config_value(\"kafka.schema_registry.url\")\n",
    "\n",
    "topic = 'test-topic'\n",
    "\n",
    "admin_conf = {'bootstrap.servers': servers}\n",
    "a = AdminClient(admin_conf)\n",
    "fs = a.create_topics([NewTopic(topic, num_partitions=1, replication_factor=1)])\n",
    "\n",
    "for t, f in fs.items():\n",
    "    try:\n",
    "        f.result()  # The result itself is None\n",
    "        print(\"Topic {} created\".format(t))\n",
    "    except Exception as e:\n",
    "        print(\"Failed to create topic {}: {}\".format(t, e))\n",
    "        \n",
    "sr_url=qcutils.read_config_value(\"kafka.schema_registry.url\")\n",
    "\n",
    "producerconf = {\n",
    "        'bootstrap.servers': servers,\n",
    "        'schema.registry.url': sr_url\n",
    "    }"
   ]
  },
  {
   "cell_type": "markdown",
   "metadata": {},
   "source": [
    "**Note**: in order to avoid conflicts during write operation, please name the topic as `<surname>-topic`"
   ]
  },
  {
   "cell_type": "markdown",
   "metadata": {},
   "source": [
    "## Apache Avro\n",
    "\n",
    "![](https://www.quantiaconsulting.com/img/Avro_Logo.svg.png)\n",
    "\n",
    "Avro is a binary encoding format that uses a schema to specify the structure of the data being encoded.\n",
    "\n",
    "Avro's encoding consists only of values concatenated together, and the there is nothing to identify fields or their datatypes in the byte sequence.\n",
    "\n",
    "```json\n",
    "{\n",
    "\"namespace\": \"kafka.exercise.avro\",\n",
    " \"type\": \"record\",\n",
    " \"name\": \"Observation\",\n",
    " \"fields\": [\n",
    "     {\"name\": \"id\", \"type\": \"long\", \"doc\" : \"The observation id\"},\n",
    "     {\"name\": \"value\", \"type\": \"double\", \"doc\" : \"The actual measurement from the sensor\"},\n",
    "     {\"name\": \"measurement\", \"type\": \"string\", \"doc\" : \"The measurement type, e.g., temperature\"},\n",
    "     {\"name\": \"timestamp\", \"type\": \"long\", \"doc\" : \"The measurement timestamp\"}\n",
    " ]\n",
    "}\n",
    "```"
   ]
  },
  {
   "cell_type": "markdown",
   "metadata": {},
   "source": [
    "## Schema Registry\n",
    "\n",
    "![](https://www.quantiaconsulting.com/img/schema-registry.png)\n",
    "\n",
    "Schema registry provides centralized management of schemas\n",
    "* Stores a versioned history of all schemas\n",
    "* Provides a RESTful interface for storing and retrieving Avro schemas\n",
    "* Checks schemas and throws an exception if data does not conform to the schema – Allows evolution of schemas according to the configured compatibility setting"
   ]
  },
  {
   "cell_type": "markdown",
   "metadata": {},
   "source": [
    "## Your first AvroProducer"
   ]
  },
  {
   "cell_type": "markdown",
   "metadata": {},
   "source": [
    "### Define an avro schema for the key\n",
    "\n",
    "> **NOTE**: **we** are also sharing the Schema Registry as in any real-world organization. The attribute `namespace` is meant to isolate the names in separsated space. **Add out initials to the `namespace`**, e.g., `example.avro.`**`MR`** if you are **M**ario **R**ossi. "
   ]
  },
  {
   "cell_type": "code",
   "execution_count": null,
   "metadata": {},
   "outputs": [],
   "source": [
    "key_schema_str = \"\"\"\n",
    "{\n",
    "  \"namespace\": \"example.avro\",\n",
    "  \"type\": \"record\",\n",
    "  \"name\": \"PersonKey\",\n",
    "  \"fields\": [\n",
    "    {\n",
    "      \"name\": \"name\",\n",
    "      \"type\": \"string\"\n",
    "    }\n",
    "  ]\n",
    "}\n",
    "\"\"\"\n",
    "\n",
    "key_schema = avro.loads(key_schema_str)"
   ]
  },
  {
   "cell_type": "markdown",
   "metadata": {},
   "source": [
    "### Define an avro schema for the value\n",
    "\n",
    "> **NOTE**: **we** are also sharing the Schema Registry as in anuy real-world organization. The attribute `namespace` is meant to isolate the names in separsated space. **Add out initials to the `namespace`**, e.g., `example.avro.`**`MR`** if you are **M**ario **R**ossi. "
   ]
  },
  {
   "cell_type": "code",
   "execution_count": null,
   "metadata": {},
   "outputs": [],
   "source": [
    "value_schema_str = \"\"\"\n",
    "{\n",
    "  \"namespace\": \"example.avro\",\n",
    "  \"type\": \"record\",\n",
    "  \"name\": \"PersonValue\",\n",
    "  \"fields\": \n",
    "    [{\n",
    "      \"name\": \"age\",\n",
    "      \"type\": \"int\"\n",
    "    }]\n",
    "}\n",
    "\"\"\"\n",
    "\n",
    "value_schema = avro.loads(value_schema_str)"
   ]
  },
  {
   "cell_type": "markdown",
   "metadata": {},
   "source": [
    "### Create an AvroProducer"
   ]
  },
  {
   "cell_type": "code",
   "execution_count": null,
   "metadata": {},
   "outputs": [],
   "source": [
    "ap = AvroProducer(producerconf, default_key_schema=key_schema, default_value_schema=value_schema)"
   ]
  },
  {
   "cell_type": "markdown",
   "metadata": {},
   "source": [
    "### Use the AvroProducer to send an avro message"
   ]
  },
  {
   "cell_type": "code",
   "execution_count": null,
   "metadata": {},
   "outputs": [],
   "source": [
    "key = {\"name\": \"Abe\"}\n",
    "value = {\"age\": 22}\n",
    "ap.produce(topic=topic, value=value, key=key)"
   ]
  },
  {
   "cell_type": "markdown",
   "metadata": {},
   "source": [
    "**Let's now cosume this message with a [simple avro consumer](simple-avro-consumer.ipynb)**"
   ]
  },
  {
   "cell_type": "markdown",
   "metadata": {},
   "source": [
    "## Discussion\n",
    "\n",
    "* How does the AvroConsumer know about the schema of the key and the schema of the value?"
   ]
  },
  {
   "cell_type": "markdown",
   "metadata": {},
   "source": [
    "# Let's evolve the schema\n",
    "\n",
    "We want the schema of the value to carry also the `haircolor`"
   ]
  },
  {
   "cell_type": "markdown",
   "metadata": {},
   "source": [
    "## Define a new schema for the value\n",
    "\n",
    "> **NOTE**: **we** are also sharing the Schema Registry as in anuy real-world organization. The attribute `namespace` is meant to isolate the names in separsated space. **Add out initials to the `namespace`**, e.g., `example.avro.`**`MR`** if you are **M**ario **R**ossi. "
   ]
  },
  {
   "cell_type": "code",
   "execution_count": null,
   "metadata": {},
   "outputs": [],
   "source": [
    "new_value_schema_str = \"\"\"\n",
    "{\n",
    "  \"namespace\": \"example.avro\",\n",
    "  \"type\": \"record\",\n",
    "  \"name\": \"PersonValue\",\n",
    "  \"fields\": [\n",
    "    {\n",
    "      \"name\": \"age\",\n",
    "      \"type\": \"int\"\n",
    "    },\n",
    "    {\n",
    "      \"name\": \"haircolor\",\n",
    "      \"type\": \"string\",\n",
    "      \"default\": \"black\"\n",
    "    }\n",
    "  ]\n",
    "}\n",
    "\"\"\"\n",
    "\n",
    "new_value_schema = avro.loads(new_value_schema_str)"
   ]
  },
  {
   "cell_type": "markdown",
   "metadata": {},
   "source": [
    "***NOTE***: the field `default` is **strictly** necessary to guarantee **backward compatibility**"
   ]
  },
  {
   "cell_type": "markdown",
   "metadata": {},
   "source": [
    "## Use the same AvroProducer to send an avro message with the new schema"
   ]
  },
  {
   "cell_type": "code",
   "execution_count": null,
   "metadata": {},
   "outputs": [],
   "source": [
    "key = {\"name\": \"Abe\"}\n",
    "value = {\"age\": 2, \"haircolor\": \"Red\"}\n",
    "ap.produce(topic=topic, value=value, key=key, key_schema=key_schema, value_schema=new_value_schema)"
   ]
  },
  {
   "cell_type": "markdown",
   "metadata": {},
   "source": [
    "##### ![Quantia Tiny Logo](https://www.quantiaconsulting.com/logos/quantia_logo_tiny.png) 2020 Quantia Consulting, srl. All rights reserved."
   ]
  }
 ],
 "metadata": {
  "kernelspec": {
   "display_name": "Python 3",
   "language": "python",
   "name": "python3"
  },
  "language_info": {
   "codemirror_mode": {
    "name": "ipython",
    "version": 3
   },
   "file_extension": ".py",
   "mimetype": "text/x-python",
   "name": "python",
   "nbconvert_exporter": "python",
   "pygments_lexer": "ipython3",
   "version": "3.8.6"
  },
  "name": "avro-producer",
  "notebookId": 1507370365633616
 },
 "nbformat": 4,
 "nbformat_minor": 4
}
