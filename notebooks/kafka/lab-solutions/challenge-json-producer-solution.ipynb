{
 "cells": [
  {
   "cell_type": "markdown",
   "metadata": {},
   "source": [
    "<div style=\"text-align: center; line-height: 0; padding-top: 2px;\">\n",
    "  <img src=\"https://www.quantiaconsulting.com/logos/quantia_logo_orizz.png\" alt=\"Quantia Consulting\" style=\"width: 600px; height: 250px\">\n",
    "</div>"
   ]
  },
  {
   "cell_type": "markdown",
   "metadata": {},
   "source": [
    "# write a simple kafka procuder using [confluent kafka python](https://github.com/confluentinc/confluent-kafka-python)"
   ]
  },
  {
   "cell_type": "markdown",
   "metadata": {},
   "source": [
    "create a topic named `<surname>-topic` "
   ]
  },
  {
   "cell_type": "markdown",
   "metadata": {},
   "source": [
    "## Getting Started\n",
    "\n",
    "Let's start importing libraries and creating useful variables "
   ]
  },
  {
   "cell_type": "code",
   "execution_count": null,
   "metadata": {},
   "outputs": [],
   "source": [
    "%load_ext autotime"
   ]
  },
  {
   "cell_type": "code",
   "execution_count": null,
   "metadata": {},
   "outputs": [],
   "source": [
    "from confluent_kafka import Producer, KafkaError\n",
    "import json\n",
    "import qcutils\n",
    "\n",
    "servers=qcutils.read_config_value(\"kafka.server\") + \":\" + str(qcutils.read_config_value(\"kafka.port\"))\n",
    "\n",
    "topic = ''\n",
    "\n",
    "qcutils.create_kafka_topic(topic)"
   ]
  },
  {
   "cell_type": "markdown",
   "metadata": {},
   "source": [
    "**Note**: in order to avoid conflicts during write operation, please name the topic as `<surname>-topic`"
   ]
  },
  {
   "cell_type": "markdown",
   "metadata": {},
   "source": [
    "## Write a JSON Producer"
   ]
  },
  {
   "cell_type": "markdown",
   "metadata": {},
   "source": [
    "Create a kafka producer to send the description of a car in JSON format.\n",
    "\n",
    "A car can be described as:\n",
    "\n",
    "* a string representing the `Manifacturer`\n",
    "* a string representing the `Model`\n",
    "* an int representing the `Year`\n",
    "* a string representing the `Color`\n"
   ]
  },
  {
   "cell_type": "code",
   "execution_count": null,
   "metadata": {},
   "outputs": [],
   "source": [
    "producerconf = {\n",
    "        'bootstrap.servers': servers,\n",
    "    }\n",
    "\n",
    "\n",
    "p = Producer(producerconf)"
   ]
  },
  {
   "cell_type": "code",
   "execution_count": null,
   "metadata": {},
   "outputs": [],
   "source": [
    "record_key = \"car\"\n",
    "record_value = json.dumps({\"Manufacturer\": \"audi\", \"Model\": \"A3\", \"Year\":2016, \"Color\":\"green\"})\n",
    "print(\"Producing record: {}\\t{}\".format(record_key, record_value))\n",
    "p.produce(topic, key=record_key, value=record_value)\n"
   ]
  },
  {
   "cell_type": "markdown",
   "metadata": {},
   "source": [
    "## Consume the data\n",
    "\n",
    "In another notebook, Write a JSON Consumer that consume the car messages and access directly to the production year..."
   ]
  },
  {
   "cell_type": "markdown",
   "metadata": {},
   "source": [
    "##### ![Quantia Tiny Logo](https://www.quantiaconsulting.com/logos/quantia_logo_tiny.png) 2020 Quantia Consulting, srl. All rights reserved."
   ]
  }
 ],
 "metadata": {
  "kernelspec": {
   "display_name": "Python 3",
   "language": "python",
   "name": "python3"
  },
  "language_info": {
   "codemirror_mode": {
    "name": "ipython",
    "version": 3
   },
   "file_extension": ".py",
   "mimetype": "text/x-python",
   "name": "python",
   "nbconvert_exporter": "python",
   "pygments_lexer": "ipython3",
   "version": "3.7.6"
  },
  "name": "Lab 1 - simple producer",
  "notebookId": 1507370365633679
 },
 "nbformat": 4,
 "nbformat_minor": 4
}
