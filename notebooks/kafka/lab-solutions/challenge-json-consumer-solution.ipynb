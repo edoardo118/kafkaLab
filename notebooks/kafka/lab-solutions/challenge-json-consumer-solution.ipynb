{
 "cells": [
  {
   "cell_type": "markdown",
   "metadata": {},
   "source": [
    "<div style=\"text-align: center; line-height: 0; padding-top: 2px;\">\n",
    "  <img src=\"https://www.quantiaconsulting.com/logos/quantia_logo_orizz.png\" alt=\"Quantia Consulting\" style=\"width: 600px; height: 250px\">\n",
    "</div>"
   ]
  },
  {
   "cell_type": "markdown",
   "metadata": {},
   "source": [
    "# write a simple kafka  consumer using [confluent kafka python](https://github.com/confluentinc/confluent-kafka-python)"
   ]
  },
  {
   "cell_type": "markdown",
   "metadata": {},
   "source": [
    "read messages you sent in `<surname>-topic` in Lab 1"
   ]
  },
  {
   "cell_type": "markdown",
   "metadata": {},
   "source": [
    "## Getting Started\n",
    "\n",
    "Let's start importing libraries and creating useful variables "
   ]
  },
  {
   "cell_type": "code",
   "execution_count": null,
   "metadata": {},
   "outputs": [],
   "source": [
    "%load_ext autotime"
   ]
  },
  {
   "cell_type": "code",
   "execution_count": null,
   "metadata": {},
   "outputs": [],
   "source": [
    "from confluent_kafka import Consumer, KafkaError\n",
    "import json\n",
    "import qcutils\n",
    "\n",
    "topic = ''\n",
    "consumer_group = ''\n",
    "\n",
    "servers=qcutils.read_config_value(\"kafka.server\") + \":\" + str(qcutils.read_config_value(\"kafka.port\"))"
   ]
  },
  {
   "cell_type": "markdown",
   "metadata": {},
   "source": [
    "**Note**: in order to avoid conflicts during read operation, please name:\n",
    "* the topic as `<surname>-topic`\n",
    "* the consumer group as follow `<surname>-cg`"
   ]
  },
  {
   "cell_type": "markdown",
   "metadata": {},
   "source": [
    "## Simple Consumer"
   ]
  },
  {
   "cell_type": "code",
   "execution_count": null,
   "metadata": {},
   "outputs": [],
   "source": [
    "consumerconf = {\n",
    "        'bootstrap.servers': servers,\n",
    "        'group.id': consumer_group,\n",
    "        'auto.offset.reset': 'earliest'\n",
    "    }\n",
    "\n",
    "\n",
    "c = Consumer(consumerconf)\n",
    "\n",
    "# Subscribe to topic\n",
    "c.subscribe([topic])\n",
    "\n",
    "waiting = False\n",
    "\n",
    "try:\n",
    "    while True:\n",
    "        msg = c.poll(1.0)                                        # retrieve records\n",
    "        if msg is None:\n",
    "            if waiting:\n",
    "                print(\".\",end =\" \")\n",
    "            else:\n",
    "                print(\"Waiting\",end =\" \")\n",
    "                waiting = True\n",
    "            continue\n",
    "        elif msg.error():\n",
    "            print('error: {}'.format(msg.error()))\n",
    "            waiting = False\n",
    "        else:\n",
    "            value = json.loads(msg.value())                      # get the value of the message\n",
    "            key = msg.key()                                      # get the key of the message\n",
    "            print(\"\\nThe {}'s year is {}\"\n",
    "                  .format(key, value['year']))                   # get the year! \n",
    "            waiting = False\n",
    "except KeyboardInterrupt:\n",
    "    pass\n",
    "finally:\n",
    "    c.close()                                                   # Leave group and commit final offsets"
   ]
  },
  {
   "cell_type": "markdown",
   "metadata": {},
   "source": [
    "### Final Note\n",
    "To access the `year` you need to manually create the json object, but you can't control the input message.\n",
    "\n",
    "A producer can send you any well-formed JSON.... even without year field"
   ]
  },
  {
   "cell_type": "markdown",
   "metadata": {},
   "source": [
    "##### ![Quantia Tiny Logo](https://www.quantiaconsulting.com/logos/quantia_logo_tiny.png) 2020 Quantia Consulting, srl. All rights reserved."
   ]
  }
 ],
 "metadata": {
  "kernelspec": {
   "display_name": "Python 3",
   "language": "python",
   "name": "python3"
  },
  "language_info": {
   "codemirror_mode": {
    "name": "ipython",
    "version": 3
   },
   "file_extension": ".py",
   "mimetype": "text/x-python",
   "name": "python",
   "nbconvert_exporter": "python",
   "pygments_lexer": "ipython3",
   "version": "3.7.6"
  },
  "name": "Lab  2 - simple consumer",
  "notebookId": 1507370365633698
 },
 "nbformat": 4,
 "nbformat_minor": 4
}
