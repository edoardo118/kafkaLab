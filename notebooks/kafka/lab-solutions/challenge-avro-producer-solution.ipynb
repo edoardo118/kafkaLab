{
 "cells": [
  {
   "cell_type": "markdown",
   "metadata": {},
   "source": [
    "<div style=\"text-align: center; line-height: 0; padding-top: 2px;\">\n",
    "  <img src=\"https://www.quantiaconsulting.com/logos/quantia_logo_orizz.png\" alt=\"Quantia Consulting\" style=\"width: 600px; height: 250px\">\n",
    "</div>"
   ]
  },
  {
   "cell_type": "markdown",
   "metadata": {},
   "source": [
    "## Getting Started\n",
    "\n",
    "Let's start importing libraries and creating useful variables "
   ]
  },
  {
   "cell_type": "code",
   "execution_count": null,
   "metadata": {},
   "outputs": [],
   "source": [
    "%load_ext autotime"
   ]
  },
  {
   "cell_type": "code",
   "execution_count": null,
   "metadata": {},
   "outputs": [],
   "source": [
    "from confluent_kafka import avro\n",
    "from confluent_kafka.avro import AvroProducer\n",
    "import time\n",
    "import qcutils\n",
    "\n",
    "servers=qcutils.read_config_value(\"kafka.server\") + \":\" + str(qcutils.read_config_value(\"kafka.port\"))\n",
    "\n",
    "sr_url=qcutils.read_config_value(\"kafka.schema_registry.url\")\n",
    "\n",
    "topic = ''\n",
    "\n",
    "qcutils.create_kafka_topic(topic)"
   ]
  },
  {
   "cell_type": "markdown",
   "metadata": {},
   "source": [
    "# write a kafka avro producer"
   ]
  },
  {
   "cell_type": "markdown",
   "metadata": {},
   "source": [
    "Define avro schemas for keys and value to describe cards in a deck\n",
    "\n",
    "### Key\n",
    "The key has a single field to contain arbitrary `Name`\n",
    "\n",
    "### Value\n",
    "A card is described by an int `Number` and a `Suit`.\n",
    "\n",
    "**Note**: The card havo only 4 different suits"
   ]
  },
  {
   "cell_type": "markdown",
   "metadata": {},
   "source": [
    "1) define the key schema"
   ]
  },
  {
   "cell_type": "code",
   "execution_count": null,
   "metadata": {},
   "outputs": [],
   "source": [
    "key_schema_str = \"\"\"\n",
    "{\n",
    "  \"namespace\": \"lab.avro\",\n",
    "  \"type\": \"record\",\n",
    "  \"name\": \"CardKey\",\n",
    "  \"fields\": [\n",
    "    {\n",
    "      \"name\": \"name\",\n",
    "      \"type\": \"string\"\n",
    "    }\n",
    "  ]\n",
    "}\n",
    "\"\"\""
   ]
  },
  {
   "cell_type": "markdown",
   "metadata": {},
   "source": [
    "2) define the value schema"
   ]
  },
  {
   "cell_type": "code",
   "execution_count": null,
   "metadata": {},
   "outputs": [],
   "source": [
    "value_schema_str = \"\"\"\n",
    "{\n",
    "  \"namespace\": \"lab.avro\",\n",
    "  \"type\": \"record\",\n",
    "  \"name\": \"CardValue\",\n",
    "  \"fields\": [\n",
    "    {\n",
    "      \"name\": \"number\",\n",
    "      \"type\": \"int\"\n",
    "    },\n",
    "    {\n",
    "      \"name\": \"suittype\",\n",
    "      \"type\": {\n",
    "        \"type\": \"enum\",\n",
    "        \"name\": \"Suit\",\n",
    "        \"symbols\": [\"SPADES\", \"HEARTS\", \"DIAMONDS\", \"CLUBS\"]\n",
    "      },\n",
    "      \"doc\": \"The suit of the card\"\n",
    "    }\n",
    "  ]\n",
    "}\n",
    "\"\"\""
   ]
  },
  {
   "cell_type": "markdown",
   "metadata": {},
   "source": [
    "3) create a topic `<surname>-avro-cards` and send in messages such as `SPADES 2`, `HEARTS Q`, `CLUBS K`, ..."
   ]
  },
  {
   "cell_type": "code",
   "execution_count": null,
   "metadata": {},
   "outputs": [],
   "source": [
    "key_schema = avro.loads(key_schema_str)\n",
    "value_schema = avro.loads(value_schema_str)"
   ]
  },
  {
   "cell_type": "code",
   "execution_count": null,
   "metadata": {},
   "outputs": [],
   "source": [
    "def cb(err, msg):\n",
    "    if err is not None:\n",
    "        print(\"Failed to deliver message: {}\".format(err))\n",
    "    else:\n",
    "        print(\"Produced record to topic {} partition [{}] @ offset {}\"\n",
    "              .format(msg.topic(), msg.partition(), msg.offset()))\n",
    "\n",
    "producerconf = {\n",
    "        'bootstrap.servers': servers,\n",
    "        'schema.registry.url': sr_url\n",
    "    }\n",
    "        \n",
    "ap = AvroProducer(producerconf, default_key_schema=key_schema, default_value_schema=value_schema)\n",
    "\n",
    "key = {\"name\": \"Two of spades\"}\n",
    "value = {\"number\": 2, \"suittype\": \"SPADES\"}\n",
    "ap.produce(topic=topic, value=value, key=key, key_schema=key_schema, value_schema=value_schema)\n",
    "print(value)\n",
    "\n",
    "key = {\"name\": \"Seven of hearts\"}\n",
    "value = {\"number\": 7, \"suittype\": \"HEARTS\"}\n",
    "ap.produce(topic=topic, value=value, key=key, key_schema=key_schema, value_schema=value_schema)\n",
    "print(value)\n",
    "\n",
    "key = {\"name\": \"Four of diamonds\"}\n",
    "value = {\"number\": 4, \"suittype\": \"DIAMONDS\"}\n",
    "ap.produce(topic=topic, value=value, key=key, key_schema=key_schema, value_schema=value_schema)\n",
    "print(value)\n",
    "\n",
    "key = {\"name\": \"Nine of clubs\"}\n",
    "value = {\"number\": 9, \"suittype\": \"CLUBS\"}\n",
    "ap.produce(topic=topic, value=value, key=key, key_schema=key_schema, value_schema=value_schema)\n",
    "print(value)\n",
    "\n",
    "ap.flush(1)"
   ]
  },
  {
   "cell_type": "markdown",
   "metadata": {},
   "source": [
    "## Schema Evolution\n",
    "\n",
    "A system that reads the card data, needs the color of the card for a statistical analysis.\n",
    "\n",
    "Modify the schema to add the card color, and send new data with the card color.\n",
    "\n",
    "Do you need to change the topic or the consumer implementation?"
   ]
  },
  {
   "cell_type": "code",
   "execution_count": null,
   "metadata": {},
   "outputs": [],
   "source": [
    "value_schema_str = \"\"\"\n",
    "{\n",
    "  \"namespace\": \"lab.avro\",\n",
    "  \"type\": \"record\",\n",
    "  \"name\": \"CardEvolvedValue\",\n",
    "  \"fields\": [\n",
    "    {\n",
    "      \"name\": \"number\",\n",
    "      \"type\": \"int\"\n",
    "    },\n",
    "    {\n",
    "      \"name\": \"suittype\",\n",
    "      \"type\": {\n",
    "        \"type\": \"enum\",\n",
    "        \"name\": \"Suit\",\n",
    "        \"symbols\": [\"SPADES\", \"HEARTS\", \"DIAMONDS\", \"CLUBS\"]\n",
    "      },\n",
    "      \"doc\": \"The suit of the card\"\n",
    "    },\n",
    "    {\n",
    "      \"name\": \"color\",\n",
    "      \"type\": \"string\",\n",
    "      \"default\": \"white\"\n",
    "    }\n",
    "  ]\n",
    "}\n",
    "\"\"\"\n",
    "\n",
    "value_schema = avro.loads(value_schema_str)\n",
    "\n",
    "def cb(err, msg):\n",
    "    if err is not None:\n",
    "        print(\"Failed to deliver message: {}\".format(err))\n",
    "    else:\n",
    "        print(\"Produced record to topic {} partition [{}] @ offset {}\"\n",
    "              .format(msg.topic(), msg.partition(), msg.offset()))\n",
    "\n",
    "producerconf = {\n",
    "        'bootstrap.servers': servers,\n",
    "        'schema.registry.url': sr_url\n",
    "    }\n",
    "        \n",
    "newap = AvroProducer(producerconf, default_key_schema=key_schema, default_value_schema=value_schema)\n",
    "\n",
    "key = {\"name\": \"Two of spades\"}\n",
    "value = {\"number\": 2, \"suittype\": \"SPADES\", \"color\":\"red\"}\n",
    "newap.produce(topic=topic, value=value, key=key, key_schema=key_schema, value_schema=value_schema)\n",
    "print(value)\n",
    "\n",
    "newap.flush(1)"
   ]
  },
  {
   "cell_type": "markdown",
   "metadata": {},
   "source": [
    "##### ![Quantia Tiny Logo](https://www.quantiaconsulting.com/logos/quantia_logo_tiny.png) 2020 Quantia Consulting, srl. All rights reserved."
   ]
  }
 ],
 "metadata": {
  "kernelspec": {
   "display_name": "Python 3",
   "language": "python",
   "name": "python3"
  },
  "language_info": {
   "codemirror_mode": {
    "name": "ipython",
    "version": 3
   },
   "file_extension": ".py",
   "mimetype": "text/x-python",
   "name": "python",
   "nbconvert_exporter": "python",
   "pygments_lexer": "ipython3",
   "version": "3.7.6"
  },
  "name": "Lab 3 - Solution - avro producer",
  "notebookId": 1507370365633703
 },
 "nbformat": 4,
 "nbformat_minor": 4
}
