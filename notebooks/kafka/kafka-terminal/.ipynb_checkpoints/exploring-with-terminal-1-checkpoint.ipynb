{
 "cells": [
  {
   "cell_type": "markdown",
   "metadata": {},
   "source": [
    "<div style=\"text-align: center; line-height: 0; padding-top: 2px;\">\n",
    "  <img src=\"https://www.quantiaconsulting.com/logos/quantia_logo_orizz.png\" alt=\"Quantia Consulting\" style=\"width: 600px; height: 250px\">\n",
    "</div>"
   ]
  },
  {
   "cell_type": "markdown",
   "metadata": {},
   "source": [
    "# Exploring Kakfa using the terminal - Part 1/2\n",
    "\n",
    "We are going to use [kakfa command line tool 2.4.1](https://www.apache.org/dyn/closer.cgi?path=/kafka/2.4.1/kafka_2.12-2.4.1.tgz)."
   ]
  },
  {
   "cell_type": "markdown",
   "metadata": {},
   "source": [
    "## 0. Get ready\n",
    "\n",
    "1. open three terminals\n",
    "2. arrange them so that you can see them all on one screen (you shall find a space for this tab, too)\n",
    "3. on each terminal run `cd ~/resources/kafka_2.12-2.4.1/bin` to move in the folder where the utilities are installed\n",
    "4. take a look to the kafka services available on the cluster by running the next cell (use the corresponding address and port for the next cells in this notebook)\n",
    "\n",
    "You should see something like this.\n",
    "\n",
    "![](img/arranging-windows.png)"
   ]
  },
  {
   "cell_type": "code",
   "execution_count": null,
   "metadata": {},
   "outputs": [],
   "source": [
    "import qcutils\n",
    "qcutils.kafka_srv_description()"
   ]
  },
  {
   "cell_type": "markdown",
   "metadata": {},
   "source": [
    "## 1. Start zookeper utility and learn the status of your kafka cluster\n",
    "\n",
    "[ZooKeeper](https://zookeeper.apache.org) is a distributed, open-source coordination service for distributed applications. \n",
    "\n",
    "It exposes a simple set of primitives that distributed applications can build upon to implement higher level services for synchronization, configuration maintenance, and groups and **naming**. \n",
    "\n",
    "It is designed to be easy to program to, and uses a data model styled after the familiar **directory tree structure of file systems**.\n",
    "\n",
    "First, let's find the zookeeper service address exploiting qcutils"
   ]
  },
  {
   "cell_type": "markdown",
   "metadata": {},
   "source": [
    "You can start exploring the status of our kafka cluster using \n",
    "\n",
    "```\n",
    "./zookeeper-shell.sh <zookeeper>\n",
    "```\n",
    "\n",
    "where `./zookeeper-shell.sh` is a utility and \n",
    "`<zookeeper>` is the address of the zookeper server of the kafka cluster (see table above).\n",
    "\n",
    "We don't need to learn [zookeper CLI commands](https://zookeeper.apache.org/doc/r3.3.3/zookeeperStarted.html), we just need to learn:\n",
    "\n",
    "* `ls` command to see what the directory looks like\n",
    "* `get` command to read the status of a resource"
   ]
  },
  {
   "cell_type": "markdown",
   "metadata": {},
   "source": [
    "### hands on\n",
    "\n",
    "* try `ls /` and navigate into the directory\n",
    "* what does it look like?\n",
    "* what do you recognize?\n",
    "* how many brokers are there?\n",
    "* how many topics?"
   ]
  },
  {
   "cell_type": "markdown",
   "metadata": {},
   "source": [
    "## 2. Let's produce and consume some messages from the terminal"
   ]
  },
  {
   "cell_type": "markdown",
   "metadata": {},
   "source": [
    "### Preliminaries\n",
    "\n",
    "> Please note that **we** are all using the same **cluster**. You **must name** your own resources (e.g., the topics) avoiding to conflict with somebody else resources. \n",
    "\n",
    "As a best practice for this lecture, put your initials infront of every resource. \n",
    "\n",
    "For instance, if you are \"*M*ario *R*ossi\" create a topic \"test\" name it **MR**-test.\n",
    "\n",
    "As before, the `<Kafka>` address and port can be found in table above."
   ]
  },
  {
   "cell_type": "markdown",
   "metadata": {},
   "source": [
    "### Hands on the produce\n",
    "\n",
    "1. Choose a name for the topic your going to create, e.g., **MR**-test\n",
    "2. In another terminal run \n",
    "\n",
    "```\n",
    "./kafka-console-producer.sh --broker-list <kafka> --topic MR-test\n",
    "```\n",
    "where:\n",
    "  * `./kafka-console-producer.sh` is a utility\n",
    "  * `<kafka>` is the access point to our cluster\n",
    "  * `--topic MR-topic` tells the topic to produce on. If the topic does not exist, it will be created.\n",
    "\n",
    "3. produce some messages:\n",
    "  * `>Hi there!`\n",
    "  * `>I'm sending some messages`\n",
    "  * ...\n",
    "\n",
    "4. go on the zookeeper terminal and find your topic. \n",
    "  * How many partitions does it get?\n",
    "  * How many replicas?"
   ]
  },
  {
   "cell_type": "markdown",
   "metadata": {},
   "source": [
    "### Hands on the consumer\n",
    "\n",
    "1. remember the name of the topic you've just chosen, e.g **MR**-test\n",
    "2. In yet another terminal run\n",
    "\n",
    "```\n",
    "./kafka-console-consumer.sh --bootstrap-server <kafka> --topic MR-test --from-beginning\n",
    "```\n",
    "\n",
    "where:\n",
    "  * `./kafka-console-consumer.sh` is a utility\n",
    "  * `<kafka>` the access point to our cluster\n",
    "  * `--topic MR-test` tells the topic to consume from, and\n",
    "  * `--from-beginning` tells our cluster that this consumer wants to consume the topic from the beginning.\n",
    "\n",
    "3. see the messages you sent before appearing\n",
    "4. send more messages from the producer\n",
    "  * `>cool!`\n",
    "5. see them appearing on the consumer\n",
    "\n"
   ]
  },
  {
   "cell_type": "markdown",
   "metadata": {},
   "source": [
    "### Questions\n",
    "\n",
    "* Aren't we making it too easy?\n",
    "* What is a message in Kafka?"
   ]
  },
  {
   "cell_type": "markdown",
   "metadata": {},
   "source": [
    "___\n",
    "\n",
    "#### End notes\n",
    "\n",
    "* For the installation of Kafka Console Uitilities visit [kafka quick start](https://kafka.apache.org/quickstart)"
   ]
  },
  {
   "cell_type": "markdown",
   "metadata": {},
   "source": [
    "##### ![Quantia Tiny Logo](https://www.quantiaconsulting.com/logos/quantia_logo_tiny.png) 2020 Quantia Consulting, srl. All rights reserved."
   ]
  }
 ],
 "metadata": {
  "kernelspec": {
   "display_name": "Python 3",
   "language": "python",
   "name": "python3"
  },
  "language_info": {
   "codemirror_mode": {
    "name": "ipython",
    "version": 3
   },
   "file_extension": ".py",
   "mimetype": "text/x-python",
   "name": "python",
   "nbconvert_exporter": "python",
   "pygments_lexer": "ipython3",
   "version": "3.7.6"
  }
 },
 "nbformat": 4,
 "nbformat_minor": 4
}
