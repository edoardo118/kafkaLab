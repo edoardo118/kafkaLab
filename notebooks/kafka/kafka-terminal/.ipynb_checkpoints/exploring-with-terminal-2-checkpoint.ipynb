{
 "cells": [
  {
   "cell_type": "markdown",
   "metadata": {},
   "source": [
    "<div style=\"text-align: center; line-height: 0; padding-top: 2px;\">\n",
    "  <img src=\"https://www.quantiaconsulting.com/logos/quantia_logo_orizz.png\" alt=\"Quantia Consulting\" style=\"width: 600px; height: 250px\">\n",
    "</div>"
   ]
  },
  {
   "cell_type": "markdown",
   "metadata": {},
   "source": [
    "# Exploring Kakfa using the terminal - Part 2/2\n",
    "\n",
    "We are still using [kakfa command line tool 2.4.1](https://www.apache.org/dyn/closer.cgi?path=/kafka/2.4.1/kafka_2.12-2.4.1.tgz)."
   ]
  },
  {
   "cell_type": "markdown",
   "metadata": {},
   "source": [
    "# 0. From the [previous notebook](exploring-with-terminal-1.ipynb)\n",
    "\n",
    "## Questions\n",
    "\n",
    "* Aren't we making it too easy?\n",
    "* What is a message in Kafka?\n",
    "\n",
    "## Answer\n",
    "\n",
    "Indeed, a kafka message is a <key,value> pair.\n",
    "\n",
    "## Get ready to put your hands on them\n",
    "\n",
    "1. exit using `ctrl+c` from zookeper, producer and consumer\n",
    "2. close the zookeper terminal, we won't use it any more"
   ]
  },
  {
   "cell_type": "markdown",
   "metadata": {},
   "source": [
    "## 1. Let's produce and consume some <key,value> pair messages from the terminal"
   ]
  },
  {
   "cell_type": "markdown",
   "metadata": {},
   "source": [
    "### Don't forget the preliminaries!\n",
    "\n",
    "> Please note that **we** are all using the same **cluster**. You **must name** your own resources (e.g., the topics) avoiding to conflict with somebody else resources. \n",
    "\n",
    "As a best practice for this lecture, put your inizials infront of every resource. \n",
    "\n",
    "For instance, if you are \"**M**ario **R**ossi\" create a topic \"test\" name it **MR-**test.\n"
   ]
  },
  {
   "cell_type": "markdown",
   "metadata": {},
   "source": [
    "### Hands on the produce\n",
    "\n",
    "1. In the terminal, which you previously used for the producer, run:\n",
    "\n",
    "```\n",
    "./kafka-console-producer.sh --broker-list <kafka> --topic MR-test --property parse.key=true --property key.separator=,\n",
    "```\n",
    "where:\n",
    "  * `./kafka-console-producer.sh` is a utility\n",
    "  * `<kafka>` is the access point to our cluster\n",
    "  * `--topic MR-topic` tells to produce on the previously created topic\n",
    "  * **`--property parse.key=true`** tells that the messages will be <key,value> pairs \n",
    "  * **`--property key.separator=,`** tells the `,` will separate the *key* from the *value*\n",
    "  \n",
    "2. produce some <key,value> pair messages:\n",
    "  * `>some key,some message`\n",
    "  * `>another key,another message`\n",
    "  * ..."
   ]
  },
  {
   "cell_type": "markdown",
   "metadata": {},
   "source": [
    "### Hands on the consumer\n",
    "\n",
    "1. remember the name of your topic, e.g **MR**-test\n",
    "2. In the terminal, which you previously used for the consumer, run\n",
    "\n",
    "```\n",
    "./kafka-console-consumer.sh --bootstrap-server <kafka> --topic MR-test --from-beginning --property print.key=true\n",
    "```\n",
    "\n",
    "where:\n",
    "  * `./kafka-console-consumer.sh` is a utility\n",
    "  * `<kafka>` the access point to our cluster\n",
    "  * `--topic MR-test` tells the topic to consume from\n",
    "  * `--from-beginning` tells our cluster that this consumer wants to consume the topic from the beginning and\n",
    "  * **`--property print.key=true`** tells that the messages will be <key,value> pairs \n",
    "\n",
    "3. look at the messages you sent before\n",
    "\n",
    "```\n",
    "null    ciao\n",
    "null    Hi there!\n",
    "null    I'm sending some messages\n",
    "null    cool!\n",
    "some key        some message\n",
    "another key     another message\n",
    "```\n",
    "4. produce more messages"
   ]
  },
  {
   "cell_type": "markdown",
   "metadata": {},
   "source": [
    "## 2. Discussion\n",
    "* what do you notice in the message list now that you can see the <key,value> pairs?\n",
    "* can you still produce messages without a key?\n",
    "* do all messages have a key?\n",
    "* can you repeat a key?"
   ]
  },
  {
   "cell_type": "markdown",
   "metadata": {},
   "source": [
    "##### ![Quantia Tiny Logo](https://www.quantiaconsulting.com/logos/quantia_logo_tiny.png) 2020 Quantia Consulting, srl. All rights reserved."
   ]
  }
 ],
 "metadata": {
  "kernelspec": {
   "display_name": "Python 3",
   "language": "python",
   "name": "python3"
  },
  "language_info": {
   "codemirror_mode": {
    "name": "ipython",
    "version": 3
   },
   "file_extension": ".py",
   "mimetype": "text/x-python",
   "name": "python",
   "nbconvert_exporter": "python",
   "pygments_lexer": "ipython3",
   "version": "3.7.6"
  }
 },
 "nbformat": 4,
 "nbformat_minor": 4
}
