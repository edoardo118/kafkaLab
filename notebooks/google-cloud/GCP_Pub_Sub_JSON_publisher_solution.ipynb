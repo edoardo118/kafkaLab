{
 "cells": [
  {
   "cell_type": "markdown",
   "metadata": {},
   "source": [
    "<div style=\"text-align: center; line-height: 0; padding-top: 2px;\">\n",
    "  <img src=\"https://www.quantiaconsulting.com/logos/quantia_logo_orizz.png\" alt=\"Quantia Consulting\" style=\"width: 600px; height: 250px\">\n",
    "</div>"
   ]
  },
  {
   "cell_type": "markdown",
   "metadata": {},
   "source": [
    "# [PUBLISHER] - Pub/Sub API - exercise solution \n",
    "\n",
    "In this __LAB exercise__, you will be asked to:\n",
    "\n",
    "  - create a new publisher\n",
    "  - create a new subscriber\n",
    "  - send JSON messages using the publisher\n",
    "  - pull the messages using the subscriber\n",
    "  - delete the publisher/subscriber"
   ]
  },
  {
   "cell_type": "markdown",
   "metadata": {},
   "source": [
    "### Install the libraries"
   ]
  },
  {
   "cell_type": "code",
   "execution_count": 17,
   "metadata": {},
   "outputs": [
    {
     "name": "stdout",
     "output_type": "stream",
     "text": [
      "Note: you may need to restart the kernel to use updated packages.\n"
     ]
    }
   ],
   "source": [
    "pip install -q google-cloud"
   ]
  },
  {
   "cell_type": "code",
   "execution_count": 18,
   "metadata": {},
   "outputs": [
    {
     "name": "stdout",
     "output_type": "stream",
     "text": [
      "E0303 16:29:36.582931760     561 backup_poller.cc:133]       Run client channel backup poller: {\"created\":\"@1614788976.582890551\",\"description\":\"pollset_work\",\"file\":\"src/core/lib/iomgr/ev_epollex_linux.cc\",\"file_line\":321,\"referenced_errors\":[{\"created\":\"@1614788976.582888033\",\"description\":\"Bad file descriptor\",\"errno\":9,\"file\":\"src/core/lib/iomgr/ev_epollex_linux.cc\",\"file_line\":956,\"os_error\":\"Bad file descriptor\",\"syscall\":\"epoll_wait\"}]}\n",
      "Note: you may need to restart the kernel to use updated packages.\n"
     ]
    }
   ],
   "source": [
    "pip install -q google-cloud-pubsub"
   ]
  },
  {
   "cell_type": "markdown",
   "metadata": {},
   "source": [
    "### Setup the environment"
   ]
  },
  {
   "cell_type": "code",
   "execution_count": 19,
   "metadata": {},
   "outputs": [],
   "source": [
    "# Import the python libraries\n",
    "\n",
    "import os\n",
    "from google.cloud import pubsub_v1"
   ]
  },
  {
   "cell_type": "code",
   "execution_count": 20,
   "metadata": {},
   "outputs": [],
   "source": [
    "# Import the .json credentials and set the environment variable (TODO:student)\n",
    "\n",
    "os.environ[\"GOOGLE_APPLICATION_CREDENTIALS\"]=\"./credentials.json\""
   ]
  },
  {
   "cell_type": "markdown",
   "metadata": {},
   "source": [
    "## Create a new Publisher\n",
    "\n",
    "__Note__: in order to avoid conflicts, please name the topic_id as \"\\<surname\\>-python-topic-json\""
   ]
  },
  {
   "cell_type": "code",
   "execution_count": 21,
   "metadata": {},
   "outputs": [],
   "source": [
    "# Set the topic paramenters\n",
    "\n",
    "project_id = \"preparazione-lezione-gcp\"\n",
    "topic_id = \"python-topic-json\""
   ]
  },
  {
   "cell_type": "code",
   "execution_count": 22,
   "metadata": {},
   "outputs": [
    {
     "name": "stdout",
     "output_type": "stream",
     "text": [
      "Created topic: projects/preparazione-lezione-gcp/topics/python-topic-json\n"
     ]
    }
   ],
   "source": [
    "# Create the new topic \n",
    "\n",
    "publisher = pubsub_v1.PublisherClient()\n",
    "topic_path = publisher.topic_path(project_id, topic_id)\n",
    "\n",
    "topic = publisher.create_topic(request={\"name\": topic_path})\n",
    "\n",
    "print(\"Created topic: {}\".format(topic.name))"
   ]
  },
  {
   "cell_type": "markdown",
   "metadata": {},
   "source": [
    "## Create a new Subscriber (change notebook)\n",
    "\n",
    "Now switch to the ___GCP_Pub_Sub_JSON_subscriber.ipynb___ notebook and instantiate a new subscriber into the `Create a new Subscriber` section. Remember: the subscriber must be associated with the same topic-id defined in this notebook."
   ]
  },
  {
   "cell_type": "markdown",
   "metadata": {},
   "source": [
    "\n",
    "## Send JSON messages\n",
    "\n",
    "Use the publisher created before to send JSON messages about cars. The topic-id is the one you have defined before\n",
    "\n",
    "A car can be described as:\n",
    "- a string representing the Manifacturer\n",
    "- a string representing the Model\n",
    "- an int representing the Year\n",
    "- a string representing the Color"
   ]
  },
  {
   "cell_type": "code",
   "execution_count": 23,
   "metadata": {},
   "outputs": [
    {
     "name": "stdout",
     "output_type": "stream",
     "text": [
      "{'Manufacturer': 'audi', 'Model': 'A3', 'Year': 2016, 'Color': 'green'}\n",
      "{'Manufacturer': 'bmw', 'Model': 'x5', 'Year': 2019, 'Color': 'black'}\n",
      "{'Manufacturer': 'fiat', 'Model': 'panda', 'Year': 1998, 'Color': 'white'}\n"
     ]
    }
   ],
   "source": [
    "import json\n",
    "\n",
    "# Define the JSON records for the cars\n",
    "carData = [{\"Manufacturer\": \"audi\", \"Model\": \"A3\", \"Year\":2016, \"Color\":\"green\"},\n",
    "           {\"Manufacturer\": \"bmw\", \"Model\": \"x5\", \"Year\":2019, \"Color\":\"black\"},\n",
    "           {\"Manufacturer\": \"fiat\", \"Model\": \"panda\", \"Year\":1998, \"Color\":\"white\"}]\n",
    "\n",
    "carData\n",
    "\n",
    "for car in carData:\n",
    "    print(car)"
   ]
  },
  {
   "cell_type": "code",
   "execution_count": 24,
   "metadata": {},
   "outputs": [
    {
     "name": "stdout",
     "output_type": "stream",
     "text": [
      "2078248822963665\n",
      "2078244180867407\n",
      "2078256038496472\n",
      "\n",
      "Published messages to projects/preparazione-lezione-gcp/topics/python-topic-json.\n"
     ]
    }
   ],
   "source": [
    "# Publish the JSON message (Hint: use the json.dumps() fuction to serialize)\n",
    "\n",
    "publisher = pubsub_v1.PublisherClient()\n",
    "topic_path = publisher.topic_path(project_id, topic_id)\n",
    "\n",
    "for car in carData:\n",
    "    data = json.dumps(car).encode('utf-8')\n",
    "    future = publisher.publish(topic_path, data)\n",
    "    print(future.result())\n",
    "\n",
    "print(f\"\\nPublished messages to {topic_path}.\")"
   ]
  },
  {
   "cell_type": "markdown",
   "metadata": {},
   "source": [
    "## Read the JSON messages (change notebook)\n",
    "\n",
    "Now switch to the __GCP_Pub_Sub_JSON_subscriber.ipynb__ notebook and complete the code in the `Read the publisher's messages` section for reading the published messages"
   ]
  },
  {
   "cell_type": "markdown",
   "metadata": {},
   "source": [
    "## Clean up"
   ]
  },
  {
   "cell_type": "code",
   "execution_count": 25,
   "metadata": {},
   "outputs": [
    {
     "name": "stdout",
     "output_type": "stream",
     "text": [
      "Topic deleted: projects/preparazione-lezione-gcp/topics/python-topic-json\n"
     ]
    }
   ],
   "source": [
    "publisher = pubsub_v1.PublisherClient()\n",
    "topic_path = publisher.topic_path(project_id, topic_id)\n",
    "\n",
    "publisher.delete_topic(request={\"topic\": topic_path})\n",
    "\n",
    "print(\"Topic deleted: {}\".format(topic_path))"
   ]
  },
  {
   "cell_type": "markdown",
   "metadata": {},
   "source": [
    "##### ![Quantia Tiny Logo](https://www.quantiaconsulting.com/logos/quantia_logo_tiny.png) 2021 Quantia Consulting, srl. All rights reserved."
   ]
  }
 ],
 "metadata": {
  "kernelspec": {
   "display_name": "Python 3",
   "language": "python",
   "name": "python3"
  },
  "language_info": {
   "codemirror_mode": {
    "name": "ipython",
    "version": 3
   },
   "file_extension": ".py",
   "mimetype": "text/x-python",
   "name": "python",
   "nbconvert_exporter": "python",
   "pygments_lexer": "ipython3",
   "version": "3.8.6"
  }
 },
 "nbformat": 4,
 "nbformat_minor": 4
}
