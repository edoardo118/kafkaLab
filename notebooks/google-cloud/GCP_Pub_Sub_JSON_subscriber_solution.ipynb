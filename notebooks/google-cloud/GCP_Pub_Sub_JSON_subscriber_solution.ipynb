{
 "cells": [
  {
   "cell_type": "markdown",
   "metadata": {},
   "source": [
    "<div style=\"text-align: center; line-height: 0; padding-top: 2px;\">\n",
    "  <img src=\"https://www.quantiaconsulting.com/logos/quantia_logo_orizz.png\" alt=\"Quantia Consulting\" style=\"width: 600px; height: 250px\">\n",
    "</div>"
   ]
  },
  {
   "cell_type": "markdown",
   "metadata": {},
   "source": [
    "# [SUBSCRIBER] - Pub/Sub API - exercise solution \n",
    "\n",
    "In this __LAB exercise__, you will be asked to:\n",
    "\n",
    "  - create a new publisher\n",
    "  - create a new subscriber\n",
    "  - send JSON messages using the publisher\n",
    "  - pull the messages using the subscriber\n",
    "  - delete the publisher/subscriber"
   ]
  },
  {
   "cell_type": "markdown",
   "metadata": {},
   "source": [
    "### Install the libraries"
   ]
  },
  {
   "cell_type": "code",
   "execution_count": 17,
   "metadata": {},
   "outputs": [
    {
     "name": "stdout",
     "output_type": "stream",
     "text": [
      "Note: you may need to restart the kernel to use updated packages.\n"
     ]
    }
   ],
   "source": [
    "pip install -q google-cloud"
   ]
  },
  {
   "cell_type": "code",
   "execution_count": 18,
   "metadata": {},
   "outputs": [
    {
     "name": "stdout",
     "output_type": "stream",
     "text": [
      "E0303 16:30:08.451590066     584 backup_poller.cc:133]       Run client channel backup poller: {\"created\":\"@1614789008.451554988\",\"description\":\"pollset_work\",\"file\":\"src/core/lib/iomgr/ev_epollex_linux.cc\",\"file_line\":321,\"referenced_errors\":[{\"created\":\"@1614789008.451552173\",\"description\":\"Bad file descriptor\",\"errno\":9,\"file\":\"src/core/lib/iomgr/ev_epollex_linux.cc\",\"file_line\":956,\"os_error\":\"Bad file descriptor\",\"syscall\":\"epoll_wait\"}]}\n",
      "Note: you may need to restart the kernel to use updated packages.\n"
     ]
    }
   ],
   "source": [
    "pip install -q google-cloud-pubsub"
   ]
  },
  {
   "cell_type": "markdown",
   "metadata": {},
   "source": [
    "### Setup the environment"
   ]
  },
  {
   "cell_type": "code",
   "execution_count": 19,
   "metadata": {},
   "outputs": [],
   "source": [
    "# Import the python libraries\n",
    "\n",
    "import os\n",
    "from google.cloud import pubsub_v1"
   ]
  },
  {
   "cell_type": "code",
   "execution_count": 20,
   "metadata": {},
   "outputs": [],
   "source": [
    "# Import the .json credentials and set the environment variable (TODO:student)\n",
    "\n",
    "os.environ[\"GOOGLE_APPLICATION_CREDENTIALS\"]=\"./credentials.json\""
   ]
  },
  {
   "cell_type": "markdown",
   "metadata": {},
   "source": [
    "## Create a new Publisher (change notebook)\n",
    "\n",
    "Before continuing, switch to the ___GCP_Pub_Sub_JSON_publisher.ipynb___ notebook and instantiate a new publisher into the `Create a new Publisher` section."
   ]
  },
  {
   "cell_type": "markdown",
   "metadata": {},
   "source": [
    "## Create a new Subscriber\n",
    "\n",
    "__Note__: in order to avoid conflicts, please name the topic_id as \"\\<surname\\>-python-topic-json\"\n",
    "\n",
    "__Note 2__: in order to avoid conflicts, please name the subscription_id as \"\\<surname\\>-python-subscription-json\""
   ]
  },
  {
   "cell_type": "code",
   "execution_count": 21,
   "metadata": {},
   "outputs": [],
   "source": [
    "# Set the subscriber parameters\n",
    "\n",
    "project_id = \"preparazione-lezione-gcp\"\n",
    "topic_id = \"python-topic-json\"\n",
    "subscription_id = \"python-subscription-json\""
   ]
  },
  {
   "cell_type": "code",
   "execution_count": 22,
   "metadata": {},
   "outputs": [
    {
     "name": "stdout",
     "output_type": "stream",
     "text": [
      "Subscription created: name: \"projects/preparazione-lezione-gcp/subscriptions/python-subscription-json\"\n",
      "topic: \"projects/preparazione-lezione-gcp/topics/python-topic-json\"\n",
      "push_config {\n",
      "}\n",
      "ack_deadline_seconds: 10\n",
      "message_retention_duration {\n",
      "  seconds: 604800\n",
      "}\n",
      "expiration_policy {\n",
      "  ttl {\n",
      "    seconds: 2678400\n",
      "  }\n",
      "}\n",
      "\n"
     ]
    }
   ],
   "source": [
    "# Create the new pull subscription\n",
    "\n",
    "publisher = pubsub_v1.PublisherClient()\n",
    "subscriber = pubsub_v1.SubscriberClient()\n",
    "topic_path = publisher.topic_path(project_id, topic_id)\n",
    "subscription_path = subscriber.subscription_path(project_id, subscription_id)\n",
    "\n",
    "with subscriber:\n",
    "    subscription = subscriber.create_subscription(\n",
    "        request={\"name\": subscription_path, \"topic\": topic_path}\n",
    "    )\n",
    "\n",
    "print(f\"Subscription created: {subscription}\")"
   ]
  },
  {
   "cell_type": "markdown",
   "metadata": {},
   "source": [
    "## Send JSON messages (change notebook)\n",
    "\n",
    "Now switch to the __GCP_Pub_Sub_JSON_publisher.ipynb__ notebook and complete the code for publishing JSON messages in the `Send JSON messages` section"
   ]
  },
  {
   "cell_type": "markdown",
   "metadata": {},
   "source": [
    "## Read the publisher's messages\n",
    "\n",
    "Consume the car messages and access directly to the ___production year___ and ___color___ fields"
   ]
  },
  {
   "cell_type": "code",
   "execution_count": 23,
   "metadata": {},
   "outputs": [
    {
     "name": "stdout",
     "output_type": "stream",
     "text": [
      "Listening for messages on projects/preparazione-lezione-gcp/subscriptions/python-subscription-json..\n",
      "\n",
      "Received: Year 2019 - Color black.\n",
      "Received: Year 1998 - Color white.\n",
      "Received: Year 2016 - Color green.\n"
     ]
    }
   ],
   "source": [
    "import json\n",
    "\n",
    "# Retrieve(pull) the messages from the subscriber\n",
    "# Hint: use the json.loads() fuction to de-serialize\n",
    "\n",
    "timeout = 5.0\n",
    "\n",
    "from concurrent.futures import TimeoutError\n",
    "\n",
    "subscriber = pubsub_v1.SubscriberClient()\n",
    "subscription_path = subscriber.subscription_path(project_id, subscription_id)\n",
    "\n",
    "def callback(message):\n",
    "    data = json.loads(message.data.decode('utf-8'))\n",
    "    year = data ['Year']\n",
    "    color = data ['Color']\n",
    "    print(f\"Received: Year {year} - Color {color}.\")\n",
    "    message.ack()\n",
    "\n",
    "streaming_pull_future = subscriber.subscribe(subscription_path, callback=callback)\n",
    "print(f\"Listening for messages on {subscription_path}..\\n\")\n",
    "\n",
    "with subscriber:\n",
    "    try:\n",
    "        streaming_pull_future.result(timeout=timeout)\n",
    "    except TimeoutError:\n",
    "        streaming_pull_future.cancel()"
   ]
  },
  {
   "cell_type": "markdown",
   "metadata": {},
   "source": [
    "## Clean up"
   ]
  },
  {
   "cell_type": "code",
   "execution_count": 24,
   "metadata": {},
   "outputs": [
    {
     "name": "stdout",
     "output_type": "stream",
     "text": [
      "Subscription deleted: projects/preparazione-lezione-gcp/subscriptions/python-subscription-json.\n"
     ]
    }
   ],
   "source": [
    "subscriber = pubsub_v1.SubscriberClient()\n",
    "subscription_path = subscriber.subscription_path(project_id, subscription_id)\n",
    "\n",
    "with subscriber:\n",
    "    subscriber.delete_subscription(request={\"subscription\": subscription_path})\n",
    "\n",
    "print(f\"Subscription deleted: {subscription_path}.\")"
   ]
  },
  {
   "cell_type": "markdown",
   "metadata": {},
   "source": [
    "##### ![Quantia Tiny Logo](https://www.quantiaconsulting.com/logos/quantia_logo_tiny.png) 2021 Quantia Consulting, srl. All rights reserved."
   ]
  }
 ],
 "metadata": {
  "kernelspec": {
   "display_name": "Python 3",
   "language": "python",
   "name": "python3"
  },
  "language_info": {
   "codemirror_mode": {
    "name": "ipython",
    "version": 3
   },
   "file_extension": ".py",
   "mimetype": "text/x-python",
   "name": "python",
   "nbconvert_exporter": "python",
   "pygments_lexer": "ipython3",
   "version": "3.8.6"
  }
 },
 "nbformat": 4,
 "nbformat_minor": 4
}
