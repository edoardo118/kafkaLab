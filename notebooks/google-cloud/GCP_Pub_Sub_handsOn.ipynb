{
 "cells": [
  {
   "cell_type": "markdown",
   "metadata": {},
   "source": [
    "<div style=\"text-align: center; line-height: 0; padding-top: 2px;\">\n",
    "  <img src=\"https://www.quantiaconsulting.com/logos/quantia_logo_orizz.png\" alt=\"Quantia Consulting\" style=\"width: 600px; height: 250px\">\n",
    "</div>"
   ]
  },
  {
   "cell_type": "markdown",
   "metadata": {},
   "source": [
    "# Pub/Sub API (python)\n",
    "\n",
    "In this notebook, you will learn how to use the [__Pub/Sub API__](https://googleapis.dev/python/pubsub/latest/index.html) for python.\n",
    "\n",
    "In particular you will learn how to:\n",
    "    \n",
    "- Create/Delete a topic\n",
    "- Listing all the available topics\n",
    "- Creatie/Delete a subscriptions\n",
    "- Listing all the available subscriptions\n",
    "- Publish text messages\n",
    "- Receiving text messages"
   ]
  },
  {
   "cell_type": "markdown",
   "metadata": {},
   "source": [
    "### Install the libraries"
   ]
  },
  {
   "cell_type": "code",
   "execution_count": 1,
   "metadata": {},
   "outputs": [
    {
     "name": "stdout",
     "output_type": "stream",
     "text": [
      "Note: you may need to restart the kernel to use updated packages.\n"
     ]
    }
   ],
   "source": [
    "pip install -q google-cloud"
   ]
  },
  {
   "cell_type": "code",
   "execution_count": 2,
   "metadata": {},
   "outputs": [
    {
     "name": "stdout",
     "output_type": "stream",
     "text": [
      "Note: you may need to restart the kernel to use updated packages.\n"
     ]
    }
   ],
   "source": [
    "pip install -q google-cloud-pubsub"
   ]
  },
  {
   "cell_type": "markdown",
   "metadata": {},
   "source": [
    "### Setup the environment"
   ]
  },
  {
   "cell_type": "code",
   "execution_count": 3,
   "metadata": {},
   "outputs": [],
   "source": [
    "# Import the python libraries\n",
    "\n",
    "import os\n",
    "from google.cloud import pubsub_v1\n"
   ]
  },
  {
   "cell_type": "code",
   "execution_count": 4,
   "metadata": {},
   "outputs": [],
   "source": [
    "# Import the .json credentials and set the environment variable (TODO:student)\n",
    "\n",
    "os.environ[\"GOOGLE_APPLICATION_CREDENTIALS\"]=\"./credentials.json\""
   ]
  },
  {
   "cell_type": "markdown",
   "metadata": {},
   "source": [
    "## Publisher\n",
    "\n",
    "__Note__: in order to avoid conflicts, please name the topic_id as \"\\<surname\\>-python-topic\""
   ]
  },
  {
   "cell_type": "code",
   "execution_count": 5,
   "metadata": {},
   "outputs": [],
   "source": [
    "# Set the topic paramenters (TODO:student) \n",
    "\n",
    "project_id = \"preparazione-lezione-gcp\"\n",
    "topic_id = \"python-topic\""
   ]
  },
  {
   "cell_type": "code",
   "execution_count": 6,
   "metadata": {},
   "outputs": [
    {
     "name": "stdout",
     "output_type": "stream",
     "text": [
      "Created topic: projects/preparazione-lezione-gcp/topics/python-topic\n"
     ]
    }
   ],
   "source": [
    "# Create a new topic \n",
    "\n",
    "publisher = pubsub_v1.PublisherClient()\n",
    "topic_path = publisher.topic_path(project_id, topic_id)\n",
    "\n",
    "topic = publisher.create_topic(request={\"name\": topic_path})\n",
    "\n",
    "print(\"Created topic: {}\".format(topic.name))"
   ]
  },
  {
   "cell_type": "code",
   "execution_count": 7,
   "metadata": {},
   "outputs": [
    {
     "name": "stdout",
     "output_type": "stream",
     "text": [
      "name: \"projects/preparazione-lezione-gcp/topics/heartratedata\"\n",
      "\n",
      "name: \"projects/preparazione-lezione-gcp/topics/python-topic-json\"\n",
      "\n",
      "name: \"projects/preparazione-lezione-gcp/topics/python-topic\"\n",
      "\n"
     ]
    }
   ],
   "source": [
    "# List the topics to check that has been created\n",
    "\n",
    "publisher = pubsub_v1.PublisherClient()\n",
    "project_path = f\"projects/{project_id}\"\n",
    "\n",
    "for topic in publisher.list_topics(request={\"project\": project_path}):\n",
    "    print(topic)"
   ]
  },
  {
   "cell_type": "markdown",
   "metadata": {},
   "source": [
    "## Subscriber\n",
    "\n",
    "__Note__: in order to avoid conflicts, please name the subscription_id as \"\\<surname\\>-python-pull-subscription\""
   ]
  },
  {
   "cell_type": "code",
   "execution_count": 8,
   "metadata": {},
   "outputs": [],
   "source": [
    "# Set the subscriber parameters (TODO:student)\n",
    "\n",
    "subscription_id = \"python-pull-subscription\""
   ]
  },
  {
   "cell_type": "code",
   "execution_count": 9,
   "metadata": {},
   "outputs": [
    {
     "name": "stdout",
     "output_type": "stream",
     "text": [
      "Subscription created: name: \"projects/preparazione-lezione-gcp/subscriptions/python-pull-subscription\"\n",
      "topic: \"projects/preparazione-lezione-gcp/topics/python-topic\"\n",
      "push_config {\n",
      "}\n",
      "ack_deadline_seconds: 10\n",
      "message_retention_duration {\n",
      "  seconds: 604800\n",
      "}\n",
      "expiration_policy {\n",
      "  ttl {\n",
      "    seconds: 2678400\n",
      "  }\n",
      "}\n",
      "\n"
     ]
    }
   ],
   "source": [
    "# Create a Pull subscription (Pull is default if not specified)\n",
    "\n",
    "publisher = pubsub_v1.PublisherClient()\n",
    "subscriber = pubsub_v1.SubscriberClient()\n",
    "topic_path = publisher.topic_path(project_id, topic_id)\n",
    "subscription_path = subscriber.subscription_path(project_id, subscription_id)\n",
    "\n",
    "with subscriber:\n",
    "    subscription = subscriber.create_subscription(\n",
    "        request={\"name\": subscription_path, \"topic\": topic_path}\n",
    "    )\n",
    "\n",
    "print(f\"Subscription created: {subscription}\")"
   ]
  },
  {
   "cell_type": "code",
   "execution_count": 10,
   "metadata": {},
   "outputs": [
    {
     "name": "stdout",
     "output_type": "stream",
     "text": [
      "projects/preparazione-lezione-gcp/subscriptions/heartratedata\n",
      "projects/preparazione-lezione-gcp/subscriptions/python-subscription-json\n",
      "projects/preparazione-lezione-gcp/subscriptions/python-pull-subscription\n"
     ]
    }
   ],
   "source": [
    "# List the subscriptions to check that has been screated\n",
    "\n",
    "subscriber = pubsub_v1.SubscriberClient()\n",
    "project_path = f\"projects/{project_id}\"\n",
    "\n",
    "with subscriber:\n",
    "    for subscription in subscriber.list_subscriptions(\n",
    "        request={\"project\": project_path}\n",
    "    ):\n",
    "        print(subscription.name)"
   ]
  },
  {
   "cell_type": "markdown",
   "metadata": {},
   "source": [
    "## Pub/Sub in action (text data)"
   ]
  },
  {
   "cell_type": "code",
   "execution_count": 11,
   "metadata": {},
   "outputs": [
    {
     "name": "stdout",
     "output_type": "stream",
     "text": [
      "2078200055411068\n",
      "2078195048496154\n",
      "2078215006989526\n",
      "2078208592704296\n",
      "2078209252101112\n",
      "2078201497002651\n",
      "2078208639212891\n",
      "2078208795051212\n",
      "2078200308329642\n",
      "Published messages to projects/preparazione-lezione-gcp/topics/python-topic.\n"
     ]
    }
   ],
   "source": [
    "# Publish a text message\n",
    "\n",
    "publisher = pubsub_v1.PublisherClient()\n",
    "topic_path = publisher.topic_path(project_id, topic_id)\n",
    "\n",
    "for n in range(1, 10):\n",
    "    data = \"Hello. This is a text message 😀. Message number {}\".format(n)\n",
    "    # Data must be a bytestring\n",
    "    data = data.encode(\"utf-8\")\n",
    "    # When you publish a message, the client returns a future.\n",
    "    future = publisher.publish(topic_path, data)\n",
    "    print(future.result())\n",
    "\n",
    "print(f\"Published messages to {topic_path}.\")"
   ]
  },
  {
   "cell_type": "code",
   "execution_count": 12,
   "metadata": {},
   "outputs": [
    {
     "name": "stdout",
     "output_type": "stream",
     "text": [
      "Listening for messages on projects/preparazione-lezione-gcp/subscriptions/python-pull-subscription..\n",
      "\n",
      "Received Hello. This is a text message 😀. Message number 9.\n",
      "Received Hello. This is a text message 😀. Message number 5.\n",
      "Received Hello. This is a text message 😀. Message number 4.\n",
      "Received Hello. This is a text message 😀. Message number 8.\n",
      "Received Hello. This is a text message 😀. Message number 3.\n",
      "Received Hello. This is a text message 😀. Message number 6.\n",
      "Received Hello. This is a text message 😀. Message number 7.\n",
      "Received Hello. This is a text message 😀. Message number 1.\n",
      "Received Hello. This is a text message 😀. Message number 2.\n"
     ]
    }
   ],
   "source": [
    "# Retrieve(pull) the messages from the subscriber\n",
    "\n",
    "# Number of seconds the subscriber should listen for messages\n",
    "timeout = 5.0\n",
    "\n",
    "\n",
    "from concurrent.futures import TimeoutError\n",
    "\n",
    "subscriber = pubsub_v1.SubscriberClient()\n",
    "subscription_path = subscriber.subscription_path(project_id, subscription_id)\n",
    "\n",
    "def callback(message):\n",
    "    print(f\"Received {message.data.decode('utf-8')}.\")\n",
    "    message.ack()\n",
    "\n",
    "streaming_pull_future = subscriber.subscribe(subscription_path, callback=callback)\n",
    "print(f\"Listening for messages on {subscription_path}..\\n\")\n",
    "\n",
    "# Wrap subscriber in a 'with' block to automatically call close() when done.\n",
    "with subscriber:\n",
    "    try:\n",
    "        # When `timeout` is not set, result() will block indefinitely,\n",
    "        # unless an exception is encountered first.\n",
    "        streaming_pull_future.result(timeout=timeout)\n",
    "    except TimeoutError:\n",
    "        streaming_pull_future.cancel()\n"
   ]
  },
  {
   "cell_type": "markdown",
   "metadata": {},
   "source": [
    "## Cleaning Up"
   ]
  },
  {
   "cell_type": "code",
   "execution_count": 13,
   "metadata": {},
   "outputs": [
    {
     "name": "stdout",
     "output_type": "stream",
     "text": [
      "Subscription deleted: projects/preparazione-lezione-gcp/subscriptions/python-pull-subscription.\n"
     ]
    }
   ],
   "source": [
    "# Delete the subscription\n",
    "\n",
    "subscriber = pubsub_v1.SubscriberClient()\n",
    "subscription_path = subscriber.subscription_path(project_id, subscription_id)\n",
    "\n",
    "with subscriber:\n",
    "    subscriber.delete_subscription(request={\"subscription\": subscription_path})\n",
    "\n",
    "print(f\"Subscription deleted: {subscription_path}.\")"
   ]
  },
  {
   "cell_type": "code",
   "execution_count": 14,
   "metadata": {},
   "outputs": [
    {
     "name": "stdout",
     "output_type": "stream",
     "text": [
      "Topic deleted: projects/preparazione-lezione-gcp/topics/python-topic\n"
     ]
    }
   ],
   "source": [
    "# Delete the topic\n",
    "\n",
    "publisher = pubsub_v1.PublisherClient()\n",
    "topic_path = publisher.topic_path(project_id, topic_id)\n",
    "\n",
    "publisher.delete_topic(request={\"topic\": topic_path})\n",
    "\n",
    "print(\"Topic deleted: {}\".format(topic_path))"
   ]
  },
  {
   "cell_type": "markdown",
   "metadata": {},
   "source": [
    "##### ![Quantia Tiny Logo](https://www.quantiaconsulting.com/logos/quantia_logo_tiny.png) 2021 Quantia Consulting, srl. All rights reserved."
   ]
  }
 ],
 "metadata": {
  "kernelspec": {
   "display_name": "Python 3",
   "language": "python",
   "name": "python3"
  },
  "language_info": {
   "codemirror_mode": {
    "name": "ipython",
    "version": 3
   },
   "file_extension": ".py",
   "mimetype": "text/x-python",
   "name": "python",
   "nbconvert_exporter": "python",
   "pygments_lexer": "ipython3",
   "version": "3.8.6"
  }
 },
 "nbformat": 4,
 "nbformat_minor": 4
}
