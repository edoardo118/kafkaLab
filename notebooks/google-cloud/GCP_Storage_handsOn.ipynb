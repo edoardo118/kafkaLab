{
 "cells": [
  {
   "cell_type": "markdown",
   "metadata": {},
   "source": [
    "<div style=\"text-align: center; line-height: 0; padding-top: 2px;\">\n",
    "  <img src=\"https://www.quantiaconsulting.com/logos/quantia_logo_orizz.png\" alt=\"Quantia Consulting\" style=\"width: 600px; height: 250px\">\n",
    "</div>"
   ]
  },
  {
   "cell_type": "markdown",
   "metadata": {},
   "source": [
    "# Cloud Storage API (python)\n",
    "\n",
    "In this notebook, we will show you how to use the [__Cloud Sorage API__](https://googleapis.dev/python/storage/latest/client.html) for python.\n",
    "\n",
    "In particular you will learn how to:\n",
    "  - create a bucket\n",
    "  - upload an object\n",
    "  - manage permissions to grant public access to a specific object or the entire bucket\n",
    "  - download an object\n",
    "  - delete an object\n",
    "  - delete a bucket"
   ]
  },
  {
   "cell_type": "markdown",
   "metadata": {},
   "source": [
    "### Install the libraries"
   ]
  },
  {
   "cell_type": "code",
   "execution_count": 26,
   "metadata": {},
   "outputs": [
    {
     "name": "stdout",
     "output_type": "stream",
     "text": [
      "Note: you may need to restart the kernel to use updated packages.\n"
     ]
    }
   ],
   "source": [
    "pip install -q google-cloud"
   ]
  },
  {
   "cell_type": "code",
   "execution_count": 27,
   "metadata": {},
   "outputs": [
    {
     "name": "stdout",
     "output_type": "stream",
     "text": [
      "Note: you may need to restart the kernel to use updated packages.\n"
     ]
    }
   ],
   "source": [
    "pip install -q google-cloud-storage"
   ]
  },
  {
   "cell_type": "markdown",
   "metadata": {},
   "source": [
    "### Setup the environment"
   ]
  },
  {
   "cell_type": "code",
   "execution_count": 28,
   "metadata": {},
   "outputs": [],
   "source": [
    "# Import the python libraries\n",
    "\n",
    "import os\n",
    "from google.cloud import storage"
   ]
  },
  {
   "cell_type": "code",
   "execution_count": 29,
   "metadata": {},
   "outputs": [],
   "source": [
    "# Import the .json credentials and set the environment variable (TODO:student)\n",
    "\n",
    "os.environ[\"GOOGLE_APPLICATION_CREDENTIALS\"]=\"./credentials.json\""
   ]
  },
  {
   "cell_type": "code",
   "execution_count": 30,
   "metadata": {},
   "outputs": [],
   "source": [
    "# Get the client reference\n",
    "\n",
    "client = storage.Client()"
   ]
  },
  {
   "cell_type": "markdown",
   "metadata": {},
   "source": [
    "## Create a bucket\n",
    "\n",
    "__Note__: in order to avoid conflicts with your colleagues, please name the bucket_id as \"\\<surname\\>-gcp-quantia-python\""
   ]
  },
  {
   "cell_type": "code",
   "execution_count": 31,
   "metadata": {},
   "outputs": [],
   "source": [
    "# Set the bucket paramenters (TODO:student) \n",
    "\n",
    "project_id = \"preparazione-lezione-gcp\"\n",
    "bucket_id = \"gcp-quantia-python\"\n",
    "bucket_location = \"EU\"  # Multiregion (see https://cloud.google.com/storage/docs/locations) \n",
    "storage_class = \"STANDARD\" # STANDARD / NEARLINE / COLDLINE / ARCHIVE\n"
   ]
  },
  {
   "cell_type": "code",
   "execution_count": 32,
   "metadata": {},
   "outputs": [
    {
     "name": "stderr",
     "output_type": "stream",
     "text": [
      "<ipython-input-32-708116399844>:6: DeprecationWarning: Assignment to 'Bucket.location' is deprecated, as it is only valid before the bucket is created. Instead, pass the location to `Bucket.create`.\n",
      "  bucket.location = bucket_location\n"
     ]
    },
    {
     "name": "stdout",
     "output_type": "stream",
     "text": [
      "Created bucket: gcp-quantia-python\n"
     ]
    }
   ],
   "source": [
    "# Call the API for creating the bucket\n",
    "\n",
    "bucket = storage.Bucket(client, name=bucket_id)\n",
    "\n",
    "bucket.project = project_id\n",
    "bucket.location = bucket_location\n",
    "bucket.storage_class = storage_class\n",
    "\n",
    "bucket = client.create_bucket(bucket) # API request\n",
    "\n",
    "print(\"Created bucket: {}\".format(bucket.name))"
   ]
  },
  {
   "cell_type": "code",
   "execution_count": 33,
   "metadata": {},
   "outputs": [
    {
     "name": "stdout",
     "output_type": "stream",
     "text": [
      "gcp-quantia-python\n",
      "iot-heartrate-temp-quantia\n"
     ]
    }
   ],
   "source": [
    "# List all the buckets to check that has been created\n",
    "\n",
    "buckets = client.list_buckets()\n",
    "\n",
    "for bucket in buckets:\n",
    "        print(bucket.name)"
   ]
  },
  {
   "cell_type": "markdown",
   "metadata": {},
   "source": [
    "## Upload an object"
   ]
  },
  {
   "cell_type": "code",
   "execution_count": 34,
   "metadata": {},
   "outputs": [],
   "source": [
    "# Set the file path (TODO:student)\n",
    "\n",
    "file_path = \"./test.jpg\"\n",
    "destination_folders = \"folder1/folder2/\"\n",
    "blob_name = \"test-image.png\""
   ]
  },
  {
   "cell_type": "code",
   "execution_count": 35,
   "metadata": {},
   "outputs": [
    {
     "name": "stdout",
     "output_type": "stream",
     "text": [
      "File ./test.jpg uploaded to test-image.png.\n"
     ]
    }
   ],
   "source": [
    "# Upload the object\n",
    "\n",
    "bucket = client.bucket(bucket_id)\n",
    "blob = bucket.blob(blob_name)\n",
    "\n",
    "blob.upload_from_filename(file_path)\n",
    "\n",
    "print(\"File {} uploaded to {}.\".format(file_path, blob_name) )"
   ]
  },
  {
   "cell_type": "code",
   "execution_count": 36,
   "metadata": {},
   "outputs": [
    {
     "name": "stdout",
     "output_type": "stream",
     "text": [
      "File ./test.jpg uploaded to test-image.png.\n"
     ]
    }
   ],
   "source": [
    "# Upload the same object, but inside some folders\n",
    "\n",
    "bucket = client.bucket(bucket_id)\n",
    "blob = bucket.blob(destination_folders + blob_name)\n",
    "\n",
    "blob.upload_from_filename(file_path)\n",
    "\n",
    "print(\"File {} uploaded to {}.\".format(file_path, blob_name) )"
   ]
  },
  {
   "cell_type": "code",
   "execution_count": 37,
   "metadata": {},
   "outputs": [
    {
     "name": "stdout",
     "output_type": "stream",
     "text": [
      "folder1/folder2/test-image.png\n",
      "test-image.png\n"
     ]
    }
   ],
   "source": [
    "# List all the files of the bucket to check the upload\n",
    "\n",
    "blobs = client.list_blobs(bucket_id)\n",
    "\n",
    "for blob in blobs:\n",
    "    print(blob.name)"
   ]
  },
  {
   "cell_type": "markdown",
   "metadata": {},
   "source": [
    "## Make a specific object publicly accessible"
   ]
  },
  {
   "cell_type": "code",
   "execution_count": 38,
   "metadata": {},
   "outputs": [
    {
     "name": "stdout",
     "output_type": "stream",
     "text": [
      "Blob test-image.png is publicly accessible at https://storage.googleapis.com/gcp-quantia-python/test-image.png\n"
     ]
    }
   ],
   "source": [
    "# Enable public pemission of the specific object\n",
    "\n",
    "bucket = client.bucket(bucket_id)\n",
    "blob = bucket.blob(blob_name)\n",
    "\n",
    "blob.make_public()\n",
    "\n",
    "print(\"Blob {} is publicly accessible at {}\".format( blob.name, blob.public_url) )"
   ]
  },
  {
   "cell_type": "code",
   "execution_count": 39,
   "metadata": {},
   "outputs": [
    {
     "name": "stdout",
     "output_type": "stream",
     "text": [
      "Blob test-image.png is no more publicly accessible\n"
     ]
    }
   ],
   "source": [
    "# Remove public permission of the specific object\n",
    "\n",
    "bucket = client.bucket(bucket_id)\n",
    "blob = bucket.blob(blob_name)\n",
    "\n",
    "blob.make_private()\n",
    "\n",
    "print(\"Blob {} is no more publicly accessible\".format( blob.name) )\n"
   ]
  },
  {
   "cell_type": "markdown",
   "metadata": {},
   "source": [
    "## Make the entire bucket publicly accessible"
   ]
  },
  {
   "cell_type": "code",
   "execution_count": 40,
   "metadata": {},
   "outputs": [],
   "source": [
    "# Set the permissions, get the bucket\n",
    "\n",
    "bucket = client.bucket(bucket_id)\n",
    "\n",
    "role = \"roles/storage.objectViewer\"\n",
    "member = \"allUsers\""
   ]
  },
  {
   "cell_type": "code",
   "execution_count": 41,
   "metadata": {},
   "outputs": [
    {
     "name": "stdout",
     "output_type": "stream",
     "text": [
      "Bucket gcp-quantia-python is now publicly readable\n"
     ]
    }
   ],
   "source": [
    "# Make the bucket public\n",
    "\n",
    "policy = bucket.get_iam_policy(requested_policy_version=3)\n",
    "policy.bindings.append({\"role\": role, \"members\": {member}})\n",
    "\n",
    "bucket.set_iam_policy(policy)\n",
    "\n",
    "print(\"Bucket {} is now publicly readable\".format(bucket.name))"
   ]
  },
  {
   "cell_type": "markdown",
   "metadata": {},
   "source": [
    "For testing the feature, you can try to access the object stored in the folder at https://storage.googleapis.com/BUCKET-ID/folder1/folder2/test-image.png   (note: change BUCKET-ID according to the name you have provided)"
   ]
  },
  {
   "cell_type": "code",
   "execution_count": 42,
   "metadata": {},
   "outputs": [
    {
     "name": "stdout",
     "output_type": "stream",
     "text": [
      "Role: roles/storage.legacyBucketOwner, Members: {'projectOwner:preparazione-lezione-gcp', 'projectEditor:preparazione-lezione-gcp'}\n",
      "Role: roles/storage.legacyBucketReader, Members: {'projectViewer:preparazione-lezione-gcp'}\n",
      "Role: roles/storage.objectViewer, Members: {'allUsers'}\n"
     ]
    }
   ],
   "source": [
    "# Show the ACL list (check if \"allUsers\" has reading permission)\n",
    "\n",
    "policy = bucket.get_iam_policy(requested_policy_version=3)\n",
    "\n",
    "for binding in policy.bindings:\n",
    "    print(\"Role: {}, Members: {}\".format(binding[\"role\"], binding[\"members\"]))"
   ]
  },
  {
   "cell_type": "code",
   "execution_count": 43,
   "metadata": {},
   "outputs": [
    {
     "name": "stdout",
     "output_type": "stream",
     "text": [
      "Bucket gcp-quantia-python is no more publicly readable\n"
     ]
    }
   ],
   "source": [
    "# Remove public permission\n",
    "\n",
    "policy = bucket.get_iam_policy(requested_policy_version=3)\n",
    "policy.bindings.remove({\"role\": role, \"members\": {member}})\n",
    "\n",
    "bucket.set_iam_policy(policy)\n",
    "\n",
    "print(\"Bucket {} is no more publicly readable\".format(bucket.name))"
   ]
  },
  {
   "cell_type": "code",
   "execution_count": 44,
   "metadata": {},
   "outputs": [
    {
     "name": "stdout",
     "output_type": "stream",
     "text": [
      "Role: roles/storage.legacyBucketOwner, Members: {'projectOwner:preparazione-lezione-gcp', 'projectEditor:preparazione-lezione-gcp'}\n",
      "Role: roles/storage.legacyBucketReader, Members: {'projectViewer:preparazione-lezione-gcp'}\n"
     ]
    }
   ],
   "source": [
    "# Show the ACL list (check if permissions of \"allUsers\" have been removed)\n",
    "\n",
    "policy = bucket.get_iam_policy(requested_policy_version=3)\n",
    "\n",
    "for binding in policy.bindings:\n",
    "    print(\"Role: {}, Members: {}\".format(binding[\"role\"], binding[\"members\"]))"
   ]
  },
  {
   "cell_type": "markdown",
   "metadata": {},
   "source": [
    "## Download an object"
   ]
  },
  {
   "cell_type": "code",
   "execution_count": 45,
   "metadata": {},
   "outputs": [],
   "source": [
    "# Set the file path (TODO:student)\n",
    "\n",
    "destination_file_name = \"./download.jpg\"\n",
    "source_blob_name = blob_name"
   ]
  },
  {
   "cell_type": "code",
   "execution_count": 46,
   "metadata": {},
   "outputs": [
    {
     "name": "stdout",
     "output_type": "stream",
     "text": [
      "Downloaded public blob test-image.png from bucket gcp-quantia-python to ./download.jpg.\n"
     ]
    }
   ],
   "source": [
    "bucket = client.bucket(bucket_id)\n",
    "blob = bucket.blob(source_blob_name)\n",
    "blob.download_to_filename(destination_file_name)\n",
    "\n",
    "print(\"Downloaded public blob {} from bucket {} to {}.\".format(source_blob_name, bucket.name, destination_file_name))"
   ]
  },
  {
   "cell_type": "markdown",
   "metadata": {},
   "source": [
    "## Delete an object"
   ]
  },
  {
   "cell_type": "code",
   "execution_count": 47,
   "metadata": {},
   "outputs": [],
   "source": [
    "# Set the file path (TODO:student)\n",
    "blob_to_delete = \"folder1/folder2/test-image.png\""
   ]
  },
  {
   "cell_type": "code",
   "execution_count": 48,
   "metadata": {},
   "outputs": [
    {
     "name": "stdout",
     "output_type": "stream",
     "text": [
      "Blob folder1/folder2/test-image.png deleted.\n"
     ]
    }
   ],
   "source": [
    "# Delete the file located in blob_name\n",
    "\n",
    "bucket = client.bucket(bucket_id)\n",
    "blob = bucket.blob(blob_to_delete)\n",
    "blob.delete()\n",
    "\n",
    "print(\"Blob {} deleted.\".format(blob_to_delete))"
   ]
  },
  {
   "cell_type": "markdown",
   "metadata": {},
   "source": [
    "## Delete a bucket"
   ]
  },
  {
   "cell_type": "code",
   "execution_count": 49,
   "metadata": {},
   "outputs": [
    {
     "name": "stdout",
     "output_type": "stream",
     "text": [
      "Bucket gcp-quantia-python deleted\n"
     ]
    }
   ],
   "source": [
    "# Deletes the entire bucket\n",
    "\n",
    "bucket = client.get_bucket(bucket_id)\n",
    "bucket.delete(force=True) # Force deletion, even if bucket is non-empty\n",
    "\n",
    "print(\"Bucket {} deleted\".format(bucket.name))"
   ]
  },
  {
   "cell_type": "markdown",
   "metadata": {},
   "source": [
    "##### ![Quantia Tiny Logo](https://www.quantiaconsulting.com/logos/quantia_logo_tiny.png) 2021 Quantia Consulting, srl. All rights reserved."
   ]
  }
 ],
 "metadata": {
  "kernelspec": {
   "display_name": "Python 3",
   "language": "python",
   "name": "python3"
  },
  "language_info": {
   "codemirror_mode": {
    "name": "ipython",
    "version": 3
   },
   "file_extension": ".py",
   "mimetype": "text/x-python",
   "name": "python",
   "nbconvert_exporter": "python",
   "pygments_lexer": "ipython3",
   "version": "3.8.6"
  }
 },
 "nbformat": 4,
 "nbformat_minor": 4
}
