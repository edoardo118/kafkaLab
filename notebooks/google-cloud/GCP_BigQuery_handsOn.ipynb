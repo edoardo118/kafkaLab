{
 "cells": [
  {
   "cell_type": "markdown",
   "metadata": {},
   "source": [
    "<div style=\"text-align: center; line-height: 0; padding-top: 2px;\">\n",
    "  <img src=\"https://www.quantiaconsulting.com/logos/quantia_logo_orizz.png\" alt=\"Quantia Consulting\" style=\"width: 600px; height: 250px\">\n",
    "</div>"
   ]
  },
  {
   "cell_type": "markdown",
   "metadata": {},
   "source": [
    "# BigQuery API (python) - with exercises\n",
    "\n",
    "In this notebook, you will learn how to use the [__BigQuery API__](https://googleapis.dev/python/bigquery/latest/index.html) for python.\n",
    "\n",
    "In particular you will learn how to:\n",
    "\n",
    "  - create a storage bucket, load the CSV file (LAB __exercise__)\n",
    "  - create a dataset\n",
    "  - create a table (ingest CSV data from Cloud Storage)\n",
    "  - query a table\n",
    "  - query a table using the [__pandas-gbq__](https://pandas-gbq.readthedocs.io/en/latest/index.html) library, plot the results\n",
    "  - delete a bucket (LAB __exercise__)\n",
    "  - delete a table\n",
    "  - delete a dataset "
   ]
  },
  {
   "cell_type": "markdown",
   "metadata": {},
   "source": [
    "### Install the libraries"
   ]
  },
  {
   "cell_type": "code",
   "execution_count": 34,
   "metadata": {},
   "outputs": [
    {
     "name": "stdout",
     "output_type": "stream",
     "text": [
      "Note: you may need to restart the kernel to use updated packages.\n"
     ]
    }
   ],
   "source": [
    "pip install -q google-cloud"
   ]
  },
  {
   "cell_type": "code",
   "execution_count": 35,
   "metadata": {},
   "outputs": [
    {
     "name": "stdout",
     "output_type": "stream",
     "text": [
      "Note: you may need to restart the kernel to use updated packages.\n"
     ]
    }
   ],
   "source": [
    "pip install -q google-cloud-storage"
   ]
  },
  {
   "cell_type": "code",
   "execution_count": 36,
   "metadata": {},
   "outputs": [
    {
     "name": "stdout",
     "output_type": "stream",
     "text": [
      "Note: you may need to restart the kernel to use updated packages.\n"
     ]
    }
   ],
   "source": [
    "pip install -q google-cloud-bigquery"
   ]
  },
  {
   "cell_type": "markdown",
   "metadata": {},
   "source": [
    "### Setup the environment"
   ]
  },
  {
   "cell_type": "code",
   "execution_count": 37,
   "metadata": {},
   "outputs": [],
   "source": [
    "# Import the python libraries\n",
    "\n",
    "import os\n",
    "from google.cloud import storage\n",
    "from google.cloud import bigquery"
   ]
  },
  {
   "cell_type": "code",
   "execution_count": 38,
   "metadata": {},
   "outputs": [],
   "source": [
    "# Import the .json credentials and set the environment variable (TODO:student)\n",
    "\n",
    "os.environ[\"GOOGLE_APPLICATION_CREDENTIALS\"]=\"./<YOUR-CREDENTIALS>.json\""
   ]
  },
  {
   "cell_type": "markdown",
   "metadata": {},
   "source": [
    "## Create a bucket to upload the CSV file (LAB exercise)\n",
    "\n",
    "__Note__: in order to avoid conflicts with your colleagues, please name the bucket_id using your \\<surname\\> as initial part of the id"
   ]
  },
  {
   "cell_type": "code",
   "execution_count": 60,
   "metadata": {},
   "outputs": [],
   "source": [
    "# Get the client reference\n",
    "\n",
    "client = <TODO>"
   ]
  },
  {
   "cell_type": "code",
   "execution_count": 61,
   "metadata": {},
   "outputs": [],
   "source": [
    "# Set the bucket paramenters\n",
    "# We would like to have a standard bucket located in Europe (multi-region)\n",
    "\n",
    "project_id = <TODO>\n",
    "bucket_id = <TODO>\n",
    "bucket_location = <TODO>\n",
    "storage_class = <TODO>\n",
    "\n",
    "\n",
    "# Set the file path and object name\n",
    "\n",
    "file_path = <TODO>\n",
    "blob_name = <TODO>"
   ]
  },
  {
   "cell_type": "code",
   "execution_count": null,
   "metadata": {},
   "outputs": [],
   "source": [
    "# 1. Declare a bucket entity, set prameters (project, location, storage_class)\n",
    "<TODO>\n",
    "\n",
    "# 2. Bucket creation (API request)\n",
    "# Remember: the bucket-id must be unique among all the existing Cloud Storage buckets all over the world.\n",
    "#           If you get a creation error, try to change the bucket-id parameter with another one.\n",
    "<TODO>\n",
    "\n",
    "# 3. Upload the CSV file on the bucket\n",
    "<TODO>"
   ]
  },
  {
   "cell_type": "markdown",
   "metadata": {},
   "source": [
    "## Create a dataset"
   ]
  },
  {
   "cell_type": "code",
   "execution_count": 43,
   "metadata": {},
   "outputs": [],
   "source": [
    "# Construct a BigQuery client object.\n",
    "\n",
    "client = bigquery.Client()"
   ]
  },
  {
   "cell_type": "markdown",
   "metadata": {},
   "source": [
    "__Note__: in order to avoid conflicts with your colleagues, please name the dataset_id by changing \"FILM_DS_PYTHON\" with \"\\<surname\\>_FILM_DS_PYTHON\""
   ]
  },
  {
   "cell_type": "code",
   "execution_count": 44,
   "metadata": {},
   "outputs": [
    {
     "name": "stdout",
     "output_type": "stream",
     "text": [
      "Dataset id: preparazione-lezione-gcp.FILM_DS_PYTHON\n"
     ]
    }
   ],
   "source": [
    "# Set the \"dataset_id\" and the \"location\" of the data (TODO:student)\n",
    "\n",
    "dataset_id = \"{}.FILM_DS_PYTHON\".format(client.project)\n",
    "location = \"EU\"\n",
    "\n",
    "print(\"Dataset id: \" + dataset_id)"
   ]
  },
  {
   "cell_type": "code",
   "execution_count": 45,
   "metadata": {},
   "outputs": [],
   "source": [
    "# Construct a full Dataset object to send to the API.\n",
    "\n",
    "dataset = bigquery.Dataset(dataset_id)\n",
    "dataset.location = location"
   ]
  },
  {
   "cell_type": "code",
   "execution_count": 46,
   "metadata": {},
   "outputs": [
    {
     "name": "stdout",
     "output_type": "stream",
     "text": [
      "Created dataset preparazione-lezione-gcp.FILM_DS_PYTHON\n"
     ]
    }
   ],
   "source": [
    "# Send the dataset to the API for creation, with an explicit timeout.\n",
    "# Raises google.api_core.exceptions.Conflict if the Dataset already\n",
    "# exists within the project.\n",
    "\n",
    "dataset = client.create_dataset(dataset, timeout=30)  # Make an API request.\n",
    "print(\"Created dataset {}.{}\".format(client.project, dataset.dataset_id))"
   ]
  },
  {
   "cell_type": "markdown",
   "metadata": {},
   "source": [
    "## Create a BigQuery table by ingesting CSV data"
   ]
  },
  {
   "cell_type": "code",
   "execution_count": 47,
   "metadata": {},
   "outputs": [
    {
     "name": "stdout",
     "output_type": "stream",
     "text": [
      "Table id: preparazione-lezione-gcp.FILM_DS_PYTHON.NETFLIX\n"
     ]
    }
   ],
   "source": [
    "# Set \"table_id\" to the ID of the table to create (TODO:student)\n",
    "\n",
    "table_id = \"{}.{}.NETFLIX\".format(client.project, dataset.dataset_id)\n",
    "\n",
    "print(\"Table id: \" + table_id)"
   ]
  },
  {
   "cell_type": "code",
   "execution_count": 48,
   "metadata": {},
   "outputs": [],
   "source": [
    "# Define the BigQuery job (reference: https://googleapis.dev/python/bigquery/latest/generated/google.cloud.bigquery.job.LoadJobConfig.html)\n",
    "\n",
    "job_config = bigquery.LoadJobConfig(\n",
    "    autodetect=True, # schema autodetection\n",
    "    skip_leading_rows=1,\n",
    "    allow_quoted_newlines=True, # Allow quoted data containing newline characters (CSV only)\n",
    "    allow_jagged_rows=True, # Allow missing trailing optional columns (CSV only)\n",
    "    source_format=bigquery.SourceFormat.CSV, # The source format defaults to CSV, so the line below is optional.\n",
    ")"
   ]
  },
  {
   "cell_type": "code",
   "execution_count": 49,
   "metadata": {},
   "outputs": [
    {
     "name": "stdout",
     "output_type": "stream",
     "text": [
      "Cloud Storage uri: gs://bigquery_film_example_python/netflix_titles.csv\n"
     ]
    }
   ],
   "source": [
    "# Set the \"uri\" location of the data in Cloud Storage\n",
    "\n",
    "uri = \"gs://\" + bucket_id + \"/\" + blob_name\n",
    "\n",
    "print(\"Cloud Storage uri: \" + uri)"
   ]
  },
  {
   "cell_type": "code",
   "execution_count": 50,
   "metadata": {},
   "outputs": [
    {
     "name": "stdout",
     "output_type": "stream",
     "text": [
      "Loaded 7787 rows.\n"
     ]
    }
   ],
   "source": [
    "# Call the API, execute the job\n",
    "\n",
    "load_job = client.load_table_from_uri(\n",
    "    uri, table_id, job_config=job_config\n",
    ")  # Make an API request.\n",
    "\n",
    "load_job.result()  # Waits for the job to complete.\n",
    "\n",
    "destination_table = client.get_table(table_id)  # Make an API request.\n",
    "\n",
    "print(\"Loaded {} rows and {} columns to {}\".format(destination_table.num_rows, len(destination_table.schema), table_id))"
   ]
  },
  {
   "cell_type": "markdown",
   "metadata": {},
   "source": [
    "## Make a query"
   ]
  },
  {
   "cell_type": "code",
   "execution_count": 51,
   "metadata": {},
   "outputs": [
    {
     "name": "stdout",
     "output_type": "stream",
     "text": [
      "\n",
      "    SELECT type, count(*) AS CNT\n",
      "    FROM `preparazione-lezione-gcp.FILM_DS_PYTHON.NETFLIX`\n",
      "    WHERE release_year >= 2015 AND country = \"United Kingdom\"\n",
      "    GROUP BY type\n",
      "\n"
     ]
    }
   ],
   "source": [
    "# Define the query text\n",
    "\n",
    "query = \"\"\"\n",
    "    SELECT type, count(*) AS CNT\n",
    "    FROM `\"\"\" + table_id + \"\"\"`\n",
    "    WHERE release_year >= 2015 AND country = \"United Kingdom\"\n",
    "    GROUP BY type\n",
    "\"\"\"\n",
    "\n",
    "print(query)"
   ]
  },
  {
   "cell_type": "code",
   "execution_count": 52,
   "metadata": {},
   "outputs": [],
   "source": [
    "# Run the query\n",
    "\n",
    "query_job = client.query(query)  # Make an API request."
   ]
  },
  {
   "cell_type": "code",
   "execution_count": 53,
   "metadata": {},
   "outputs": [
    {
     "name": "stdout",
     "output_type": "stream",
     "text": [
      "The query data:\n",
      "type=Movie, count=144\n",
      "type=TV Show, count=155\n"
     ]
    }
   ],
   "source": [
    "# Print the results\n",
    "\n",
    "print(\"The query data:\")\n",
    "for row in query_job:\n",
    "    # Row values can be accessed by field name or index.\n",
    "    print(\"type={}, count={}\".format(row[0], row[\"CNT\"]))"
   ]
  },
  {
   "cell_type": "markdown",
   "metadata": {},
   "source": [
    "## Make the same query using the pandas-gbq library"
   ]
  },
  {
   "cell_type": "code",
   "execution_count": 54,
   "metadata": {},
   "outputs": [
    {
     "name": "stdout",
     "output_type": "stream",
     "text": [
      "Note: you may need to restart the kernel to use updated packages.\n"
     ]
    }
   ],
   "source": [
    "pip install -q pandas_gbq"
   ]
  },
  {
   "cell_type": "code",
   "execution_count": 55,
   "metadata": {},
   "outputs": [
    {
     "name": "stderr",
     "output_type": "stream",
     "text": [
      "Downloading: 100%|██████████| 2/2 [00:00<00:00, 10.65rows/s]"
     ]
    },
    {
     "name": "stdout",
     "output_type": "stream",
     "text": [
      "      type  CNT\n",
      "0    Movie  144\n",
      "1  TV Show  155\n"
     ]
    },
    {
     "name": "stderr",
     "output_type": "stream",
     "text": [
      "\n"
     ]
    }
   ],
   "source": [
    "import pandas_gbq\n",
    "\n",
    "# Run a Standard SQL query using the environment's default project\n",
    "df = pandas_gbq.read_gbq(query, dialect='standard')\n",
    "\n",
    "print(df)"
   ]
  },
  {
   "cell_type": "code",
   "execution_count": 56,
   "metadata": {},
   "outputs": [
    {
     "data": {
      "image/png": "[encoded data removed]",
      "text/plain": [
       "<Figure size 432x288 with 1 Axes>"
      ]
     },
     "metadata": {
      "needs_background": "light"
     },
     "output_type": "display_data"
    }
   ],
   "source": [
    "# Plot a simple data visualization\n",
    "\n",
    "ax = df.plot.bar(x='type', y='CNT', rot=0)"
   ]
  },
  {
   "cell_type": "markdown",
   "metadata": {},
   "source": [
    "## Delete the bucket (LAB exercise)"
   ]
  },
  {
   "cell_type": "code",
   "execution_count": 3,
   "metadata": {},
   "outputs": [],
   "source": [
    "# Delete the bucket (LAB exercise)\n",
    "\n",
    "# Get client reference\n",
    "storageClient = storage.Client()\n",
    "\n",
    "<TODO>"
   ]
  },
  {
   "cell_type": "markdown",
   "metadata": {},
   "source": [
    "## Clean up"
   ]
  },
  {
   "cell_type": "code",
   "execution_count": 58,
   "metadata": {},
   "outputs": [
    {
     "name": "stdout",
     "output_type": "stream",
     "text": [
      "Deleted table 'preparazione-lezione-gcp.FILM_DS_PYTHON.NETFLIX'.\n"
     ]
    }
   ],
   "source": [
    "# Delete the Table\n",
    "\n",
    "client.delete_table(table_id, not_found_ok=True)  # Make an API request.\n",
    "print(\"Deleted table '{}'.\".format(table_id))"
   ]
  },
  {
   "cell_type": "code",
   "execution_count": 59,
   "metadata": {},
   "outputs": [
    {
     "name": "stdout",
     "output_type": "stream",
     "text": [
      "Deleted dataset 'preparazione-lezione-gcp.FILM_DS_PYTHON'.\n"
     ]
    }
   ],
   "source": [
    "# Delete the dataset\n",
    "\n",
    "client.delete_dataset(\n",
    "    dataset_id, delete_contents=True, not_found_ok=True\n",
    ")\n",
    "\n",
    "print(\"Deleted dataset '{}'.\".format(dataset_id))"
   ]
  },
  {
   "cell_type": "markdown",
   "metadata": {},
   "source": [
    "##### ![Quantia Tiny Logo](https://www.quantiaconsulting.com/logos/quantia_logo_tiny.png) 2021 Quantia Consulting, srl. All rights reserved."
   ]
  }
 ],
 "metadata": {
  "kernelspec": {
   "display_name": "Python 3",
   "language": "python",
   "name": "python3"
  },
  "language_info": {
   "codemirror_mode": {
    "name": "ipython",
    "version": 3
   },
   "file_extension": ".py",
   "mimetype": "text/x-python",
   "name": "python",
   "nbconvert_exporter": "python",
   "pygments_lexer": "ipython3",
   "version": "3.8.6"
  }
 },
 "nbformat": 4,
 "nbformat_minor": 4
}
