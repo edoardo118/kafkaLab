{
 "cells": [
  {
   "cell_type": "markdown",
   "metadata": {},
   "source": [
    "<div style=\"text-align: center; line-height: 0; padding-top: 2px;\">\n",
    "  <img src=\"https://www.quantiaconsulting.com/logos/quantia_logo_orizz.png\" alt=\"Quantia Consulting\" style=\"width: 600px; height: 250px\">\n",
    "</div>"
   ]
  },
  {
   "cell_type": "markdown",
   "metadata": {},
   "source": [
    "# BigQuery API (python) - exercise\n",
    "\n",
    "In this LAB notebook, you will try to use the [__BigQuery API__](https://googleapis.dev/python/bigquery/latest/index.html) for python.\n",
    "\n",
    "You will need to perform the following tasks:\n",
    "\n",
    "- create a new dataset\n",
    "- create a table (ingest the CSV file `people-with-dups.txt`)\n",
    "- query the table: extract the average salary for each gender\n",
    "- delete the dataset\n"
   ]
  },
  {
   "cell_type": "markdown",
   "metadata": {},
   "source": [
    "### Install the libraries"
   ]
  },
  {
   "cell_type": "code",
   "execution_count": 42,
   "metadata": {},
   "outputs": [
    {
     "name": "stdout",
     "output_type": "stream",
     "text": [
      "Note: you may need to restart the kernel to use updated packages.\n"
     ]
    }
   ],
   "source": [
    "pip install -q google-cloud"
   ]
  },
  {
   "cell_type": "code",
   "execution_count": 43,
   "metadata": {},
   "outputs": [
    {
     "name": "stdout",
     "output_type": "stream",
     "text": [
      "Note: you may need to restart the kernel to use updated packages.\n"
     ]
    }
   ],
   "source": [
    "pip install -q google-cloud-bigquery"
   ]
  },
  {
   "cell_type": "markdown",
   "metadata": {},
   "source": [
    "### Setup the environment"
   ]
  },
  {
   "cell_type": "code",
   "execution_count": 44,
   "metadata": {},
   "outputs": [],
   "source": [
    "# Import the python libraries\n",
    "\n",
    "import os\n",
    "from google.cloud import bigquery"
   ]
  },
  {
   "cell_type": "code",
   "execution_count": 45,
   "metadata": {},
   "outputs": [],
   "source": [
    "# Import the .json credentials and set the environment variable (TODO:student)\n",
    "\n",
    "os.environ[\"GOOGLE_APPLICATION_CREDENTIALS\"]=\"./<TODO>.json\""
   ]
  },
  {
   "cell_type": "markdown",
   "metadata": {},
   "source": [
    "## Create a dataset"
   ]
  },
  {
   "cell_type": "code",
   "execution_count": 46,
   "metadata": {},
   "outputs": [],
   "source": [
    "# Construct a BigQuery client object.\n",
    "\n",
    "client = bigquery.Client()"
   ]
  },
  {
   "cell_type": "markdown",
   "metadata": {},
   "source": [
    "__Note__: in order to avoid conflicts with your colleagues, please name the dataset_id by adding your \\<surname\\> in the name"
   ]
  },
  {
   "cell_type": "code",
   "execution_count": null,
   "metadata": {},
   "outputs": [],
   "source": [
    "# Set the \"dataset_id\" and the \"location\" of the data\n",
    "\n",
    "dataset_id = <TODO>\n",
    "location = \"EU\""
   ]
  },
  {
   "cell_type": "code",
   "execution_count": 48,
   "metadata": {},
   "outputs": [],
   "source": [
    "# Construct a full Dataset object to send to the API.\n",
    "\n",
    "<TODO>"
   ]
  },
  {
   "cell_type": "markdown",
   "metadata": {},
   "source": [
    "## Create a BigQuery table by ingesting CSV data"
   ]
  },
  {
   "cell_type": "markdown",
   "metadata": {},
   "source": [
    "__OPTION 1__: you can manually specify the table schema (see this [example](https://cloud.google.com/bigquery/docs/schemas#manually_specifying_schemas))\n",
    "\n",
    "__OPTION 2__: you can automatically infer the schema using the auto-detection (see this [example](https://cloud.google.com/bigquery/docs/schema-detect#loading_data_using_schema_auto-detection))\n",
    "\n",
    "Hint: the `:` character is a non-standard separator, you have to manage it."
   ]
  },
  {
   "cell_type": "code",
   "execution_count": 50,
   "metadata": {},
   "outputs": [
    {
     "name": "stdout",
     "output_type": "stream",
     "text": [
      "Table id: preparazione-lezione-gcp.LAB_EXERCISE.PEOPLE_1\n"
     ]
    }
   ],
   "source": [
    "# Set \"table_id\" of the table to create and the input file location.\n",
    "\n",
    "table_id = <TODO>\n",
    "file_path = <TODO>"
   ]
  },
  {
   "cell_type": "code",
   "execution_count": null,
   "metadata": {},
   "outputs": [],
   "source": [
    "# Define the BigQuery job\n",
    "\n",
    "# DOCUMENTATION: https://googleapis.dev/python/bigquery/latest/generated/google.cloud.bigquery.job.LoadJobConfig.html\n",
    "#                https://googleapis.dev/python/bigquery/latest/generated/google.cloud.bigquery.client.Client.html#google.cloud.bigquery.client.Client.load_table_from_file\n",
    "\n",
    "job_config = bigquery.LoadJobConfig(\n",
    "    <TODO>\n",
    ")\n",
    "\n",
    "\n",
    "# Open the input file, define the job\n",
    "# HINTS: use the open() function to open the file\n",
    "#        use load_table_from_file() function to define the job  \n",
    "<TODO:OPEN THE FILE>\n",
    "    <TODO:DEFINE THE JOB>\n",
    "\n",
    "# Waits for the job to complete\n",
    "job.result()  \n"
   ]
  },
  {
   "cell_type": "markdown",
   "metadata": {},
   "source": [
    "## Make a query\n",
    "\n",
    "You will have to write a query which extracts the average salary for each gender."
   ]
  },
  {
   "cell_type": "code",
   "execution_count": 57,
   "metadata": {},
   "outputs": [],
   "source": [
    "# Define the query\n",
    "query = <TODO>"
   ]
  },
  {
   "cell_type": "code",
   "execution_count": 58,
   "metadata": {},
   "outputs": [],
   "source": [
    "# Run the query\n",
    "<TODO>\n",
    "\n",
    "\n",
    "# Print the results\n",
    "<TODO>"
   ]
  },
  {
   "cell_type": "markdown",
   "metadata": {},
   "source": [
    "## Clean up"
   ]
  },
  {
   "cell_type": "code",
   "execution_count": null,
   "metadata": {},
   "outputs": [],
   "source": [
    "# Delete the dataset\n",
    "<TODO>"
   ]
  },
  {
   "cell_type": "markdown",
   "metadata": {},
   "source": [
    "##### ![Quantia Tiny Logo](https://www.quantiaconsulting.com/logos/quantia_logo_tiny.png) 2021 Quantia Consulting, srl. All rights reserved."
   ]
  }
 ],
 "metadata": {
  "kernelspec": {
   "display_name": "Python 3",
   "language": "python",
   "name": "python3"
  },
  "language_info": {
   "codemirror_mode": {
    "name": "ipython",
    "version": 3
   },
   "file_extension": ".py",
   "mimetype": "text/x-python",
   "name": "python",
   "nbconvert_exporter": "python",
   "pygments_lexer": "ipython3",
   "version": "3.8.6"
  }
 },
 "nbformat": 4,
 "nbformat_minor": 4
}
